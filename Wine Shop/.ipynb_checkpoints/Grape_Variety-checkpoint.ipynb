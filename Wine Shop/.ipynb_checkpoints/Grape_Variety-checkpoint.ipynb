{
 "cells": [
  {
   "cell_type": "code",
   "execution_count": 307,
   "metadata": {},
   "outputs": [],
   "source": [
    "# data manipulation library\n",
    "import numpy as np\n",
    "import pandas as pd\n",
    "\n",
    "# visualization library\n",
    "import matplotlib.pyplot as pl\n",
    "import seaborn as sns\n",
    "pl.style.use('seaborn-whitegrid')\n",
    "pl.rcParams['figure.figsize']=10,8\n",
    "\n",
    "# ignoring warnings\n",
    "import warnings\n",
    "warnings.filterwarnings('ignore')\n",
    "\n",
    "# library for natural language processing\n",
    "import nltk\n",
    "from nltk.corpus import stopwords\n",
    "import string\n",
    "\n",
    "# Library to convert categorical data to numeric\n",
    "from sklearn.preprocessing import LabelEncoder\n",
    "\n",
    "# countvectorizer to convert string data to numeric form of matrix\n",
    "from sklearn.feature_extraction.text import CountVectorizer\n",
    "\n",
    "# Machine learning algorithms to test accuracy\n",
    "from sklearn.model_selection import train_test_split\n",
    "from sklearn.naive_bayes import MultinomialNB\n",
    "from sklearn.linear_model import Lasso\n",
    "from sklearn.linear_model import LinearRegression\n",
    "from sklearn.linear_model import LogisticRegression\n",
    "from sklearn.tree import DecisionTreeClassifier\n",
    "from sklearn.ensemble import RandomForestClassifier"
   ]
  },
  {
   "cell_type": "code",
   "execution_count": 308,
   "metadata": {},
   "outputs": [],
   "source": [
    "# Reading training data\n",
    "data=pd.read_csv('train.csv')"
   ]
  },
  {
   "cell_type": "code",
   "execution_count": 309,
   "metadata": {},
   "outputs": [
    {
     "data": {
      "text/html": [
       "<div>\n",
       "<style scoped>\n",
       "    .dataframe tbody tr th:only-of-type {\n",
       "        vertical-align: middle;\n",
       "    }\n",
       "\n",
       "    .dataframe tbody tr th {\n",
       "        vertical-align: top;\n",
       "    }\n",
       "\n",
       "    .dataframe thead th {\n",
       "        text-align: right;\n",
       "    }\n",
       "</style>\n",
       "<table border=\"1\" class=\"dataframe\">\n",
       "  <thead>\n",
       "    <tr style=\"text-align: right;\">\n",
       "      <th></th>\n",
       "      <th>user_name</th>\n",
       "      <th>country</th>\n",
       "      <th>review_title</th>\n",
       "      <th>review_description</th>\n",
       "      <th>designation</th>\n",
       "      <th>points</th>\n",
       "      <th>price</th>\n",
       "      <th>province</th>\n",
       "      <th>region_1</th>\n",
       "      <th>region_2</th>\n",
       "      <th>winery</th>\n",
       "      <th>variety</th>\n",
       "    </tr>\n",
       "  </thead>\n",
       "  <tbody>\n",
       "    <tr>\n",
       "      <th>0</th>\n",
       "      <td>NaN</td>\n",
       "      <td>Australia</td>\n",
       "      <td>Andrew Peace 2007 Peace Family Vineyard Chardo...</td>\n",
       "      <td>Classic Chardonnay aromas of apple, pear and h...</td>\n",
       "      <td>Peace Family Vineyard</td>\n",
       "      <td>83</td>\n",
       "      <td>10.0</td>\n",
       "      <td>Australia Other</td>\n",
       "      <td>South Eastern Australia</td>\n",
       "      <td>NaN</td>\n",
       "      <td>Andrew Peace</td>\n",
       "      <td>Chardonnay</td>\n",
       "    </tr>\n",
       "    <tr>\n",
       "      <th>1</th>\n",
       "      <td>@wawinereport</td>\n",
       "      <td>US</td>\n",
       "      <td>North by Northwest 2014 Red (Columbia Valley (...</td>\n",
       "      <td>This wine is near equal parts Syrah and Merlot...</td>\n",
       "      <td>NaN</td>\n",
       "      <td>89</td>\n",
       "      <td>15.0</td>\n",
       "      <td>Washington</td>\n",
       "      <td>Columbia Valley (WA)</td>\n",
       "      <td>Columbia Valley</td>\n",
       "      <td>North by Northwest</td>\n",
       "      <td>Red Blend</td>\n",
       "    </tr>\n",
       "    <tr>\n",
       "      <th>2</th>\n",
       "      <td>NaN</td>\n",
       "      <td>Italy</td>\n",
       "      <td>Renato Ratti 2007 Conca  (Barolo)</td>\n",
       "      <td>Barolo Conca opens with inky dark concentratio...</td>\n",
       "      <td>Conca</td>\n",
       "      <td>94</td>\n",
       "      <td>80.0</td>\n",
       "      <td>Piedmont</td>\n",
       "      <td>Barolo</td>\n",
       "      <td>NaN</td>\n",
       "      <td>Renato Ratti</td>\n",
       "      <td>Nebbiolo</td>\n",
       "    </tr>\n",
       "    <tr>\n",
       "      <th>3</th>\n",
       "      <td>@vossroger</td>\n",
       "      <td>France</td>\n",
       "      <td>Domaine l'Ancienne Cure 2010 L'Abbaye White (B...</td>\n",
       "      <td>It's impressive what a small addition of Sauvi...</td>\n",
       "      <td>L'Abbaye</td>\n",
       "      <td>87</td>\n",
       "      <td>22.0</td>\n",
       "      <td>Southwest France</td>\n",
       "      <td>Bergerac Sec</td>\n",
       "      <td>NaN</td>\n",
       "      <td>Domaine l'Ancienne Cure</td>\n",
       "      <td>Bordeaux-style White Blend</td>\n",
       "    </tr>\n",
       "    <tr>\n",
       "      <th>4</th>\n",
       "      <td>@vossroger</td>\n",
       "      <td>France</td>\n",
       "      <td>Château du Cèdre 2012 Le Cèdre Vintage Malbec ...</td>\n",
       "      <td>This ripe, sweet wine is rich and full of drie...</td>\n",
       "      <td>Le Cèdre Vintage</td>\n",
       "      <td>88</td>\n",
       "      <td>33.0</td>\n",
       "      <td>France Other</td>\n",
       "      <td>Vin de Liqueur</td>\n",
       "      <td>NaN</td>\n",
       "      <td>Château du Cèdre</td>\n",
       "      <td>Malbec</td>\n",
       "    </tr>\n",
       "  </tbody>\n",
       "</table>\n",
       "</div>"
      ],
      "text/plain": [
       "       user_name    country  \\\n",
       "0            NaN  Australia   \n",
       "1  @wawinereport         US   \n",
       "2            NaN      Italy   \n",
       "3     @vossroger     France   \n",
       "4     @vossroger     France   \n",
       "\n",
       "                                        review_title  \\\n",
       "0  Andrew Peace 2007 Peace Family Vineyard Chardo...   \n",
       "1  North by Northwest 2014 Red (Columbia Valley (...   \n",
       "2                  Renato Ratti 2007 Conca  (Barolo)   \n",
       "3  Domaine l'Ancienne Cure 2010 L'Abbaye White (B...   \n",
       "4  Château du Cèdre 2012 Le Cèdre Vintage Malbec ...   \n",
       "\n",
       "                                  review_description            designation  \\\n",
       "0  Classic Chardonnay aromas of apple, pear and h...  Peace Family Vineyard   \n",
       "1  This wine is near equal parts Syrah and Merlot...                    NaN   \n",
       "2  Barolo Conca opens with inky dark concentratio...                  Conca   \n",
       "3  It's impressive what a small addition of Sauvi...               L'Abbaye   \n",
       "4  This ripe, sweet wine is rich and full of drie...       Le Cèdre Vintage   \n",
       "\n",
       "   points  price          province                 region_1         region_2  \\\n",
       "0      83   10.0   Australia Other  South Eastern Australia              NaN   \n",
       "1      89   15.0        Washington     Columbia Valley (WA)  Columbia Valley   \n",
       "2      94   80.0          Piedmont                   Barolo              NaN   \n",
       "3      87   22.0  Southwest France             Bergerac Sec              NaN   \n",
       "4      88   33.0      France Other           Vin de Liqueur              NaN   \n",
       "\n",
       "                    winery                     variety  \n",
       "0             Andrew Peace                  Chardonnay  \n",
       "1       North by Northwest                   Red Blend  \n",
       "2             Renato Ratti                    Nebbiolo  \n",
       "3  Domaine l'Ancienne Cure  Bordeaux-style White Blend  \n",
       "4         Château du Cèdre                      Malbec  "
      ]
     },
     "execution_count": 309,
     "metadata": {},
     "output_type": "execute_result"
    }
   ],
   "source": [
    "# Looking for first 5 values\n",
    "data.head()"
   ]
  },
  {
   "cell_type": "code",
   "execution_count": 310,
   "metadata": {},
   "outputs": [
    {
     "data": {
      "text/plain": [
       "user_name             19393\n",
       "country                  35\n",
       "review_title              0\n",
       "review_description        0\n",
       "designation           23647\n",
       "points                    0\n",
       "price                  5569\n",
       "province                 35\n",
       "region_1              12754\n",
       "region_2              46708\n",
       "winery                    0\n",
       "variety                   0\n",
       "dtype: int64"
      ]
     },
     "execution_count": 310,
     "metadata": {},
     "output_type": "execute_result"
    }
   ],
   "source": [
    "# Looking up for null values\n",
    "data.isnull().sum()"
   ]
  },
  {
   "cell_type": "code",
   "execution_count": 311,
   "metadata": {},
   "outputs": [
    {
     "data": {
      "text/plain": [
       "<matplotlib.axes._subplots.AxesSubplot at 0x1d0e1ca8508>"
      ]
     },
     "execution_count": 311,
     "metadata": {},
     "output_type": "execute_result"
    },
    {
     "data": {
      "image/png": "[encoded data removed]",
      "text/plain": [
       "<Figure size 720x576 with 1 Axes>"
      ]
     },
     "metadata": {},
     "output_type": "display_data"
    }
   ],
   "source": [
    "# Looking for distribution of prices range\n",
    "sns.distplot(data['price'])"
   ]
  },
  {
   "cell_type": "code",
   "execution_count": 312,
   "metadata": {},
   "outputs": [
    {
     "data": {
      "text/plain": [
       "Text(0.5, 1.0, 'Histogram of point and its distribution')"
      ]
     },
     "execution_count": 312,
     "metadata": {},
     "output_type": "execute_result"
    },
    {
     "data": {
      "image/png": "[encoded data removed]",
      "text/plain": [
       "<Figure size 720x576 with 1 Axes>"
      ]
     },
     "metadata": {},
     "output_type": "display_data"
    }
   ],
   "source": [
    "# Histogram of points and its distribution\n",
    "pl.hist(data['points'],bins=20,rwidth=0.9)\n",
    "pl.xlabel(\"Rating points between 80 to 100\")\n",
    "pl.ylabel(\"Counts in thousands\")\n",
    "pl.title(\"Histogram of point and its distribution\")"
   ]
  },
  {
   "cell_type": "code",
   "execution_count": 313,
   "metadata": {},
   "outputs": [
    {
     "data": {
      "text/plain": [
       "<matplotlib.axes._subplots.AxesSubplot at 0x1d0df1a7208>"
      ]
     },
     "execution_count": 313,
     "metadata": {},
     "output_type": "execute_result"
    },
    {
     "data": {
      "image/png": "[encoded data removed]",
      "text/plain": [
       "<Figure size 720x576 with 1 Axes>"
      ]
     },
     "metadata": {},
     "output_type": "display_data"
    }
   ],
   "source": [
    "# This figure is same as above here we can see smooth curve\n",
    "sns.distplot(data['points'])"
   ]
  },
  {
   "cell_type": "code",
   "execution_count": 314,
   "metadata": {},
   "outputs": [],
   "source": [
    "# Looking out countries producing expensive wine\n",
    "expensive_wines=data[data['price']>500]"
   ]
  },
  {
   "cell_type": "code",
   "execution_count": 129,
   "metadata": {},
   "outputs": [
    {
     "data": {
      "text/html": [
       "<style  type=\"text/css\" >\n",
       "    #T_0e6e43ca_91aa_11ea_810e_e4e74946428crow0_col1 {\n",
       "            background-color:  #f8f1f8;\n",
       "            color:  #000000;\n",
       "        }    #T_0e6e43ca_91aa_11ea_810e_e4e74946428crow1_col1 {\n",
       "            background-color:  #fdf5fa;\n",
       "            color:  #000000;\n",
       "        }    #T_0e6e43ca_91aa_11ea_810e_e4e74946428crow2_col1 {\n",
       "            background-color:  #adc1dd;\n",
       "            color:  #000000;\n",
       "        }    #T_0e6e43ca_91aa_11ea_810e_e4e74946428crow3_col1 {\n",
       "            background-color:  #eae6f1;\n",
       "            color:  #000000;\n",
       "        }    #T_0e6e43ca_91aa_11ea_810e_e4e74946428crow4_col1 {\n",
       "            background-color:  #fbf3f9;\n",
       "            color:  #000000;\n",
       "        }    #T_0e6e43ca_91aa_11ea_810e_e4e74946428crow5_col1 {\n",
       "            background-color:  #f9f2f8;\n",
       "            color:  #000000;\n",
       "        }    #T_0e6e43ca_91aa_11ea_810e_e4e74946428crow6_col1 {\n",
       "            background-color:  #f1ebf4;\n",
       "            color:  #000000;\n",
       "        }    #T_0e6e43ca_91aa_11ea_810e_e4e74946428crow7_col1 {\n",
       "            background-color:  #75a9cf;\n",
       "            color:  #000000;\n",
       "        }    #T_0e6e43ca_91aa_11ea_810e_e4e74946428crow8_col1 {\n",
       "            background-color:  #fff7fb;\n",
       "            color:  #000000;\n",
       "        }    #T_0e6e43ca_91aa_11ea_810e_e4e74946428crow9_col1 {\n",
       "            background-color:  #63a2cb;\n",
       "            color:  #000000;\n",
       "        }    #T_0e6e43ca_91aa_11ea_810e_e4e74946428crow10_col1 {\n",
       "            background-color:  #e7e3f0;\n",
       "            color:  #000000;\n",
       "        }    #T_0e6e43ca_91aa_11ea_810e_e4e74946428crow11_col1 {\n",
       "            background-color:  #f8f1f8;\n",
       "            color:  #000000;\n",
       "        }    #T_0e6e43ca_91aa_11ea_810e_e4e74946428crow12_col1 {\n",
       "            background-color:  #fcf4fa;\n",
       "            color:  #000000;\n",
       "        }    #T_0e6e43ca_91aa_11ea_810e_e4e74946428crow13_col1 {\n",
       "            background-color:  #fdf5fa;\n",
       "            color:  #000000;\n",
       "        }    #T_0e6e43ca_91aa_11ea_810e_e4e74946428crow14_col1 {\n",
       "            background-color:  #ede7f2;\n",
       "            color:  #000000;\n",
       "        }    #T_0e6e43ca_91aa_11ea_810e_e4e74946428crow15_col1 {\n",
       "            background-color:  #fdf5fa;\n",
       "            color:  #000000;\n",
       "        }    #T_0e6e43ca_91aa_11ea_810e_e4e74946428crow16_col1 {\n",
       "            background-color:  #f4eef6;\n",
       "            color:  #000000;\n",
       "        }    #T_0e6e43ca_91aa_11ea_810e_e4e74946428crow17_col1 {\n",
       "            background-color:  #faf3f9;\n",
       "            color:  #000000;\n",
       "        }    #T_0e6e43ca_91aa_11ea_810e_e4e74946428crow18_col1 {\n",
       "            background-color:  #f7f0f7;\n",
       "            color:  #000000;\n",
       "        }    #T_0e6e43ca_91aa_11ea_810e_e4e74946428crow19_col1 {\n",
       "            background-color:  #adc1dd;\n",
       "            color:  #000000;\n",
       "        }    #T_0e6e43ca_91aa_11ea_810e_e4e74946428crow20_col1 {\n",
       "            background-color:  #ede7f2;\n",
       "            color:  #000000;\n",
       "        }    #T_0e6e43ca_91aa_11ea_810e_e4e74946428crow21_col1 {\n",
       "            background-color:  #f1ebf4;\n",
       "            color:  #000000;\n",
       "        }    #T_0e6e43ca_91aa_11ea_810e_e4e74946428crow22_col1 {\n",
       "            background-color:  #f5eff6;\n",
       "            color:  #000000;\n",
       "        }    #T_0e6e43ca_91aa_11ea_810e_e4e74946428crow23_col1 {\n",
       "            background-color:  #f1ebf5;\n",
       "            color:  #000000;\n",
       "        }    #T_0e6e43ca_91aa_11ea_810e_e4e74946428crow24_col1 {\n",
       "            background-color:  #fbf4f9;\n",
       "            color:  #000000;\n",
       "        }    #T_0e6e43ca_91aa_11ea_810e_e4e74946428crow25_col1 {\n",
       "            background-color:  #d7d6e9;\n",
       "            color:  #000000;\n",
       "        }    #T_0e6e43ca_91aa_11ea_810e_e4e74946428crow26_col1 {\n",
       "            background-color:  #62a2cb;\n",
       "            color:  #000000;\n",
       "        }    #T_0e6e43ca_91aa_11ea_810e_e4e74946428crow27_col1 {\n",
       "            background-color:  #d1d2e6;\n",
       "            color:  #000000;\n",
       "        }    #T_0e6e43ca_91aa_11ea_810e_e4e74946428crow28_col1 {\n",
       "            background-color:  #fcf4fa;\n",
       "            color:  #000000;\n",
       "        }    #T_0e6e43ca_91aa_11ea_810e_e4e74946428crow29_col1 {\n",
       "            background-color:  #fdf5fa;\n",
       "            color:  #000000;\n",
       "        }    #T_0e6e43ca_91aa_11ea_810e_e4e74946428crow30_col1 {\n",
       "            background-color:  #d9d8ea;\n",
       "            color:  #000000;\n",
       "        }    #T_0e6e43ca_91aa_11ea_810e_e4e74946428crow31_col1 {\n",
       "            background-color:  #fdf5fa;\n",
       "            color:  #000000;\n",
       "        }    #T_0e6e43ca_91aa_11ea_810e_e4e74946428crow32_col1 {\n",
       "            background-color:  #fff7fb;\n",
       "            color:  #000000;\n",
       "        }    #T_0e6e43ca_91aa_11ea_810e_e4e74946428crow33_col1 {\n",
       "            background-color:  #e1dfed;\n",
       "            color:  #000000;\n",
       "        }    #T_0e6e43ca_91aa_11ea_810e_e4e74946428crow34_col1 {\n",
       "            background-color:  #fbf3f9;\n",
       "            color:  #000000;\n",
       "        }    #T_0e6e43ca_91aa_11ea_810e_e4e74946428crow35_col1 {\n",
       "            background-color:  #e3e0ee;\n",
       "            color:  #000000;\n",
       "        }    #T_0e6e43ca_91aa_11ea_810e_e4e74946428crow36_col1 {\n",
       "            background-color:  #f0eaf4;\n",
       "            color:  #000000;\n",
       "        }    #T_0e6e43ca_91aa_11ea_810e_e4e74946428crow37_col1 {\n",
       "            background-color:  #faf2f8;\n",
       "            color:  #000000;\n",
       "        }    #T_0e6e43ca_91aa_11ea_810e_e4e74946428crow38_col1 {\n",
       "            background-color:  #c5cce3;\n",
       "            color:  #000000;\n",
       "        }    #T_0e6e43ca_91aa_11ea_810e_e4e74946428crow39_col1 {\n",
       "            background-color:  #63a2cb;\n",
       "            color:  #000000;\n",
       "        }    #T_0e6e43ca_91aa_11ea_810e_e4e74946428crow40_col1 {\n",
       "            background-color:  #fef6fa;\n",
       "            color:  #000000;\n",
       "        }    #T_0e6e43ca_91aa_11ea_810e_e4e74946428crow41_col1 {\n",
       "            background-color:  #fef6fb;\n",
       "            color:  #000000;\n",
       "        }    #T_0e6e43ca_91aa_11ea_810e_e4e74946428crow42_col1 {\n",
       "            background-color:  #f5eff6;\n",
       "            color:  #000000;\n",
       "        }    #T_0e6e43ca_91aa_11ea_810e_e4e74946428crow43_col1 {\n",
       "            background-color:  #f2ecf5;\n",
       "            color:  #000000;\n",
       "        }    #T_0e6e43ca_91aa_11ea_810e_e4e74946428crow44_col1 {\n",
       "            background-color:  #fdf5fa;\n",
       "            color:  #000000;\n",
       "        }    #T_0e6e43ca_91aa_11ea_810e_e4e74946428crow45_col1 {\n",
       "            background-color:  #f8f1f8;\n",
       "            color:  #000000;\n",
       "        }    #T_0e6e43ca_91aa_11ea_810e_e4e74946428crow46_col1 {\n",
       "            background-color:  #023858;\n",
       "            color:  #f1f1f1;\n",
       "        }    #T_0e6e43ca_91aa_11ea_810e_e4e74946428crow47_col1 {\n",
       "            background-color:  #f0eaf4;\n",
       "            color:  #000000;\n",
       "        }    #T_0e6e43ca_91aa_11ea_810e_e4e74946428crow48_col1 {\n",
       "            background-color:  #f0eaf4;\n",
       "            color:  #000000;\n",
       "        }    #T_0e6e43ca_91aa_11ea_810e_e4e74946428crow49_col1 {\n",
       "            background-color:  #f1ebf4;\n",
       "            color:  #000000;\n",
       "        }    #T_0e6e43ca_91aa_11ea_810e_e4e74946428crow50_col1 {\n",
       "            background-color:  #1379b5;\n",
       "            color:  #f1f1f1;\n",
       "        }    #T_0e6e43ca_91aa_11ea_810e_e4e74946428crow51_col1 {\n",
       "            background-color:  #f9f2f8;\n",
       "            color:  #000000;\n",
       "        }    #T_0e6e43ca_91aa_11ea_810e_e4e74946428crow52_col1 {\n",
       "            background-color:  #f9f2f8;\n",
       "            color:  #000000;\n",
       "        }    #T_0e6e43ca_91aa_11ea_810e_e4e74946428crow53_col1 {\n",
       "            background-color:  #faf2f8;\n",
       "            color:  #000000;\n",
       "        }    #T_0e6e43ca_91aa_11ea_810e_e4e74946428crow54_col1 {\n",
       "            background-color:  #faf3f9;\n",
       "            color:  #000000;\n",
       "        }    #T_0e6e43ca_91aa_11ea_810e_e4e74946428crow55_col1 {\n",
       "            background-color:  #f2ecf5;\n",
       "            color:  #000000;\n",
       "        }    #T_0e6e43ca_91aa_11ea_810e_e4e74946428crow56_col1 {\n",
       "            background-color:  #fef6fb;\n",
       "            color:  #000000;\n",
       "        }    #T_0e6e43ca_91aa_11ea_810e_e4e74946428crow57_col1 {\n",
       "            background-color:  #d9d8ea;\n",
       "            color:  #000000;\n",
       "        }    #T_0e6e43ca_91aa_11ea_810e_e4e74946428crow58_col1 {\n",
       "            background-color:  #f9f2f8;\n",
       "            color:  #000000;\n",
       "        }    #T_0e6e43ca_91aa_11ea_810e_e4e74946428crow59_col1 {\n",
       "            background-color:  #f8f1f8;\n",
       "            color:  #000000;\n",
       "        }    #T_0e6e43ca_91aa_11ea_810e_e4e74946428crow60_col1 {\n",
       "            background-color:  #f6eff7;\n",
       "            color:  #000000;\n",
       "        }    #T_0e6e43ca_91aa_11ea_810e_e4e74946428crow61_col1 {\n",
       "            background-color:  #faf3f9;\n",
       "            color:  #000000;\n",
       "        }    #T_0e6e43ca_91aa_11ea_810e_e4e74946428crow62_col1 {\n",
       "            background-color:  #fef6fb;\n",
       "            color:  #000000;\n",
       "        }    #T_0e6e43ca_91aa_11ea_810e_e4e74946428crow63_col1 {\n",
       "            background-color:  #fbf4f9;\n",
       "            color:  #000000;\n",
       "        }</style><table id=\"T_0e6e43ca_91aa_11ea_810e_e4e74946428c\" ><thead>    <tr>        <th class=\"blank level0\" ></th>        <th class=\"col_heading level0 col0\" >country</th>        <th class=\"col_heading level0 col1\" >price</th>    </tr></thead><tbody>\n",
       "                <tr>\n",
       "                        <th id=\"T_0e6e43ca_91aa_11ea_810e_e4e74946428clevel0_row0\" class=\"row_heading level0 row0\" >668</th>\n",
       "                        <td id=\"T_0e6e43ca_91aa_11ea_810e_e4e74946428crow0_col0\" class=\"data row0 col0\" >France</td>\n",
       "                        <td id=\"T_0e6e43ca_91aa_11ea_810e_e4e74946428crow0_col1\" class=\"data row0 col1\" >650.000000</td>\n",
       "            </tr>\n",
       "            <tr>\n",
       "                        <th id=\"T_0e6e43ca_91aa_11ea_810e_e4e74946428clevel0_row1\" class=\"row_heading level0 row1\" >1975</th>\n",
       "                        <td id=\"T_0e6e43ca_91aa_11ea_810e_e4e74946428crow1_col0\" class=\"data row1 col0\" >France</td>\n",
       "                        <td id=\"T_0e6e43ca_91aa_11ea_810e_e4e74946428crow1_col1\" class=\"data row1 col1\" >550.000000</td>\n",
       "            </tr>\n",
       "            <tr>\n",
       "                        <th id=\"T_0e6e43ca_91aa_11ea_810e_e4e74946428clevel0_row2\" class=\"row_heading level0 row2\" >3221</th>\n",
       "                        <td id=\"T_0e6e43ca_91aa_11ea_810e_e4e74946428crow2_col0\" class=\"data row2 col0\" >France</td>\n",
       "                        <td id=\"T_0e6e43ca_91aa_11ea_810e_e4e74946428crow2_col1\" class=\"data row2 col1\" >1500.000000</td>\n",
       "            </tr>\n",
       "            <tr>\n",
       "                        <th id=\"T_0e6e43ca_91aa_11ea_810e_e4e74946428clevel0_row3\" class=\"row_heading level0 row3\" >4563</th>\n",
       "                        <td id=\"T_0e6e43ca_91aa_11ea_810e_e4e74946428crow3_col0\" class=\"data row3 col0\" >France</td>\n",
       "                        <td id=\"T_0e6e43ca_91aa_11ea_810e_e4e74946428crow3_col1\" class=\"data row3 col1\" >886.000000</td>\n",
       "            </tr>\n",
       "            <tr>\n",
       "                        <th id=\"T_0e6e43ca_91aa_11ea_810e_e4e74946428clevel0_row4\" class=\"row_heading level0 row4\" >4827</th>\n",
       "                        <td id=\"T_0e6e43ca_91aa_11ea_810e_e4e74946428crow4_col0\" class=\"data row4 col0\" >France</td>\n",
       "                        <td id=\"T_0e6e43ca_91aa_11ea_810e_e4e74946428crow4_col1\" class=\"data row4 col1\" >595.000000</td>\n",
       "            </tr>\n",
       "            <tr>\n",
       "                        <th id=\"T_0e6e43ca_91aa_11ea_810e_e4e74946428clevel0_row5\" class=\"row_heading level0 row5\" >6379</th>\n",
       "                        <td id=\"T_0e6e43ca_91aa_11ea_810e_e4e74946428crow5_col0\" class=\"data row5 col0\" >US</td>\n",
       "                        <td id=\"T_0e6e43ca_91aa_11ea_810e_e4e74946428crow5_col1\" class=\"data row5 col1\" >625.000000</td>\n",
       "            </tr>\n",
       "            <tr>\n",
       "                        <th id=\"T_0e6e43ca_91aa_11ea_810e_e4e74946428clevel0_row6\" class=\"row_heading level0 row6\" >7312</th>\n",
       "                        <td id=\"T_0e6e43ca_91aa_11ea_810e_e4e74946428crow6_col0\" class=\"data row6 col0\" >Germany</td>\n",
       "                        <td id=\"T_0e6e43ca_91aa_11ea_810e_e4e74946428crow6_col1\" class=\"data row6 col1\" >775.000000</td>\n",
       "            </tr>\n",
       "            <tr>\n",
       "                        <th id=\"T_0e6e43ca_91aa_11ea_810e_e4e74946428clevel0_row7\" class=\"row_heading level0 row7\" >7769</th>\n",
       "                        <td id=\"T_0e6e43ca_91aa_11ea_810e_e4e74946428crow7_col0\" class=\"data row7 col0\" >France</td>\n",
       "                        <td id=\"T_0e6e43ca_91aa_11ea_810e_e4e74946428crow7_col1\" class=\"data row7 col1\" >1900.000000</td>\n",
       "            </tr>\n",
       "            <tr>\n",
       "                        <th id=\"T_0e6e43ca_91aa_11ea_810e_e4e74946428clevel0_row8\" class=\"row_heading level0 row8\" >7803</th>\n",
       "                        <td id=\"T_0e6e43ca_91aa_11ea_810e_e4e74946428crow8_col0\" class=\"data row8 col0\" >Germany</td>\n",
       "                        <td id=\"T_0e6e43ca_91aa_11ea_810e_e4e74946428crow8_col1\" class=\"data row8 col1\" >510.000000</td>\n",
       "            </tr>\n",
       "            <tr>\n",
       "                        <th id=\"T_0e6e43ca_91aa_11ea_810e_e4e74946428clevel0_row9\" class=\"row_heading level0 row9\" >9133</th>\n",
       "                        <td id=\"T_0e6e43ca_91aa_11ea_810e_e4e74946428crow9_col0\" class=\"data row9 col0\" >France</td>\n",
       "                        <td id=\"T_0e6e43ca_91aa_11ea_810e_e4e74946428crow9_col1\" class=\"data row9 col1\" >2000.000000</td>\n",
       "            </tr>\n",
       "            <tr>\n",
       "                        <th id=\"T_0e6e43ca_91aa_11ea_810e_e4e74946428clevel0_row10\" class=\"row_heading level0 row10\" >9928</th>\n",
       "                        <td id=\"T_0e6e43ca_91aa_11ea_810e_e4e74946428crow10_col0\" class=\"data row10 col0\" >France</td>\n",
       "                        <td id=\"T_0e6e43ca_91aa_11ea_810e_e4e74946428crow10_col1\" class=\"data row10 col1\" >932.000000</td>\n",
       "            </tr>\n",
       "            <tr>\n",
       "                        <th id=\"T_0e6e43ca_91aa_11ea_810e_e4e74946428clevel0_row11\" class=\"row_heading level0 row11\" >10283</th>\n",
       "                        <td id=\"T_0e6e43ca_91aa_11ea_810e_e4e74946428crow11_col0\" class=\"data row11 col0\" >France</td>\n",
       "                        <td id=\"T_0e6e43ca_91aa_11ea_810e_e4e74946428crow11_col1\" class=\"data row11 col1\" >639.000000</td>\n",
       "            </tr>\n",
       "            <tr>\n",
       "                        <th id=\"T_0e6e43ca_91aa_11ea_810e_e4e74946428clevel0_row12\" class=\"row_heading level0 row12\" >11628</th>\n",
       "                        <td id=\"T_0e6e43ca_91aa_11ea_810e_e4e74946428crow12_col0\" class=\"data row12 col0\" >France</td>\n",
       "                        <td id=\"T_0e6e43ca_91aa_11ea_810e_e4e74946428crow12_col1\" class=\"data row12 col1\" >574.000000</td>\n",
       "            </tr>\n",
       "            <tr>\n",
       "                        <th id=\"T_0e6e43ca_91aa_11ea_810e_e4e74946428clevel0_row13\" class=\"row_heading level0 row13\" >11830</th>\n",
       "                        <td id=\"T_0e6e43ca_91aa_11ea_810e_e4e74946428crow13_col0\" class=\"data row13 col0\" >France</td>\n",
       "                        <td id=\"T_0e6e43ca_91aa_11ea_810e_e4e74946428crow13_col1\" class=\"data row13 col1\" >560.000000</td>\n",
       "            </tr>\n",
       "            <tr>\n",
       "                        <th id=\"T_0e6e43ca_91aa_11ea_810e_e4e74946428clevel0_row14\" class=\"row_heading level0 row14\" >11890</th>\n",
       "                        <td id=\"T_0e6e43ca_91aa_11ea_810e_e4e74946428crow14_col0\" class=\"data row14 col0\" >France</td>\n",
       "                        <td id=\"T_0e6e43ca_91aa_11ea_810e_e4e74946428crow14_col1\" class=\"data row14 col1\" >850.000000</td>\n",
       "            </tr>\n",
       "            <tr>\n",
       "                        <th id=\"T_0e6e43ca_91aa_11ea_810e_e4e74946428clevel0_row15\" class=\"row_heading level0 row15\" >13648</th>\n",
       "                        <td id=\"T_0e6e43ca_91aa_11ea_810e_e4e74946428crow15_col0\" class=\"data row15 col0\" >Italy</td>\n",
       "                        <td id=\"T_0e6e43ca_91aa_11ea_810e_e4e74946428crow15_col1\" class=\"data row15 col1\" >550.000000</td>\n",
       "            </tr>\n",
       "            <tr>\n",
       "                        <th id=\"T_0e6e43ca_91aa_11ea_810e_e4e74946428clevel0_row16\" class=\"row_heading level0 row16\" >14742</th>\n",
       "                        <td id=\"T_0e6e43ca_91aa_11ea_810e_e4e74946428crow16_col0\" class=\"data row16 col0\" >France</td>\n",
       "                        <td id=\"T_0e6e43ca_91aa_11ea_810e_e4e74946428crow16_col1\" class=\"data row16 col1\" >710.000000</td>\n",
       "            </tr>\n",
       "            <tr>\n",
       "                        <th id=\"T_0e6e43ca_91aa_11ea_810e_e4e74946428clevel0_row17\" class=\"row_heading level0 row17\" >17741</th>\n",
       "                        <td id=\"T_0e6e43ca_91aa_11ea_810e_e4e74946428crow17_col0\" class=\"data row17 col0\" >France</td>\n",
       "                        <td id=\"T_0e6e43ca_91aa_11ea_810e_e4e74946428crow17_col1\" class=\"data row17 col1\" >600.000000</td>\n",
       "            </tr>\n",
       "            <tr>\n",
       "                        <th id=\"T_0e6e43ca_91aa_11ea_810e_e4e74946428clevel0_row18\" class=\"row_heading level0 row18\" >18531</th>\n",
       "                        <td id=\"T_0e6e43ca_91aa_11ea_810e_e4e74946428crow18_col0\" class=\"data row18 col0\" >Germany</td>\n",
       "                        <td id=\"T_0e6e43ca_91aa_11ea_810e_e4e74946428crow18_col1\" class=\"data row18 col1\" >672.000000</td>\n",
       "            </tr>\n",
       "            <tr>\n",
       "                        <th id=\"T_0e6e43ca_91aa_11ea_810e_e4e74946428clevel0_row19\" class=\"row_heading level0 row19\" >19993</th>\n",
       "                        <td id=\"T_0e6e43ca_91aa_11ea_810e_e4e74946428crow19_col0\" class=\"data row19 col0\" >France</td>\n",
       "                        <td id=\"T_0e6e43ca_91aa_11ea_810e_e4e74946428crow19_col1\" class=\"data row19 col1\" >1500.000000</td>\n",
       "            </tr>\n",
       "            <tr>\n",
       "                        <th id=\"T_0e6e43ca_91aa_11ea_810e_e4e74946428clevel0_row20\" class=\"row_heading level0 row20\" >20182</th>\n",
       "                        <td id=\"T_0e6e43ca_91aa_11ea_810e_e4e74946428crow20_col0\" class=\"data row20 col0\" >France</td>\n",
       "                        <td id=\"T_0e6e43ca_91aa_11ea_810e_e4e74946428crow20_col1\" class=\"data row20 col1\" >848.000000</td>\n",
       "            </tr>\n",
       "            <tr>\n",
       "                        <th id=\"T_0e6e43ca_91aa_11ea_810e_e4e74946428clevel0_row21\" class=\"row_heading level0 row21\" >20943</th>\n",
       "                        <td id=\"T_0e6e43ca_91aa_11ea_810e_e4e74946428crow21_col0\" class=\"data row21 col0\" >Germany</td>\n",
       "                        <td id=\"T_0e6e43ca_91aa_11ea_810e_e4e74946428crow21_col1\" class=\"data row21 col1\" >775.000000</td>\n",
       "            </tr>\n",
       "            <tr>\n",
       "                        <th id=\"T_0e6e43ca_91aa_11ea_810e_e4e74946428clevel0_row22\" class=\"row_heading level0 row22\" >26533</th>\n",
       "                        <td id=\"T_0e6e43ca_91aa_11ea_810e_e4e74946428crow22_col0\" class=\"data row22 col0\" >France</td>\n",
       "                        <td id=\"T_0e6e43ca_91aa_11ea_810e_e4e74946428crow22_col1\" class=\"data row22 col1\" >685.000000</td>\n",
       "            </tr>\n",
       "            <tr>\n",
       "                        <th id=\"T_0e6e43ca_91aa_11ea_810e_e4e74946428clevel0_row23\" class=\"row_heading level0 row23\" >27423</th>\n",
       "                        <td id=\"T_0e6e43ca_91aa_11ea_810e_e4e74946428crow23_col0\" class=\"data row23 col0\" >France</td>\n",
       "                        <td id=\"T_0e6e43ca_91aa_11ea_810e_e4e74946428crow23_col1\" class=\"data row23 col1\" >767.000000</td>\n",
       "            </tr>\n",
       "            <tr>\n",
       "                        <th id=\"T_0e6e43ca_91aa_11ea_810e_e4e74946428clevel0_row24\" class=\"row_heading level0 row24\" >27604</th>\n",
       "                        <td id=\"T_0e6e43ca_91aa_11ea_810e_e4e74946428crow24_col0\" class=\"data row24 col0\" >France</td>\n",
       "                        <td id=\"T_0e6e43ca_91aa_11ea_810e_e4e74946428crow24_col1\" class=\"data row24 col1\" >580.000000</td>\n",
       "            </tr>\n",
       "            <tr>\n",
       "                        <th id=\"T_0e6e43ca_91aa_11ea_810e_e4e74946428clevel0_row25\" class=\"row_heading level0 row25\" >28866</th>\n",
       "                        <td id=\"T_0e6e43ca_91aa_11ea_810e_e4e74946428crow25_col0\" class=\"data row25 col0\" >France</td>\n",
       "                        <td id=\"T_0e6e43ca_91aa_11ea_810e_e4e74946428crow25_col1\" class=\"data row25 col1\" >1125.000000</td>\n",
       "            </tr>\n",
       "            <tr>\n",
       "                        <th id=\"T_0e6e43ca_91aa_11ea_810e_e4e74946428clevel0_row26\" class=\"row_heading level0 row26\" >29706</th>\n",
       "                        <td id=\"T_0e6e43ca_91aa_11ea_810e_e4e74946428crow26_col0\" class=\"data row26 col0\" >US</td>\n",
       "                        <td id=\"T_0e6e43ca_91aa_11ea_810e_e4e74946428crow26_col1\" class=\"data row26 col1\" >2013.000000</td>\n",
       "            </tr>\n",
       "            <tr>\n",
       "                        <th id=\"T_0e6e43ca_91aa_11ea_810e_e4e74946428clevel0_row27\" class=\"row_heading level0 row27\" >30008</th>\n",
       "                        <td id=\"T_0e6e43ca_91aa_11ea_810e_e4e74946428crow27_col0\" class=\"data row27 col0\" >France</td>\n",
       "                        <td id=\"T_0e6e43ca_91aa_11ea_810e_e4e74946428crow27_col1\" class=\"data row27 col1\" >1200.000000</td>\n",
       "            </tr>\n",
       "            <tr>\n",
       "                        <th id=\"T_0e6e43ca_91aa_11ea_810e_e4e74946428clevel0_row28\" class=\"row_heading level0 row28\" >30696</th>\n",
       "                        <td id=\"T_0e6e43ca_91aa_11ea_810e_e4e74946428crow28_col0\" class=\"data row28 col0\" >France</td>\n",
       "                        <td id=\"T_0e6e43ca_91aa_11ea_810e_e4e74946428crow28_col1\" class=\"data row28 col1\" >569.000000</td>\n",
       "            </tr>\n",
       "            <tr>\n",
       "                        <th id=\"T_0e6e43ca_91aa_11ea_810e_e4e74946428clevel0_row29\" class=\"row_heading level0 row29\" >31572</th>\n",
       "                        <td id=\"T_0e6e43ca_91aa_11ea_810e_e4e74946428crow29_col0\" class=\"data row29 col0\" >Italy</td>\n",
       "                        <td id=\"T_0e6e43ca_91aa_11ea_810e_e4e74946428crow29_col1\" class=\"data row29 col1\" >550.000000</td>\n",
       "            </tr>\n",
       "            <tr>\n",
       "                        <th id=\"T_0e6e43ca_91aa_11ea_810e_e4e74946428clevel0_row30\" class=\"row_heading level0 row30\" >32333</th>\n",
       "                        <td id=\"T_0e6e43ca_91aa_11ea_810e_e4e74946428crow30_col0\" class=\"data row30 col0\" >Austria</td>\n",
       "                        <td id=\"T_0e6e43ca_91aa_11ea_810e_e4e74946428crow30_col1\" class=\"data row30 col1\" >1100.000000</td>\n",
       "            </tr>\n",
       "            <tr>\n",
       "                        <th id=\"T_0e6e43ca_91aa_11ea_810e_e4e74946428clevel0_row31\" class=\"row_heading level0 row31\" >37412</th>\n",
       "                        <td id=\"T_0e6e43ca_91aa_11ea_810e_e4e74946428crow31_col0\" class=\"data row31 col0\" >France</td>\n",
       "                        <td id=\"T_0e6e43ca_91aa_11ea_810e_e4e74946428crow31_col1\" class=\"data row31 col1\" >545.000000</td>\n",
       "            </tr>\n",
       "            <tr>\n",
       "                        <th id=\"T_0e6e43ca_91aa_11ea_810e_e4e74946428clevel0_row32\" class=\"row_heading level0 row32\" >37518</th>\n",
       "                        <td id=\"T_0e6e43ca_91aa_11ea_810e_e4e74946428crow32_col0\" class=\"data row32 col0\" >France</td>\n",
       "                        <td id=\"T_0e6e43ca_91aa_11ea_810e_e4e74946428crow32_col1\" class=\"data row32 col1\" >510.000000</td>\n",
       "            </tr>\n",
       "            <tr>\n",
       "                        <th id=\"T_0e6e43ca_91aa_11ea_810e_e4e74946428clevel0_row33\" class=\"row_heading level0 row33\" >37965</th>\n",
       "                        <td id=\"T_0e6e43ca_91aa_11ea_810e_e4e74946428crow33_col0\" class=\"data row33 col0\" >France</td>\n",
       "                        <td id=\"T_0e6e43ca_91aa_11ea_810e_e4e74946428crow33_col1\" class=\"data row33 col1\" >1000.000000</td>\n",
       "            </tr>\n",
       "            <tr>\n",
       "                        <th id=\"T_0e6e43ca_91aa_11ea_810e_e4e74946428clevel0_row34\" class=\"row_heading level0 row34\" >42023</th>\n",
       "                        <td id=\"T_0e6e43ca_91aa_11ea_810e_e4e74946428crow34_col0\" class=\"data row34 col0\" >Italy</td>\n",
       "                        <td id=\"T_0e6e43ca_91aa_11ea_810e_e4e74946428crow34_col1\" class=\"data row34 col1\" >595.000000</td>\n",
       "            </tr>\n",
       "            <tr>\n",
       "                        <th id=\"T_0e6e43ca_91aa_11ea_810e_e4e74946428clevel0_row35\" class=\"row_heading level0 row35\" >45887</th>\n",
       "                        <td id=\"T_0e6e43ca_91aa_11ea_810e_e4e74946428crow35_col0\" class=\"data row35 col0\" >France</td>\n",
       "                        <td id=\"T_0e6e43ca_91aa_11ea_810e_e4e74946428crow35_col1\" class=\"data row35 col1\" >973.000000</td>\n",
       "            </tr>\n",
       "            <tr>\n",
       "                        <th id=\"T_0e6e43ca_91aa_11ea_810e_e4e74946428clevel0_row36\" class=\"row_heading level0 row36\" >46654</th>\n",
       "                        <td id=\"T_0e6e43ca_91aa_11ea_810e_e4e74946428crow36_col0\" class=\"data row36 col0\" >France</td>\n",
       "                        <td id=\"T_0e6e43ca_91aa_11ea_810e_e4e74946428crow36_col1\" class=\"data row36 col1\" >800.000000</td>\n",
       "            </tr>\n",
       "            <tr>\n",
       "                        <th id=\"T_0e6e43ca_91aa_11ea_810e_e4e74946428clevel0_row37\" class=\"row_heading level0 row37\" >46864</th>\n",
       "                        <td id=\"T_0e6e43ca_91aa_11ea_810e_e4e74946428crow37_col0\" class=\"data row37 col0\" >France</td>\n",
       "                        <td id=\"T_0e6e43ca_91aa_11ea_810e_e4e74946428crow37_col1\" class=\"data row37 col1\" >617.000000</td>\n",
       "            </tr>\n",
       "            <tr>\n",
       "                        <th id=\"T_0e6e43ca_91aa_11ea_810e_e4e74946428clevel0_row38\" class=\"row_heading level0 row38\" >51184</th>\n",
       "                        <td id=\"T_0e6e43ca_91aa_11ea_810e_e4e74946428crow38_col0\" class=\"data row38 col0\" >France</td>\n",
       "                        <td id=\"T_0e6e43ca_91aa_11ea_810e_e4e74946428crow38_col1\" class=\"data row38 col1\" >1300.000000</td>\n",
       "            </tr>\n",
       "            <tr>\n",
       "                        <th id=\"T_0e6e43ca_91aa_11ea_810e_e4e74946428clevel0_row39\" class=\"row_heading level0 row39\" >51441</th>\n",
       "                        <td id=\"T_0e6e43ca_91aa_11ea_810e_e4e74946428crow39_col0\" class=\"data row39 col0\" >France</td>\n",
       "                        <td id=\"T_0e6e43ca_91aa_11ea_810e_e4e74946428crow39_col1\" class=\"data row39 col1\" >2000.000000</td>\n",
       "            </tr>\n",
       "            <tr>\n",
       "                        <th id=\"T_0e6e43ca_91aa_11ea_810e_e4e74946428clevel0_row40\" class=\"row_heading level0 row40\" >55697</th>\n",
       "                        <td id=\"T_0e6e43ca_91aa_11ea_810e_e4e74946428crow40_col0\" class=\"data row40 col0\" >Italy</td>\n",
       "                        <td id=\"T_0e6e43ca_91aa_11ea_810e_e4e74946428crow40_col1\" class=\"data row40 col1\" >540.000000</td>\n",
       "            </tr>\n",
       "            <tr>\n",
       "                        <th id=\"T_0e6e43ca_91aa_11ea_810e_e4e74946428clevel0_row41\" class=\"row_heading level0 row41\" >56417</th>\n",
       "                        <td id=\"T_0e6e43ca_91aa_11ea_810e_e4e74946428crow41_col0\" class=\"data row41 col0\" >France</td>\n",
       "                        <td id=\"T_0e6e43ca_91aa_11ea_810e_e4e74946428crow41_col1\" class=\"data row41 col1\" >525.000000</td>\n",
       "            </tr>\n",
       "            <tr>\n",
       "                        <th id=\"T_0e6e43ca_91aa_11ea_810e_e4e74946428clevel0_row42\" class=\"row_heading level0 row42\" >56480</th>\n",
       "                        <td id=\"T_0e6e43ca_91aa_11ea_810e_e4e74946428crow42_col0\" class=\"data row42 col0\" >France</td>\n",
       "                        <td id=\"T_0e6e43ca_91aa_11ea_810e_e4e74946428crow42_col1\" class=\"data row42 col1\" >685.000000</td>\n",
       "            </tr>\n",
       "            <tr>\n",
       "                        <th id=\"T_0e6e43ca_91aa_11ea_810e_e4e74946428clevel0_row43\" class=\"row_heading level0 row43\" >57327</th>\n",
       "                        <td id=\"T_0e6e43ca_91aa_11ea_810e_e4e74946428crow43_col0\" class=\"data row43 col0\" >France</td>\n",
       "                        <td id=\"T_0e6e43ca_91aa_11ea_810e_e4e74946428crow43_col1\" class=\"data row43 col1\" >757.000000</td>\n",
       "            </tr>\n",
       "            <tr>\n",
       "                        <th id=\"T_0e6e43ca_91aa_11ea_810e_e4e74946428clevel0_row44\" class=\"row_heading level0 row44\" >58692</th>\n",
       "                        <td id=\"T_0e6e43ca_91aa_11ea_810e_e4e74946428crow44_col0\" class=\"data row44 col0\" >France</td>\n",
       "                        <td id=\"T_0e6e43ca_91aa_11ea_810e_e4e74946428crow44_col1\" class=\"data row44 col1\" >550.000000</td>\n",
       "            </tr>\n",
       "            <tr>\n",
       "                        <th id=\"T_0e6e43ca_91aa_11ea_810e_e4e74946428clevel0_row45\" class=\"row_heading level0 row45\" >59445</th>\n",
       "                        <td id=\"T_0e6e43ca_91aa_11ea_810e_e4e74946428crow45_col0\" class=\"data row45 col0\" >France</td>\n",
       "                        <td id=\"T_0e6e43ca_91aa_11ea_810e_e4e74946428crow45_col1\" class=\"data row45 col1\" >650.000000</td>\n",
       "            </tr>\n",
       "            <tr>\n",
       "                        <th id=\"T_0e6e43ca_91aa_11ea_810e_e4e74946428clevel0_row46\" class=\"row_heading level0 row46\" >60131</th>\n",
       "                        <td id=\"T_0e6e43ca_91aa_11ea_810e_e4e74946428crow46_col0\" class=\"data row46 col0\" >France</td>\n",
       "                        <td id=\"T_0e6e43ca_91aa_11ea_810e_e4e74946428crow46_col1\" class=\"data row46 col1\" >3300.000000</td>\n",
       "            </tr>\n",
       "            <tr>\n",
       "                        <th id=\"T_0e6e43ca_91aa_11ea_810e_e4e74946428clevel0_row47\" class=\"row_heading level0 row47\" >60541</th>\n",
       "                        <td id=\"T_0e6e43ca_91aa_11ea_810e_e4e74946428crow47_col0\" class=\"data row47 col0\" >France</td>\n",
       "                        <td id=\"T_0e6e43ca_91aa_11ea_810e_e4e74946428crow47_col1\" class=\"data row47 col1\" >800.000000</td>\n",
       "            </tr>\n",
       "            <tr>\n",
       "                        <th id=\"T_0e6e43ca_91aa_11ea_810e_e4e74946428clevel0_row48\" class=\"row_heading level0 row48\" >61550</th>\n",
       "                        <td id=\"T_0e6e43ca_91aa_11ea_810e_e4e74946428crow48_col0\" class=\"data row48 col0\" >France</td>\n",
       "                        <td id=\"T_0e6e43ca_91aa_11ea_810e_e4e74946428crow48_col1\" class=\"data row48 col1\" >800.000000</td>\n",
       "            </tr>\n",
       "            <tr>\n",
       "                        <th id=\"T_0e6e43ca_91aa_11ea_810e_e4e74946428clevel0_row49\" class=\"row_heading level0 row49\" >63365</th>\n",
       "                        <td id=\"T_0e6e43ca_91aa_11ea_810e_e4e74946428crow49_col0\" class=\"data row49 col0\" >Germany</td>\n",
       "                        <td id=\"T_0e6e43ca_91aa_11ea_810e_e4e74946428crow49_col1\" class=\"data row49 col1\" >775.000000</td>\n",
       "            </tr>\n",
       "            <tr>\n",
       "                        <th id=\"T_0e6e43ca_91aa_11ea_810e_e4e74946428clevel0_row50\" class=\"row_heading level0 row50\" >63394</th>\n",
       "                        <td id=\"T_0e6e43ca_91aa_11ea_810e_e4e74946428crow50_col0\" class=\"data row50 col0\" >France</td>\n",
       "                        <td id=\"T_0e6e43ca_91aa_11ea_810e_e4e74946428crow50_col1\" class=\"data row50 col1\" >2500.000000</td>\n",
       "            </tr>\n",
       "            <tr>\n",
       "                        <th id=\"T_0e6e43ca_91aa_11ea_810e_e4e74946428clevel0_row51\" class=\"row_heading level0 row51\" >64027</th>\n",
       "                        <td id=\"T_0e6e43ca_91aa_11ea_810e_e4e74946428crow51_col0\" class=\"data row51 col0\" >US</td>\n",
       "                        <td id=\"T_0e6e43ca_91aa_11ea_810e_e4e74946428crow51_col1\" class=\"data row51 col1\" >625.000000</td>\n",
       "            </tr>\n",
       "            <tr>\n",
       "                        <th id=\"T_0e6e43ca_91aa_11ea_810e_e4e74946428clevel0_row52\" class=\"row_heading level0 row52\" >65352</th>\n",
       "                        <td id=\"T_0e6e43ca_91aa_11ea_810e_e4e74946428crow52_col0\" class=\"data row52 col0\" >Italy</td>\n",
       "                        <td id=\"T_0e6e43ca_91aa_11ea_810e_e4e74946428crow52_col1\" class=\"data row52 col1\" >625.000000</td>\n",
       "            </tr>\n",
       "            <tr>\n",
       "                        <th id=\"T_0e6e43ca_91aa_11ea_810e_e4e74946428clevel0_row53\" class=\"row_heading level0 row53\" >66842</th>\n",
       "                        <td id=\"T_0e6e43ca_91aa_11ea_810e_e4e74946428crow53_col0\" class=\"data row53 col0\" >Germany</td>\n",
       "                        <td id=\"T_0e6e43ca_91aa_11ea_810e_e4e74946428crow53_col1\" class=\"data row53 col1\" >612.000000</td>\n",
       "            </tr>\n",
       "            <tr>\n",
       "                        <th id=\"T_0e6e43ca_91aa_11ea_810e_e4e74946428clevel0_row54\" class=\"row_heading level0 row54\" >66910</th>\n",
       "                        <td id=\"T_0e6e43ca_91aa_11ea_810e_e4e74946428crow54_col0\" class=\"data row54 col0\" >France</td>\n",
       "                        <td id=\"T_0e6e43ca_91aa_11ea_810e_e4e74946428crow54_col1\" class=\"data row54 col1\" >602.000000</td>\n",
       "            </tr>\n",
       "            <tr>\n",
       "                        <th id=\"T_0e6e43ca_91aa_11ea_810e_e4e74946428clevel0_row55\" class=\"row_heading level0 row55\" >69010</th>\n",
       "                        <td id=\"T_0e6e43ca_91aa_11ea_810e_e4e74946428crow55_col0\" class=\"data row55 col0\" >US</td>\n",
       "                        <td id=\"T_0e6e43ca_91aa_11ea_810e_e4e74946428crow55_col1\" class=\"data row55 col1\" >750.000000</td>\n",
       "            </tr>\n",
       "            <tr>\n",
       "                        <th id=\"T_0e6e43ca_91aa_11ea_810e_e4e74946428clevel0_row56\" class=\"row_heading level0 row56\" >69080</th>\n",
       "                        <td id=\"T_0e6e43ca_91aa_11ea_810e_e4e74946428crow56_col0\" class=\"data row56 col0\" >France</td>\n",
       "                        <td id=\"T_0e6e43ca_91aa_11ea_810e_e4e74946428crow56_col1\" class=\"data row56 col1\" >530.000000</td>\n",
       "            </tr>\n",
       "            <tr>\n",
       "                        <th id=\"T_0e6e43ca_91aa_11ea_810e_e4e74946428clevel0_row57\" class=\"row_heading level0 row57\" >71136</th>\n",
       "                        <td id=\"T_0e6e43ca_91aa_11ea_810e_e4e74946428crow57_col0\" class=\"data row57 col0\" >France</td>\n",
       "                        <td id=\"T_0e6e43ca_91aa_11ea_810e_e4e74946428crow57_col1\" class=\"data row57 col1\" >1100.000000</td>\n",
       "            </tr>\n",
       "            <tr>\n",
       "                        <th id=\"T_0e6e43ca_91aa_11ea_810e_e4e74946428clevel0_row58\" class=\"row_heading level0 row58\" >72231</th>\n",
       "                        <td id=\"T_0e6e43ca_91aa_11ea_810e_e4e74946428crow58_col0\" class=\"data row58 col0\" >US</td>\n",
       "                        <td id=\"T_0e6e43ca_91aa_11ea_810e_e4e74946428crow58_col1\" class=\"data row58 col1\" >625.000000</td>\n",
       "            </tr>\n",
       "            <tr>\n",
       "                        <th id=\"T_0e6e43ca_91aa_11ea_810e_e4e74946428clevel0_row59\" class=\"row_heading level0 row59\" >75481</th>\n",
       "                        <td id=\"T_0e6e43ca_91aa_11ea_810e_e4e74946428crow59_col0\" class=\"data row59 col0\" >France</td>\n",
       "                        <td id=\"T_0e6e43ca_91aa_11ea_810e_e4e74946428crow59_col1\" class=\"data row59 col1\" >630.000000</td>\n",
       "            </tr>\n",
       "            <tr>\n",
       "                        <th id=\"T_0e6e43ca_91aa_11ea_810e_e4e74946428clevel0_row60\" class=\"row_heading level0 row60\" >75792</th>\n",
       "                        <td id=\"T_0e6e43ca_91aa_11ea_810e_e4e74946428crow60_col0\" class=\"data row60 col0\" >France</td>\n",
       "                        <td id=\"T_0e6e43ca_91aa_11ea_810e_e4e74946428crow60_col1\" class=\"data row60 col1\" >675.000000</td>\n",
       "            </tr>\n",
       "            <tr>\n",
       "                        <th id=\"T_0e6e43ca_91aa_11ea_810e_e4e74946428clevel0_row61\" class=\"row_heading level0 row61\" >78596</th>\n",
       "                        <td id=\"T_0e6e43ca_91aa_11ea_810e_e4e74946428crow61_col0\" class=\"data row61 col0\" >France</td>\n",
       "                        <td id=\"T_0e6e43ca_91aa_11ea_810e_e4e74946428crow61_col1\" class=\"data row61 col1\" >600.000000</td>\n",
       "            </tr>\n",
       "            <tr>\n",
       "                        <th id=\"T_0e6e43ca_91aa_11ea_810e_e4e74946428clevel0_row62\" class=\"row_heading level0 row62\" >79032</th>\n",
       "                        <td id=\"T_0e6e43ca_91aa_11ea_810e_e4e74946428crow62_col0\" class=\"data row62 col0\" >France</td>\n",
       "                        <td id=\"T_0e6e43ca_91aa_11ea_810e_e4e74946428crow62_col1\" class=\"data row62 col1\" >530.000000</td>\n",
       "            </tr>\n",
       "            <tr>\n",
       "                        <th id=\"T_0e6e43ca_91aa_11ea_810e_e4e74946428clevel0_row63\" class=\"row_heading level0 row63\" >81363</th>\n",
       "                        <td id=\"T_0e6e43ca_91aa_11ea_810e_e4e74946428crow63_col0\" class=\"data row63 col0\" >France</td>\n",
       "                        <td id=\"T_0e6e43ca_91aa_11ea_810e_e4e74946428crow63_col1\" class=\"data row63 col1\" >580.000000</td>\n",
       "            </tr>\n",
       "    </tbody></table>"
      ],
      "text/plain": [
       "<pandas.io.formats.style.Styler at 0x1d090f22d48>"
      ]
     },
     "execution_count": 129,
     "metadata": {},
     "output_type": "execute_result"
    }
   ],
   "source": [
    "expensive_wines[['country','price']].style.background_gradient()"
   ]
  },
  {
   "cell_type": "code",
   "execution_count": 134,
   "metadata": {},
   "outputs": [
    {
     "data": {
      "text/plain": [
       "Text(0.5, 0, '')"
      ]
     },
     "execution_count": 134,
     "metadata": {},
     "output_type": "execute_result"
    },
    {
     "data": {
      "image/png": "[encoded data removed]",
      "text/plain": [
       "<Figure size 720x576 with 1 Axes>"
      ]
     },
     "metadata": {},
     "output_type": "display_data"
    }
   ],
   "source": [
    "expensive_wines.plot()\n",
    "pl.title(\"Frequency analysis of points and price of Expensive wines\")\n",
    "pl.xlabel(\"\")"
   ]
  },
  {
   "cell_type": "code",
   "execution_count": 318,
   "metadata": {},
   "outputs": [
    {
     "data": {
      "image/png": "[encoded data removed]",
      "text/plain": [
       "<Figure size 720x576 with 1 Axes>"
      ]
     },
     "metadata": {},
     "output_type": "display_data"
    }
   ],
   "source": [
    "# Here we can see France is the country producing variety of expensive wines\n",
    "grouped=expensive_wines.groupby('country')['country'].count()\n",
    "pl.barh(range(len(grouped)),grouped)\n",
    "pl.yticks(range(len(grouped)),grouped.keys())\n",
    "pl.ylabel('Country')\n",
    "pl.xlabel('Count')\n",
    "pl.title(\"Country producing expensive wines\")\n",
    "pl.show()"
   ]
  },
  {
   "cell_type": "code",
   "execution_count": 138,
   "metadata": {},
   "outputs": [
    {
     "data": {
      "text/plain": [
       "Text(0.5, 1.0, 'Wine counts based on raings')"
      ]
     },
     "execution_count": 138,
     "metadata": {},
     "output_type": "execute_result"
    },
    {
     "data": {
      "image/png": "[encoded data removed]",
      "text/plain": [
       "<Figure size 720x576 with 1 Axes>"
      ]
     },
     "metadata": {},
     "output_type": "display_data"
    }
   ],
   "source": [
    "sns.countplot(data['points'])\n",
    "pl.title(\"Wine counts based on raings\")"
   ]
  },
  {
   "cell_type": "code",
   "execution_count": 319,
   "metadata": {},
   "outputs": [
    {
     "data": {
      "image/png": "[encoded data removed]",
      "text/plain": [
       "<Figure size 720x576 with 1 Axes>"
      ]
     },
     "metadata": {},
     "output_type": "display_data"
    }
   ],
   "source": [
    "# This chart shows country count of variety of graphs\n",
    "grouped=data.groupby('variety')['variety'].count()\n",
    "pl.bar(range(len(grouped)),grouped)\n",
    "pl.xticks(range(len(grouped)),grouped.keys(),rotation=90)\n",
    "pl.title(\"Chart showing number of varieties of grapes\")\n",
    "pl.show()"
   ]
  },
  {
   "cell_type": "code",
   "execution_count": 320,
   "metadata": {},
   "outputs": [
    {
     "data": {
      "text/plain": [
       "Index(['Bordeaux-style Red Blend', 'Bordeaux-style White Blend',\n",
       "       'Cabernet Franc', 'Cabernet Sauvignon', 'Champagne Blend', 'Chardonnay',\n",
       "       'Gamay', 'Gewürztraminer', 'Grüner Veltliner', 'Malbec', 'Merlot',\n",
       "       'Nebbiolo', 'Pinot Grigio', 'Pinot Gris', 'Pinot Noir',\n",
       "       'Portuguese Red', 'Portuguese White', 'Red Blend',\n",
       "       'Rhône-style Red Blend', 'Riesling', 'Rosé', 'Sangiovese',\n",
       "       'Sauvignon Blanc', 'Sparkling Blend', 'Syrah', 'Tempranillo',\n",
       "       'White Blend', 'Zinfandel'],\n",
       "      dtype='object', name='variety')"
      ]
     },
     "execution_count": 320,
     "metadata": {},
     "output_type": "execute_result"
    }
   ],
   "source": [
    "grouped.keys()"
   ]
  },
  {
   "cell_type": "code",
   "execution_count": 322,
   "metadata": {},
   "outputs": [],
   "source": [
    "data1=data.copy()"
   ]
  },
  {
   "cell_type": "code",
   "execution_count": 323,
   "metadata": {},
   "outputs": [],
   "source": [
    "# Only selecting necessary features\n",
    "data1=data1[['country','review_description','points','winery','variety']]"
   ]
  },
  {
   "cell_type": "code",
   "execution_count": 176,
   "metadata": {},
   "outputs": [
    {
     "data": {
      "text/plain": [
       "(82657, 5)"
      ]
     },
     "execution_count": 176,
     "metadata": {},
     "output_type": "execute_result"
    }
   ],
   "source": [
    "data1.shape"
   ]
  },
  {
   "cell_type": "code",
   "execution_count": 177,
   "metadata": {},
   "outputs": [
    {
     "data": {
      "text/plain": [
       "country               35\n",
       "review_description     0\n",
       "points                 0\n",
       "winery                 0\n",
       "variety                0\n",
       "dtype: int64"
      ]
     },
     "execution_count": 177,
     "metadata": {},
     "output_type": "execute_result"
    }
   ],
   "source": [
    "data1.isnull().sum()"
   ]
  },
  {
   "cell_type": "code",
   "execution_count": 324,
   "metadata": {},
   "outputs": [],
   "source": [
    "# Deleting duplicate values and dropping all null values\n",
    "data1.drop_duplicates(inplace=True)\n",
    "data1.dropna(inplace=True)"
   ]
  },
  {
   "cell_type": "code",
   "execution_count": 179,
   "metadata": {},
   "outputs": [
    {
     "data": {
      "text/plain": [
       "(77606, 5)"
      ]
     },
     "execution_count": 179,
     "metadata": {},
     "output_type": "execute_result"
    }
   ],
   "source": [
    "data1.shape"
   ]
  },
  {
   "cell_type": "code",
   "execution_count": 180,
   "metadata": {},
   "outputs": [
    {
     "data": {
      "text/plain": [
       "(28,\n",
       " (array(['Bordeaux-style Red Blend', 'Bordeaux-style White Blend',\n",
       "         'Cabernet Franc', 'Cabernet Sauvignon', 'Champagne Blend',\n",
       "         'Chardonnay', 'Gamay', 'Gewürztraminer', 'Grüner Veltliner',\n",
       "         'Malbec', 'Merlot', 'Nebbiolo', 'Pinot Grigio', 'Pinot Gris',\n",
       "         'Pinot Noir', 'Portuguese Red', 'Portuguese White', 'Red Blend',\n",
       "         'Rhône-style Red Blend', 'Riesling', 'Rosé', 'Sangiovese',\n",
       "         'Sauvignon Blanc', 'Sparkling Blend', 'Syrah', 'Tempranillo',\n",
       "         'White Blend', 'Zinfandel'], dtype=object),\n",
       "  array([5206,  806, 1027, 7153, 1075, 8833,  759,  791,  976, 1985, 2336,\n",
       "         2112,  820, 1062, 9963, 1843,  835, 6720, 1102, 3876, 2606, 2006,\n",
       "         3748, 1621, 3116, 1364, 1774, 2091], dtype=int64)))"
      ]
     },
     "execution_count": 180,
     "metadata": {},
     "output_type": "execute_result"
    }
   ],
   "source": [
    "data1['variety'].nunique(),np.unique(data1['variety'],return_counts=True)"
   ]
  },
  {
   "cell_type": "code",
   "execution_count": 181,
   "metadata": {},
   "outputs": [
    {
     "data": {
      "text/html": [
       "<div>\n",
       "<style scoped>\n",
       "    .dataframe tbody tr th:only-of-type {\n",
       "        vertical-align: middle;\n",
       "    }\n",
       "\n",
       "    .dataframe tbody tr th {\n",
       "        vertical-align: top;\n",
       "    }\n",
       "\n",
       "    .dataframe thead th {\n",
       "        text-align: right;\n",
       "    }\n",
       "</style>\n",
       "<table border=\"1\" class=\"dataframe\">\n",
       "  <thead>\n",
       "    <tr style=\"text-align: right;\">\n",
       "      <th></th>\n",
       "      <th>country</th>\n",
       "      <th>review_description</th>\n",
       "      <th>points</th>\n",
       "      <th>winery</th>\n",
       "      <th>variety</th>\n",
       "    </tr>\n",
       "  </thead>\n",
       "  <tbody>\n",
       "    <tr>\n",
       "      <th>0</th>\n",
       "      <td>Australia</td>\n",
       "      <td>Classic Chardonnay aromas of apple, pear and h...</td>\n",
       "      <td>83</td>\n",
       "      <td>Andrew Peace</td>\n",
       "      <td>Chardonnay</td>\n",
       "    </tr>\n",
       "    <tr>\n",
       "      <th>1</th>\n",
       "      <td>US</td>\n",
       "      <td>This wine is near equal parts Syrah and Merlot...</td>\n",
       "      <td>89</td>\n",
       "      <td>North by Northwest</td>\n",
       "      <td>Red Blend</td>\n",
       "    </tr>\n",
       "    <tr>\n",
       "      <th>2</th>\n",
       "      <td>Italy</td>\n",
       "      <td>Barolo Conca opens with inky dark concentratio...</td>\n",
       "      <td>94</td>\n",
       "      <td>Renato Ratti</td>\n",
       "      <td>Nebbiolo</td>\n",
       "    </tr>\n",
       "    <tr>\n",
       "      <th>3</th>\n",
       "      <td>France</td>\n",
       "      <td>It's impressive what a small addition of Sauvi...</td>\n",
       "      <td>87</td>\n",
       "      <td>Domaine l'Ancienne Cure</td>\n",
       "      <td>Bordeaux-style White Blend</td>\n",
       "    </tr>\n",
       "    <tr>\n",
       "      <th>4</th>\n",
       "      <td>France</td>\n",
       "      <td>This ripe, sweet wine is rich and full of drie...</td>\n",
       "      <td>88</td>\n",
       "      <td>Château du Cèdre</td>\n",
       "      <td>Malbec</td>\n",
       "    </tr>\n",
       "  </tbody>\n",
       "</table>\n",
       "</div>"
      ],
      "text/plain": [
       "     country                                 review_description  points  \\\n",
       "0  Australia  Classic Chardonnay aromas of apple, pear and h...      83   \n",
       "1         US  This wine is near equal parts Syrah and Merlot...      89   \n",
       "2      Italy  Barolo Conca opens with inky dark concentratio...      94   \n",
       "3     France  It's impressive what a small addition of Sauvi...      87   \n",
       "4     France  This ripe, sweet wine is rich and full of drie...      88   \n",
       "\n",
       "                    winery                     variety  \n",
       "0             Andrew Peace                  Chardonnay  \n",
       "1       North by Northwest                   Red Blend  \n",
       "2             Renato Ratti                    Nebbiolo  \n",
       "3  Domaine l'Ancienne Cure  Bordeaux-style White Blend  \n",
       "4         Château du Cèdre                      Malbec  "
      ]
     },
     "execution_count": 181,
     "metadata": {},
     "output_type": "execute_result"
    }
   ],
   "source": [
    "data1.head()"
   ]
  },
  {
   "cell_type": "code",
   "execution_count": 182,
   "metadata": {},
   "outputs": [
    {
     "data": {
      "text/plain": [
       "(38,\n",
       " (array(['Argentina', 'Australia', 'Austria', 'Brazil', 'Bulgaria',\n",
       "         'Canada', 'Chile', 'Croatia', 'Cyprus', 'Czech Republic',\n",
       "         'England', 'France', 'Georgia', 'Germany', 'Greece', 'Hungary',\n",
       "         'India', 'Israel', 'Italy', 'Lebanon', 'Luxembourg', 'Macedonia',\n",
       "         'Mexico', 'Moldova', 'Morocco', 'New Zealand', 'Peru', 'Portugal',\n",
       "         'Romania', 'Serbia', 'Slovenia', 'South Africa', 'Spain',\n",
       "         'Switzerland', 'Turkey', 'US', 'Ukraine', 'Uruguay'], dtype=object),\n",
       "  array([ 2433,   976,  1770,    28,    91,   153,  2740,    12,     6,\n",
       "             3,    55, 14968,    11,  1466,   135,    32,     1,   303,\n",
       "          8543,    27,     4,     4,    38,    34,    19,  1033,     8,\n",
       "          2998,    69,     3,    38,   678,  2583,     4,    32, 36268,\n",
       "            11,    29], dtype=int64)))"
      ]
     },
     "execution_count": 182,
     "metadata": {},
     "output_type": "execute_result"
    }
   ],
   "source": [
    "data1['country'].nunique(),np.unique(data1['country'],return_counts=True)"
   ]
  },
  {
   "cell_type": "code",
   "execution_count": 183,
   "metadata": {},
   "outputs": [
    {
     "data": {
      "text/plain": [
       "0        Classic Chardonnay aromas of apple, pear and h...\n",
       "1        This wine is near equal parts Syrah and Merlot...\n",
       "2        Barolo Conca opens with inky dark concentratio...\n",
       "3        It's impressive what a small addition of Sauvi...\n",
       "4        This ripe, sweet wine is rich and full of drie...\n",
       "                               ...                        \n",
       "82651    Made in a drier, tarter style than the winery'...\n",
       "82652    Hot earth, baked cherry and mild vanilla aroma...\n",
       "82653    Pungent, high-pitched notes of turmeric and dr...\n",
       "82654    This is a wine that's not just lively and frui...\n",
       "82656    A big, rich, vital Cabernet with immediate att...\n",
       "Name: review_description, Length: 77606, dtype: object"
      ]
     },
     "execution_count": 183,
     "metadata": {},
     "output_type": "execute_result"
    }
   ],
   "source": [
    "data1['review_description']"
   ]
  },
  {
   "cell_type": "code",
   "execution_count": 184,
   "metadata": {},
   "outputs": [],
   "source": [
    "data2=data1.copy()"
   ]
  },
  {
   "cell_type": "code",
   "execution_count": 192,
   "metadata": {},
   "outputs": [
    {
     "data": {
      "text/plain": [
       "Text(0, 0.5, 'Count by Countries')"
      ]
     },
     "execution_count": 192,
     "metadata": {},
     "output_type": "execute_result"
    },
    {
     "data": {
      "image/png": "[encoded data removed]",
      "text/plain": [
       "<Figure size 720x576 with 1 Axes>"
      ]
     },
     "metadata": {},
     "output_type": "display_data"
    }
   ],
   "source": [
    "# This chart shows countries that are producing wine\n",
    "data2.groupby('country')['country'].count().sort_values().plot(kind='bar')\n",
    "pl.title(\"Countries producing wine\")\n",
    "pl.ylabel('Count by Countries')"
   ]
  },
  {
   "cell_type": "code",
   "execution_count": 193,
   "metadata": {},
   "outputs": [
    {
     "data": {
      "image/png": "[encoded data removed]",
      "text/plain": [
       "<Figure size 720x576 with 1 Axes>"
      ]
     },
     "metadata": {},
     "output_type": "display_data"
    }
   ],
   "source": [
    "a=data2.groupby('country')['country'].count().sort_values()\n",
    "pl.pie(a,labels=a.keys(),autopct='%1.2f%%',labeldistance=1,rotatelabels=180)\n",
    "pl.tight_layout()\n",
    "pl.show()"
   ]
  },
  {
   "cell_type": "code",
   "execution_count": 186,
   "metadata": {},
   "outputs": [],
   "source": [
    "# This function takes a sentence and removes punctuations from it and also \n",
    "# removes stop words from it and sends clean words.. Stop words are like I,\n",
    "# because, where, when etc....\n",
    "\n",
    "def process_text(text):\n",
    "#     1. Remove punctuation\n",
    "#     2. Remove Stopwords\n",
    "#     3. Return list of clean words\n",
    "\n",
    "#     1\n",
    "    nonpunc=[char for char in text if char not in string.punctuation]\n",
    "#     print(nonpunc)\n",
    "    nonpunc=''.join(nonpunc)\n",
    "#     print(nonpunc)\n",
    "#     2\n",
    "    #Clean Words\n",
    "    clean_words=[word for word in nonpunc.split() if word.lower() not in stopwords.words('english')]\n",
    "    \n",
    "#     3\n",
    "    return clean_words"
   ]
  },
  {
   "cell_type": "code",
   "execution_count": 28,
   "metadata": {},
   "outputs": [],
   "source": [
    "encoder=LabelEncoder()"
   ]
  },
  {
   "cell_type": "code",
   "execution_count": 188,
   "metadata": {},
   "outputs": [],
   "source": [
    "data2['Variety']=encoder.fit_transform(data2['variety'])"
   ]
  },
  {
   "cell_type": "code",
   "execution_count": 195,
   "metadata": {},
   "outputs": [],
   "source": [
    "data3=data2.copy()"
   ]
  },
  {
   "cell_type": "code",
   "execution_count": 199,
   "metadata": {},
   "outputs": [],
   "source": [
    "data3.points[data3['points']<84]=1\n",
    "data3.points[(data3['points']>=84)&(data['points']<88)]=2\n",
    "data3.points[(data['points']>=88)&(data['points']<92)]=3\n",
    "data3.points[(data['points']>=92)&(data['points']<96)]=4\n",
    "data3.points[data['points']>=96]=5"
   ]
  },
  {
   "cell_type": "code",
   "execution_count": 201,
   "metadata": {},
   "outputs": [
    {
     "data": {
      "text/html": [
       "<div>\n",
       "<style scoped>\n",
       "    .dataframe tbody tr th:only-of-type {\n",
       "        vertical-align: middle;\n",
       "    }\n",
       "\n",
       "    .dataframe tbody tr th {\n",
       "        vertical-align: top;\n",
       "    }\n",
       "\n",
       "    .dataframe thead th {\n",
       "        text-align: right;\n",
       "    }\n",
       "</style>\n",
       "<table border=\"1\" class=\"dataframe\">\n",
       "  <thead>\n",
       "    <tr style=\"text-align: right;\">\n",
       "      <th></th>\n",
       "      <th>country</th>\n",
       "      <th>review_description</th>\n",
       "      <th>points</th>\n",
       "      <th>winery</th>\n",
       "      <th>variety</th>\n",
       "      <th>Variety</th>\n",
       "    </tr>\n",
       "  </thead>\n",
       "  <tbody>\n",
       "    <tr>\n",
       "      <th>0</th>\n",
       "      <td>Australia</td>\n",
       "      <td>Classic Chardonnay aromas of apple, pear and h...</td>\n",
       "      <td>1</td>\n",
       "      <td>Andrew Peace</td>\n",
       "      <td>Chardonnay</td>\n",
       "      <td>5</td>\n",
       "    </tr>\n",
       "    <tr>\n",
       "      <th>1</th>\n",
       "      <td>US</td>\n",
       "      <td>This wine is near equal parts Syrah and Merlot...</td>\n",
       "      <td>3</td>\n",
       "      <td>North by Northwest</td>\n",
       "      <td>Red Blend</td>\n",
       "      <td>17</td>\n",
       "    </tr>\n",
       "    <tr>\n",
       "      <th>2</th>\n",
       "      <td>Italy</td>\n",
       "      <td>Barolo Conca opens with inky dark concentratio...</td>\n",
       "      <td>4</td>\n",
       "      <td>Renato Ratti</td>\n",
       "      <td>Nebbiolo</td>\n",
       "      <td>11</td>\n",
       "    </tr>\n",
       "    <tr>\n",
       "      <th>3</th>\n",
       "      <td>France</td>\n",
       "      <td>It's impressive what a small addition of Sauvi...</td>\n",
       "      <td>1</td>\n",
       "      <td>Domaine l'Ancienne Cure</td>\n",
       "      <td>Bordeaux-style White Blend</td>\n",
       "      <td>1</td>\n",
       "    </tr>\n",
       "    <tr>\n",
       "      <th>4</th>\n",
       "      <td>France</td>\n",
       "      <td>This ripe, sweet wine is rich and full of drie...</td>\n",
       "      <td>3</td>\n",
       "      <td>Château du Cèdre</td>\n",
       "      <td>Malbec</td>\n",
       "      <td>9</td>\n",
       "    </tr>\n",
       "  </tbody>\n",
       "</table>\n",
       "</div>"
      ],
      "text/plain": [
       "     country                                 review_description  points  \\\n",
       "0  Australia  Classic Chardonnay aromas of apple, pear and h...       1   \n",
       "1         US  This wine is near equal parts Syrah and Merlot...       3   \n",
       "2      Italy  Barolo Conca opens with inky dark concentratio...       4   \n",
       "3     France  It's impressive what a small addition of Sauvi...       1   \n",
       "4     France  This ripe, sweet wine is rich and full of drie...       3   \n",
       "\n",
       "                    winery                     variety  Variety  \n",
       "0             Andrew Peace                  Chardonnay        5  \n",
       "1       North by Northwest                   Red Blend       17  \n",
       "2             Renato Ratti                    Nebbiolo       11  \n",
       "3  Domaine l'Ancienne Cure  Bordeaux-style White Blend        1  \n",
       "4         Château du Cèdre                      Malbec        9  "
      ]
     },
     "execution_count": 201,
     "metadata": {},
     "output_type": "execute_result"
    }
   ],
   "source": [
    "data3.head()"
   ]
  },
  {
   "cell_type": "code",
   "execution_count": 197,
   "metadata": {},
   "outputs": [
    {
     "data": {
      "text/plain": [
       "<matplotlib.axes._subplots.AxesSubplot at 0x1d09468fa88>"
      ]
     },
     "execution_count": 197,
     "metadata": {},
     "output_type": "execute_result"
    },
    {
     "data": {
      "image/png": "[encoded data removed]",
      "text/plain": [
       "<Figure size 720x576 with 1 Axes>"
      ]
     },
     "metadata": {},
     "output_type": "display_data"
    }
   ],
   "source": [
    "data3.boxplot()"
   ]
  },
  {
   "cell_type": "code",
   "execution_count": 202,
   "metadata": {},
   "outputs": [
    {
     "data": {
      "text/html": [
       "<div>\n",
       "<style scoped>\n",
       "    .dataframe tbody tr th:only-of-type {\n",
       "        vertical-align: middle;\n",
       "    }\n",
       "\n",
       "    .dataframe tbody tr th {\n",
       "        vertical-align: top;\n",
       "    }\n",
       "\n",
       "    .dataframe thead th {\n",
       "        text-align: right;\n",
       "    }\n",
       "</style>\n",
       "<table border=\"1\" class=\"dataframe\">\n",
       "  <thead>\n",
       "    <tr style=\"text-align: right;\">\n",
       "      <th></th>\n",
       "      <th>country</th>\n",
       "      <th>review_description</th>\n",
       "      <th>points</th>\n",
       "      <th>winery</th>\n",
       "      <th>variety</th>\n",
       "      <th>Variety</th>\n",
       "    </tr>\n",
       "  </thead>\n",
       "  <tbody>\n",
       "    <tr>\n",
       "      <th>0</th>\n",
       "      <td>Australia</td>\n",
       "      <td>Classic Chardonnay aromas of apple, pear and h...</td>\n",
       "      <td>1</td>\n",
       "      <td>Andrew Peace</td>\n",
       "      <td>Chardonnay</td>\n",
       "      <td>5</td>\n",
       "    </tr>\n",
       "    <tr>\n",
       "      <th>1</th>\n",
       "      <td>US</td>\n",
       "      <td>This wine is near equal parts Syrah and Merlot...</td>\n",
       "      <td>3</td>\n",
       "      <td>North by Northwest</td>\n",
       "      <td>Red Blend</td>\n",
       "      <td>17</td>\n",
       "    </tr>\n",
       "    <tr>\n",
       "      <th>2</th>\n",
       "      <td>Italy</td>\n",
       "      <td>Barolo Conca opens with inky dark concentratio...</td>\n",
       "      <td>4</td>\n",
       "      <td>Renato Ratti</td>\n",
       "      <td>Nebbiolo</td>\n",
       "      <td>11</td>\n",
       "    </tr>\n",
       "    <tr>\n",
       "      <th>3</th>\n",
       "      <td>France</td>\n",
       "      <td>It's impressive what a small addition of Sauvi...</td>\n",
       "      <td>1</td>\n",
       "      <td>Domaine l'Ancienne Cure</td>\n",
       "      <td>Bordeaux-style White Blend</td>\n",
       "      <td>1</td>\n",
       "    </tr>\n",
       "    <tr>\n",
       "      <th>4</th>\n",
       "      <td>France</td>\n",
       "      <td>This ripe, sweet wine is rich and full of drie...</td>\n",
       "      <td>3</td>\n",
       "      <td>Château du Cèdre</td>\n",
       "      <td>Malbec</td>\n",
       "      <td>9</td>\n",
       "    </tr>\n",
       "  </tbody>\n",
       "</table>\n",
       "</div>"
      ],
      "text/plain": [
       "     country                                 review_description  points  \\\n",
       "0  Australia  Classic Chardonnay aromas of apple, pear and h...       1   \n",
       "1         US  This wine is near equal parts Syrah and Merlot...       3   \n",
       "2      Italy  Barolo Conca opens with inky dark concentratio...       4   \n",
       "3     France  It's impressive what a small addition of Sauvi...       1   \n",
       "4     France  This ripe, sweet wine is rich and full of drie...       3   \n",
       "\n",
       "                    winery                     variety  Variety  \n",
       "0             Andrew Peace                  Chardonnay        5  \n",
       "1       North by Northwest                   Red Blend       17  \n",
       "2             Renato Ratti                    Nebbiolo       11  \n",
       "3  Domaine l'Ancienne Cure  Bordeaux-style White Blend        1  \n",
       "4         Château du Cèdre                      Malbec        9  "
      ]
     },
     "execution_count": 202,
     "metadata": {},
     "output_type": "execute_result"
    }
   ],
   "source": [
    "data4=data3.copy()\n",
    "data4.head()"
   ]
  },
  {
   "cell_type": "code",
   "execution_count": 265,
   "metadata": {},
   "outputs": [],
   "source": [
    "cv_model=CountVectorizer(analyzer=process_text)\n",
    "X=cv_model.fit_transform(data4['review_description'])"
   ]
  },
  {
   "cell_type": "code",
   "execution_count": 266,
   "metadata": {},
   "outputs": [],
   "source": [
    "y=data4['Variety']"
   ]
  },
  {
   "cell_type": "code",
   "execution_count": 222,
   "metadata": {},
   "outputs": [],
   "source": [
    "classifier=MultinomialNB().fit(X,y)"
   ]
  },
  {
   "cell_type": "code",
   "execution_count": 225,
   "metadata": {},
   "outputs": [
    {
     "data": {
      "text/plain": [
       "0.6468572017627503"
      ]
     },
     "execution_count": 225,
     "metadata": {},
     "output_type": "execute_result"
    }
   ],
   "source": [
    "classifier.score(X,y)"
   ]
  },
  {
   "cell_type": "code",
   "execution_count": 281,
   "metadata": {},
   "outputs": [],
   "source": [
    "\n",
    "logreg=LogisticRegression()\n",
    "linreg=LinearRegression()\n",
    "dec_tree=DecisionTreeClassifier()\n",
    "forest=RandomForestClassifier()"
   ]
  },
  {
   "cell_type": "code",
   "execution_count": 228,
   "metadata": {},
   "outputs": [
    {
     "data": {
      "text/plain": [
       "LinearRegression(copy_X=True, fit_intercept=True, n_jobs=None, normalize=False)"
      ]
     },
     "execution_count": 228,
     "metadata": {},
     "output_type": "execute_result"
    }
   ],
   "source": [
    "logreg.fit(X,y)\n",
    "linreg.fit(X,y)"
   ]
  },
  {
   "cell_type": "code",
   "execution_count": 229,
   "metadata": {},
   "outputs": [
    {
     "data": {
      "text/plain": [
       "(0.9008968378733603, 0.6991199140029574)"
      ]
     },
     "execution_count": 229,
     "metadata": {},
     "output_type": "execute_result"
    }
   ],
   "source": [
    "logreg.score(X,y),linreg.score(X,y)"
   ]
  },
  {
   "cell_type": "code",
   "execution_count": 282,
   "metadata": {},
   "outputs": [
    {
     "data": {
      "text/plain": [
       "DecisionTreeClassifier(ccp_alpha=0.0, class_weight=None, criterion='gini',\n",
       "                       max_depth=None, max_features=None, max_leaf_nodes=None,\n",
       "                       min_impurity_decrease=0.0, min_impurity_split=None,\n",
       "                       min_samples_leaf=1, min_samples_split=2,\n",
       "                       min_weight_fraction_leaf=0.0, presort='deprecated',\n",
       "                       random_state=None, splitter='best')"
      ]
     },
     "execution_count": 282,
     "metadata": {},
     "output_type": "execute_result"
    }
   ],
   "source": [
    "dec_tree.fit(X,y)"
   ]
  },
  {
   "cell_type": "code",
   "execution_count": 283,
   "metadata": {},
   "outputs": [
    {
     "data": {
      "text/plain": [
       "0.999948457593485"
      ]
     },
     "execution_count": 283,
     "metadata": {},
     "output_type": "execute_result"
    }
   ],
   "source": [
    "dec_tree.score(X,y)"
   ]
  },
  {
   "cell_type": "code",
   "execution_count": 284,
   "metadata": {},
   "outputs": [
    {
     "data": {
      "text/plain": [
       "0.999948457593485"
      ]
     },
     "execution_count": 284,
     "metadata": {},
     "output_type": "execute_result"
    }
   ],
   "source": [
    "forest.fit(X,y)\n",
    "forest.score(X,y)"
   ]
  },
  {
   "cell_type": "code",
   "execution_count": 292,
   "metadata": {},
   "outputs": [],
   "source": [
    "test_data=pd.read_csv('test.csv')"
   ]
  },
  {
   "cell_type": "code",
   "execution_count": 293,
   "metadata": {},
   "outputs": [
    {
     "data": {
      "text/html": [
       "<div>\n",
       "<style scoped>\n",
       "    .dataframe tbody tr th:only-of-type {\n",
       "        vertical-align: middle;\n",
       "    }\n",
       "\n",
       "    .dataframe tbody tr th {\n",
       "        vertical-align: top;\n",
       "    }\n",
       "\n",
       "    .dataframe thead th {\n",
       "        text-align: right;\n",
       "    }\n",
       "</style>\n",
       "<table border=\"1\" class=\"dataframe\">\n",
       "  <thead>\n",
       "    <tr style=\"text-align: right;\">\n",
       "      <th></th>\n",
       "      <th>user_name</th>\n",
       "      <th>country</th>\n",
       "      <th>review_title</th>\n",
       "      <th>review_description</th>\n",
       "      <th>designation</th>\n",
       "      <th>points</th>\n",
       "      <th>price</th>\n",
       "      <th>province</th>\n",
       "      <th>region_1</th>\n",
       "      <th>region_2</th>\n",
       "      <th>winery</th>\n",
       "    </tr>\n",
       "  </thead>\n",
       "  <tbody>\n",
       "    <tr>\n",
       "      <th>0</th>\n",
       "      <td>@paulgwine</td>\n",
       "      <td>US</td>\n",
       "      <td>Boedecker Cellars 2011 Athena Pinot Noir (Will...</td>\n",
       "      <td>Nicely differentiated from the companion Stewa...</td>\n",
       "      <td>Athena</td>\n",
       "      <td>88</td>\n",
       "      <td>35.0</td>\n",
       "      <td>Oregon</td>\n",
       "      <td>Willamette Valley</td>\n",
       "      <td>Willamette Valley</td>\n",
       "      <td>Boedecker Cellars</td>\n",
       "    </tr>\n",
       "    <tr>\n",
       "      <th>1</th>\n",
       "      <td>@wineschach</td>\n",
       "      <td>Argentina</td>\n",
       "      <td>Mendoza Vineyards 2012 Gran Reserva by Richard...</td>\n",
       "      <td>Charred, smoky, herbal aromas of blackberry tr...</td>\n",
       "      <td>Gran Reserva by Richard Bonvin</td>\n",
       "      <td>90</td>\n",
       "      <td>60.0</td>\n",
       "      <td>Mendoza Province</td>\n",
       "      <td>Mendoza</td>\n",
       "      <td>NaN</td>\n",
       "      <td>Mendoza Vineyards</td>\n",
       "    </tr>\n",
       "    <tr>\n",
       "      <th>2</th>\n",
       "      <td>@vboone</td>\n",
       "      <td>US</td>\n",
       "      <td>Prime 2013 Chardonnay (Coombsville)</td>\n",
       "      <td>Slightly sour and funky in earth, this is a re...</td>\n",
       "      <td>NaN</td>\n",
       "      <td>87</td>\n",
       "      <td>38.0</td>\n",
       "      <td>California</td>\n",
       "      <td>Coombsville</td>\n",
       "      <td>Napa</td>\n",
       "      <td>Prime</td>\n",
       "    </tr>\n",
       "    <tr>\n",
       "      <th>3</th>\n",
       "      <td>@wineschach</td>\n",
       "      <td>Argentina</td>\n",
       "      <td>Bodega Cuarto Dominio 2012 Chento Vineyard Sel...</td>\n",
       "      <td>This concentrated, midnight-black Malbec deliv...</td>\n",
       "      <td>Chento Vineyard Selection</td>\n",
       "      <td>91</td>\n",
       "      <td>20.0</td>\n",
       "      <td>Mendoza Province</td>\n",
       "      <td>Mendoza</td>\n",
       "      <td>NaN</td>\n",
       "      <td>Bodega Cuarto Dominio</td>\n",
       "    </tr>\n",
       "    <tr>\n",
       "      <th>4</th>\n",
       "      <td>@kerinokeefe</td>\n",
       "      <td>Italy</td>\n",
       "      <td>SassodiSole 2012  Brunello di Montalcino</td>\n",
       "      <td>Earthy aromas suggesting grilled porcini, leat...</td>\n",
       "      <td>NaN</td>\n",
       "      <td>90</td>\n",
       "      <td>49.0</td>\n",
       "      <td>Tuscany</td>\n",
       "      <td>Brunello di Montalcino</td>\n",
       "      <td>NaN</td>\n",
       "      <td>SassodiSole</td>\n",
       "    </tr>\n",
       "  </tbody>\n",
       "</table>\n",
       "</div>"
      ],
      "text/plain": [
       "      user_name    country                                       review_title  \\\n",
       "0   @paulgwine          US  Boedecker Cellars 2011 Athena Pinot Noir (Will...   \n",
       "1   @wineschach  Argentina  Mendoza Vineyards 2012 Gran Reserva by Richard...   \n",
       "2       @vboone         US                Prime 2013 Chardonnay (Coombsville)   \n",
       "3   @wineschach  Argentina  Bodega Cuarto Dominio 2012 Chento Vineyard Sel...   \n",
       "4  @kerinokeefe      Italy           SassodiSole 2012  Brunello di Montalcino   \n",
       "\n",
       "                                  review_description  \\\n",
       "0  Nicely differentiated from the companion Stewa...   \n",
       "1  Charred, smoky, herbal aromas of blackberry tr...   \n",
       "2  Slightly sour and funky in earth, this is a re...   \n",
       "3  This concentrated, midnight-black Malbec deliv...   \n",
       "4  Earthy aromas suggesting grilled porcini, leat...   \n",
       "\n",
       "                      designation  points  price          province  \\\n",
       "0                          Athena      88   35.0            Oregon   \n",
       "1  Gran Reserva by Richard Bonvin      90   60.0  Mendoza Province   \n",
       "2                             NaN      87   38.0        California   \n",
       "3       Chento Vineyard Selection      91   20.0  Mendoza Province   \n",
       "4                             NaN      90   49.0           Tuscany   \n",
       "\n",
       "                 region_1           region_2                 winery  \n",
       "0       Willamette Valley  Willamette Valley      Boedecker Cellars  \n",
       "1                 Mendoza                NaN      Mendoza Vineyards  \n",
       "2             Coombsville               Napa                  Prime  \n",
       "3                 Mendoza                NaN  Bodega Cuarto Dominio  \n",
       "4  Brunello di Montalcino                NaN            SassodiSole  "
      ]
     },
     "execution_count": 293,
     "metadata": {},
     "output_type": "execute_result"
    }
   ],
   "source": [
    "test_data.head()"
   ]
  },
  {
   "cell_type": "code",
   "execution_count": 294,
   "metadata": {},
   "outputs": [
    {
     "data": {
      "text/plain": [
       "(20665, 11)"
      ]
     },
     "execution_count": 294,
     "metadata": {},
     "output_type": "execute_result"
    }
   ],
   "source": [
    "test_data.shape"
   ]
  },
  {
   "cell_type": "code",
   "execution_count": 240,
   "metadata": {},
   "outputs": [
    {
     "data": {
      "text/plain": [
       "user_name              4738\n",
       "country                   4\n",
       "review_title              0\n",
       "review_description        0\n",
       "designation            5989\n",
       "points                    0\n",
       "price                  1394\n",
       "province                  4\n",
       "region_1               3314\n",
       "region_2              11751\n",
       "winery                    0\n",
       "dtype: int64"
      ]
     },
     "execution_count": 240,
     "metadata": {},
     "output_type": "execute_result"
    }
   ],
   "source": [
    "test_data.isnull().sum()"
   ]
  },
  {
   "cell_type": "code",
   "execution_count": 241,
   "metadata": {},
   "outputs": [
    {
     "data": {
      "text/plain": [
       "<matplotlib.axes._subplots.AxesSubplot at 0x1d09aad84c8>"
      ]
     },
     "execution_count": 241,
     "metadata": {},
     "output_type": "execute_result"
    },
    {
     "data": {
      "image/png": "[encoded data removed]",
      "text/plain": [
       "<Figure size 720x576 with 1 Axes>"
      ]
     },
     "metadata": {},
     "output_type": "display_data"
    }
   ],
   "source": [
    "sns.distplot(test_data['price'])"
   ]
  },
  {
   "cell_type": "code",
   "execution_count": 242,
   "metadata": {},
   "outputs": [
    {
     "data": {
      "text/plain": [
       "Text(0.5, 1.0, 'Histogram of point and its distribution')"
      ]
     },
     "execution_count": 242,
     "metadata": {},
     "output_type": "execute_result"
    },
    {
     "data": {
      "image/png": "[encoded data removed]",
      "text/plain": [
       "<Figure size 720x576 with 1 Axes>"
      ]
     },
     "metadata": {},
     "output_type": "display_data"
    }
   ],
   "source": [
    "pl.hist(test_data['points'],bins=20,rwidth=0.9)\n",
    "pl.xlabel(\"Rating points between 80 to 100\")\n",
    "pl.ylabel(\"Counts in thousands\")\n",
    "pl.title(\"Histogram of point and its distribution\")"
   ]
  },
  {
   "cell_type": "code",
   "execution_count": 243,
   "metadata": {},
   "outputs": [
    {
     "data": {
      "image/png": "[encoded data removed]",
      "text/plain": [
       "<Figure size 720x576 with 1 Axes>"
      ]
     },
     "metadata": {},
     "output_type": "display_data"
    }
   ],
   "source": [
    "expensive_wines=data[data['price']>500]\n",
    "grouped=expensive_wines.groupby('country')['country'].count()\n",
    "pl.bar(range(len(grouped)),grouped)\n",
    "pl.xticks(range(len(grouped)),grouped.keys())\n",
    "pl.xlabel('Country')\n",
    "pl.ylabel('Count')\n",
    "pl.title(\"Country producing expensive wines\")\n",
    "pl.show()"
   ]
  },
  {
   "cell_type": "code",
   "execution_count": 247,
   "metadata": {},
   "outputs": [
    {
     "data": {
      "text/plain": [
       "Text(0.5, 1.0, 'Wine counts based on raings')"
      ]
     },
     "execution_count": 247,
     "metadata": {},
     "output_type": "execute_result"
    },
    {
     "data": {
      "image/png": "[encoded data removed]",
      "text/plain": [
       "<Figure size 720x576 with 1 Axes>"
      ]
     },
     "metadata": {},
     "output_type": "display_data"
    }
   ],
   "source": [
    "sns.countplot(test_data['points'])\n",
    "pl.title(\"Wine counts based on raings\")"
   ]
  },
  {
   "cell_type": "code",
   "execution_count": 248,
   "metadata": {},
   "outputs": [],
   "source": [
    "test_data1=test_data.copy()"
   ]
  },
  {
   "cell_type": "code",
   "execution_count": 249,
   "metadata": {},
   "outputs": [],
   "source": [
    "test_data1=test_data1[['country','review_description','points','winery']]"
   ]
  },
  {
   "cell_type": "code",
   "execution_count": 251,
   "metadata": {},
   "outputs": [],
   "source": [
    "test_data1.drop_duplicates(inplace=True)\n",
    "test_data1.dropna(inplace=True)"
   ]
  },
  {
   "cell_type": "code",
   "execution_count": 252,
   "metadata": {},
   "outputs": [
    {
     "data": {
      "text/plain": [
       "country               0\n",
       "review_description    0\n",
       "points                0\n",
       "winery                0\n",
       "dtype: int64"
      ]
     },
     "execution_count": 252,
     "metadata": {},
     "output_type": "execute_result"
    }
   ],
   "source": [
    "test_data1.isnull().sum()"
   ]
  },
  {
   "cell_type": "code",
   "execution_count": 255,
   "metadata": {},
   "outputs": [],
   "source": [
    "test_data_X=cv_model.transform(test_data1['review_description'])"
   ]
  },
  {
   "cell_type": "code",
   "execution_count": 261,
   "metadata": {},
   "outputs": [],
   "source": [
    "predict=dec_tree.predict(test_data_X)"
   ]
  },
  {
   "cell_type": "code",
   "execution_count": 262,
   "metadata": {},
   "outputs": [
    {
     "data": {
      "text/plain": [
       "array([14,  9,  5, ...,  3,  9,  3])"
      ]
     },
     "execution_count": 262,
     "metadata": {},
     "output_type": "execute_result"
    }
   ],
   "source": [
    "predict"
   ]
  },
  {
   "cell_type": "code",
   "execution_count": 295,
   "metadata": {},
   "outputs": [
    {
     "data": {
      "text/plain": [
       "array(['Pinot Noir', 'Malbec', 'Chardonnay', ..., 'Cabernet Sauvignon',\n",
       "       'Malbec', 'Cabernet Sauvignon'], dtype=object)"
      ]
     },
     "execution_count": 295,
     "metadata": {},
     "output_type": "execute_result"
    }
   ],
   "source": [
    "encoder.inverse_transform(predict)"
   ]
  },
  {
   "cell_type": "code",
   "execution_count": 296,
   "metadata": {},
   "outputs": [],
   "source": [
    "predict_forest=forest.predict(test_data_X)"
   ]
  },
  {
   "cell_type": "code",
   "execution_count": null,
   "metadata": {},
   "outputs": [],
   "source": []
  },
  {
   "cell_type": "code",
   "execution_count": 299,
   "metadata": {},
   "outputs": [],
   "source": [
    "predicted_df=pd.DataFrame(test_data1['review_description'])"
   ]
  },
  {
   "cell_type": "code",
   "execution_count": 300,
   "metadata": {},
   "outputs": [],
   "source": [
    "predicted_df['Predicted_Dec_Tree']=encoder.inverse_transform(predict)\n",
    "predicted_df['Predicted_Rand_For']=encoder.inverse_transform(predict_forest)"
   ]
  },
  {
   "cell_type": "code",
   "execution_count": 301,
   "metadata": {},
   "outputs": [
    {
     "data": {
      "text/html": [
       "<div>\n",
       "<style scoped>\n",
       "    .dataframe tbody tr th:only-of-type {\n",
       "        vertical-align: middle;\n",
       "    }\n",
       "\n",
       "    .dataframe tbody tr th {\n",
       "        vertical-align: top;\n",
       "    }\n",
       "\n",
       "    .dataframe thead th {\n",
       "        text-align: right;\n",
       "    }\n",
       "</style>\n",
       "<table border=\"1\" class=\"dataframe\">\n",
       "  <thead>\n",
       "    <tr style=\"text-align: right;\">\n",
       "      <th></th>\n",
       "      <th>review_description</th>\n",
       "      <th>Predicted_Dec_Tree</th>\n",
       "      <th>Predicted_Rand_For</th>\n",
       "    </tr>\n",
       "  </thead>\n",
       "  <tbody>\n",
       "    <tr>\n",
       "      <th>0</th>\n",
       "      <td>Nicely differentiated from the companion Stewa...</td>\n",
       "      <td>Pinot Noir</td>\n",
       "      <td>Pinot Noir</td>\n",
       "    </tr>\n",
       "    <tr>\n",
       "      <th>1</th>\n",
       "      <td>Charred, smoky, herbal aromas of blackberry tr...</td>\n",
       "      <td>Malbec</td>\n",
       "      <td>Malbec</td>\n",
       "    </tr>\n",
       "    <tr>\n",
       "      <th>2</th>\n",
       "      <td>Slightly sour and funky in earth, this is a re...</td>\n",
       "      <td>Chardonnay</td>\n",
       "      <td>Chardonnay</td>\n",
       "    </tr>\n",
       "    <tr>\n",
       "      <th>3</th>\n",
       "      <td>This concentrated, midnight-black Malbec deliv...</td>\n",
       "      <td>Syrah</td>\n",
       "      <td>Malbec</td>\n",
       "    </tr>\n",
       "    <tr>\n",
       "      <th>4</th>\n",
       "      <td>Earthy aromas suggesting grilled porcini, leat...</td>\n",
       "      <td>Sangiovese</td>\n",
       "      <td>Sangiovese</td>\n",
       "    </tr>\n",
       "    <tr>\n",
       "      <th>...</th>\n",
       "      <td>...</td>\n",
       "      <td>...</td>\n",
       "      <td>...</td>\n",
       "    </tr>\n",
       "    <tr>\n",
       "      <th>20660</th>\n",
       "      <td>Clearly focused and fruit-driven, this wine ha...</td>\n",
       "      <td>Pinot Grigio</td>\n",
       "      <td>Pinot Noir</td>\n",
       "    </tr>\n",
       "    <tr>\n",
       "      <th>20661</th>\n",
       "      <td>Herbal tones of bay and rosemary are upfront o...</td>\n",
       "      <td>Rosé</td>\n",
       "      <td>Rosé</td>\n",
       "    </tr>\n",
       "    <tr>\n",
       "      <th>20662</th>\n",
       "      <td>Mocha cream, pencil shaving and dried herb aro...</td>\n",
       "      <td>Cabernet Sauvignon</td>\n",
       "      <td>Cabernet Sauvignon</td>\n",
       "    </tr>\n",
       "    <tr>\n",
       "      <th>20663</th>\n",
       "      <td>Loud citrus and berry aromas precede an overlo...</td>\n",
       "      <td>Malbec</td>\n",
       "      <td>Malbec</td>\n",
       "    </tr>\n",
       "    <tr>\n",
       "      <th>20664</th>\n",
       "      <td>With very ripe fruit and firm tannins, this mo...</td>\n",
       "      <td>Cabernet Sauvignon</td>\n",
       "      <td>Cabernet Sauvignon</td>\n",
       "    </tr>\n",
       "  </tbody>\n",
       "</table>\n",
       "<p>20348 rows × 3 columns</p>\n",
       "</div>"
      ],
      "text/plain": [
       "                                      review_description  Predicted_Dec_Tree  \\\n",
       "0      Nicely differentiated from the companion Stewa...          Pinot Noir   \n",
       "1      Charred, smoky, herbal aromas of blackberry tr...              Malbec   \n",
       "2      Slightly sour and funky in earth, this is a re...          Chardonnay   \n",
       "3      This concentrated, midnight-black Malbec deliv...               Syrah   \n",
       "4      Earthy aromas suggesting grilled porcini, leat...          Sangiovese   \n",
       "...                                                  ...                 ...   \n",
       "20660  Clearly focused and fruit-driven, this wine ha...        Pinot Grigio   \n",
       "20661  Herbal tones of bay and rosemary are upfront o...                Rosé   \n",
       "20662  Mocha cream, pencil shaving and dried herb aro...  Cabernet Sauvignon   \n",
       "20663  Loud citrus and berry aromas precede an overlo...              Malbec   \n",
       "20664  With very ripe fruit and firm tannins, this mo...  Cabernet Sauvignon   \n",
       "\n",
       "       Predicted_Rand_For  \n",
       "0              Pinot Noir  \n",
       "1                  Malbec  \n",
       "2              Chardonnay  \n",
       "3                  Malbec  \n",
       "4              Sangiovese  \n",
       "...                   ...  \n",
       "20660          Pinot Noir  \n",
       "20661                Rosé  \n",
       "20662  Cabernet Sauvignon  \n",
       "20663              Malbec  \n",
       "20664  Cabernet Sauvignon  \n",
       "\n",
       "[20348 rows x 3 columns]"
      ]
     },
     "execution_count": 301,
     "metadata": {},
     "output_type": "execute_result"
    }
   ],
   "source": [
    "predicted_df"
   ]
  },
  {
   "cell_type": "code",
   "execution_count": 304,
   "metadata": {},
   "outputs": [
    {
     "data": {
      "text/html": [
       "<div>\n",
       "<style scoped>\n",
       "    .dataframe tbody tr th:only-of-type {\n",
       "        vertical-align: middle;\n",
       "    }\n",
       "\n",
       "    .dataframe tbody tr th {\n",
       "        vertical-align: top;\n",
       "    }\n",
       "\n",
       "    .dataframe thead th {\n",
       "        text-align: right;\n",
       "    }\n",
       "</style>\n",
       "<table border=\"1\" class=\"dataframe\">\n",
       "  <thead>\n",
       "    <tr style=\"text-align: right;\">\n",
       "      <th></th>\n",
       "      <th>country</th>\n",
       "      <th>review_description</th>\n",
       "      <th>points</th>\n",
       "      <th>winery</th>\n",
       "      <th>variety</th>\n",
       "      <th>Variety</th>\n",
       "    </tr>\n",
       "  </thead>\n",
       "  <tbody>\n",
       "    <tr>\n",
       "      <th>0</th>\n",
       "      <td>Australia</td>\n",
       "      <td>Classic Chardonnay aromas of apple, pear and h...</td>\n",
       "      <td>1</td>\n",
       "      <td>Andrew Peace</td>\n",
       "      <td>Chardonnay</td>\n",
       "      <td>5</td>\n",
       "    </tr>\n",
       "    <tr>\n",
       "      <th>1</th>\n",
       "      <td>US</td>\n",
       "      <td>This wine is near equal parts Syrah and Merlot...</td>\n",
       "      <td>3</td>\n",
       "      <td>North by Northwest</td>\n",
       "      <td>Red Blend</td>\n",
       "      <td>17</td>\n",
       "    </tr>\n",
       "    <tr>\n",
       "      <th>2</th>\n",
       "      <td>Italy</td>\n",
       "      <td>Barolo Conca opens with inky dark concentratio...</td>\n",
       "      <td>4</td>\n",
       "      <td>Renato Ratti</td>\n",
       "      <td>Nebbiolo</td>\n",
       "      <td>11</td>\n",
       "    </tr>\n",
       "    <tr>\n",
       "      <th>3</th>\n",
       "      <td>France</td>\n",
       "      <td>It's impressive what a small addition of Sauvi...</td>\n",
       "      <td>1</td>\n",
       "      <td>Domaine l'Ancienne Cure</td>\n",
       "      <td>Bordeaux-style White Blend</td>\n",
       "      <td>1</td>\n",
       "    </tr>\n",
       "    <tr>\n",
       "      <th>4</th>\n",
       "      <td>France</td>\n",
       "      <td>This ripe, sweet wine is rich and full of drie...</td>\n",
       "      <td>3</td>\n",
       "      <td>Château du Cèdre</td>\n",
       "      <td>Malbec</td>\n",
       "      <td>9</td>\n",
       "    </tr>\n",
       "    <tr>\n",
       "      <th>...</th>\n",
       "      <td>...</td>\n",
       "      <td>...</td>\n",
       "      <td>...</td>\n",
       "      <td>...</td>\n",
       "      <td>...</td>\n",
       "      <td>...</td>\n",
       "    </tr>\n",
       "    <tr>\n",
       "      <th>82651</th>\n",
       "      <td>US</td>\n",
       "      <td>Made in a drier, tarter style than the winery'...</td>\n",
       "      <td>3</td>\n",
       "      <td>La Crema</td>\n",
       "      <td>Chardonnay</td>\n",
       "      <td>5</td>\n",
       "    </tr>\n",
       "    <tr>\n",
       "      <th>82652</th>\n",
       "      <td>Spain</td>\n",
       "      <td>Hot earth, baked cherry and mild vanilla aroma...</td>\n",
       "      <td>1</td>\n",
       "      <td>Montecillo</td>\n",
       "      <td>Tempranillo</td>\n",
       "      <td>25</td>\n",
       "    </tr>\n",
       "    <tr>\n",
       "      <th>82653</th>\n",
       "      <td>US</td>\n",
       "      <td>Pungent, high-pitched notes of turmeric and dr...</td>\n",
       "      <td>1</td>\n",
       "      <td>Vivác Winery</td>\n",
       "      <td>Cabernet Sauvignon</td>\n",
       "      <td>3</td>\n",
       "    </tr>\n",
       "    <tr>\n",
       "      <th>82654</th>\n",
       "      <td>France</td>\n",
       "      <td>This is a wine that's not just lively and frui...</td>\n",
       "      <td>1</td>\n",
       "      <td>Domaine de la Madone</td>\n",
       "      <td>Gamay</td>\n",
       "      <td>6</td>\n",
       "    </tr>\n",
       "    <tr>\n",
       "      <th>82656</th>\n",
       "      <td>US</td>\n",
       "      <td>A big, rich, vital Cabernet with immediate att...</td>\n",
       "      <td>4</td>\n",
       "      <td>Round Pond</td>\n",
       "      <td>Cabernet Sauvignon</td>\n",
       "      <td>3</td>\n",
       "    </tr>\n",
       "  </tbody>\n",
       "</table>\n",
       "<p>77606 rows × 6 columns</p>\n",
       "</div>"
      ],
      "text/plain": [
       "         country                                 review_description  points  \\\n",
       "0      Australia  Classic Chardonnay aromas of apple, pear and h...       1   \n",
       "1             US  This wine is near equal parts Syrah and Merlot...       3   \n",
       "2          Italy  Barolo Conca opens with inky dark concentratio...       4   \n",
       "3         France  It's impressive what a small addition of Sauvi...       1   \n",
       "4         France  This ripe, sweet wine is rich and full of drie...       3   \n",
       "...          ...                                                ...     ...   \n",
       "82651         US  Made in a drier, tarter style than the winery'...       3   \n",
       "82652      Spain  Hot earth, baked cherry and mild vanilla aroma...       1   \n",
       "82653         US  Pungent, high-pitched notes of turmeric and dr...       1   \n",
       "82654     France  This is a wine that's not just lively and frui...       1   \n",
       "82656         US  A big, rich, vital Cabernet with immediate att...       4   \n",
       "\n",
       "                        winery                     variety  Variety  \n",
       "0                 Andrew Peace                  Chardonnay        5  \n",
       "1           North by Northwest                   Red Blend       17  \n",
       "2                 Renato Ratti                    Nebbiolo       11  \n",
       "3      Domaine l'Ancienne Cure  Bordeaux-style White Blend        1  \n",
       "4             Château du Cèdre                      Malbec        9  \n",
       "...                        ...                         ...      ...  \n",
       "82651                 La Crema                  Chardonnay        5  \n",
       "82652               Montecillo                 Tempranillo       25  \n",
       "82653             Vivác Winery          Cabernet Sauvignon        3  \n",
       "82654     Domaine de la Madone                       Gamay        6  \n",
       "82656               Round Pond          Cabernet Sauvignon        3  \n",
       "\n",
       "[77606 rows x 6 columns]"
      ]
     },
     "execution_count": 304,
     "metadata": {},
     "output_type": "execute_result"
    }
   ],
   "source": [
    "data4"
   ]
  },
  {
   "cell_type": "code",
   "execution_count": null,
   "metadata": {},
   "outputs": [],
   "source": []
  },
  {
   "cell_type": "code",
   "execution_count": null,
   "metadata": {},
   "outputs": [],
   "source": []
  },
  {
   "cell_type": "code",
   "execution_count": null,
   "metadata": {},
   "outputs": [],
   "source": []
  },
  {
   "cell_type": "code",
   "execution_count": null,
   "metadata": {},
   "outputs": [],
   "source": []
  },
  {
   "cell_type": "code",
   "execution_count": null,
   "metadata": {},
   "outputs": [],
   "source": []
  },
  {
   "cell_type": "code",
   "execution_count": null,
   "metadata": {},
   "outputs": [],
   "source": []
  },
  {
   "cell_type": "code",
   "execution_count": null,
   "metadata": {},
   "outputs": [],
   "source": [
    "\n"
   ]
  }
 ],
 "metadata": {
  "kernelspec": {
   "display_name": "Python 3",
   "language": "python",
   "name": "python3"
  },
  "language_info": {
   "codemirror_mode": {
    "name": "ipython",
    "version": 3
   },
   "file_extension": ".py",
   "mimetype": "text/x-python",
   "name": "python",
   "nbconvert_exporter": "python",
   "pygments_lexer": "ipython3",
   "version": "3.7.7"
  }
 },
 "nbformat": 4,
 "nbformat_minor": 4
}
