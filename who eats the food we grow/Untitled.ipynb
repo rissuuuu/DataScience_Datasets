{
 "cells": [
  {
   "cell_type": "code",
   "execution_count": 1,
   "metadata": {},
   "outputs": [],
   "source": [
    "import seaborn as sns\n",
    "import matplotlib.pyplot as pl\n",
    "import pandas as pd\n",
    "df=pd.read_csv('FAO.csv',encoding='latin-1')"
   ]
  },
  {
   "cell_type": "code",
   "execution_count": 2,
   "metadata": {},
   "outputs": [
    {
     "data": {
      "text/html": [
       "<div>\n",
       "<style scoped>\n",
       "    .dataframe tbody tr th:only-of-type {\n",
       "        vertical-align: middle;\n",
       "    }\n",
       "\n",
       "    .dataframe tbody tr th {\n",
       "        vertical-align: top;\n",
       "    }\n",
       "\n",
       "    .dataframe thead th {\n",
       "        text-align: right;\n",
       "    }\n",
       "</style>\n",
       "<table border=\"1\" class=\"dataframe\">\n",
       "  <thead>\n",
       "    <tr style=\"text-align: right;\">\n",
       "      <th></th>\n",
       "      <th>Area Abbreviation</th>\n",
       "      <th>Area Code</th>\n",
       "      <th>Area</th>\n",
       "      <th>Item Code</th>\n",
       "      <th>Item</th>\n",
       "      <th>Element Code</th>\n",
       "      <th>Element</th>\n",
       "      <th>Unit</th>\n",
       "      <th>latitude</th>\n",
       "      <th>longitude</th>\n",
       "      <th>...</th>\n",
       "      <th>Y2004</th>\n",
       "      <th>Y2005</th>\n",
       "      <th>Y2006</th>\n",
       "      <th>Y2007</th>\n",
       "      <th>Y2008</th>\n",
       "      <th>Y2009</th>\n",
       "      <th>Y2010</th>\n",
       "      <th>Y2011</th>\n",
       "      <th>Y2012</th>\n",
       "      <th>Y2013</th>\n",
       "    </tr>\n",
       "  </thead>\n",
       "  <tbody>\n",
       "    <tr>\n",
       "      <th>0</th>\n",
       "      <td>AFG</td>\n",
       "      <td>2</td>\n",
       "      <td>Afghanistan</td>\n",
       "      <td>2511</td>\n",
       "      <td>Wheat and products</td>\n",
       "      <td>5142</td>\n",
       "      <td>Food</td>\n",
       "      <td>1000 tonnes</td>\n",
       "      <td>33.94</td>\n",
       "      <td>67.71</td>\n",
       "      <td>...</td>\n",
       "      <td>3249.0</td>\n",
       "      <td>3486.0</td>\n",
       "      <td>3704.0</td>\n",
       "      <td>4164.0</td>\n",
       "      <td>4252.0</td>\n",
       "      <td>4538.0</td>\n",
       "      <td>4605.0</td>\n",
       "      <td>4711.0</td>\n",
       "      <td>4810</td>\n",
       "      <td>4895</td>\n",
       "    </tr>\n",
       "    <tr>\n",
       "      <th>1</th>\n",
       "      <td>AFG</td>\n",
       "      <td>2</td>\n",
       "      <td>Afghanistan</td>\n",
       "      <td>2805</td>\n",
       "      <td>Rice (Milled Equivalent)</td>\n",
       "      <td>5142</td>\n",
       "      <td>Food</td>\n",
       "      <td>1000 tonnes</td>\n",
       "      <td>33.94</td>\n",
       "      <td>67.71</td>\n",
       "      <td>...</td>\n",
       "      <td>419.0</td>\n",
       "      <td>445.0</td>\n",
       "      <td>546.0</td>\n",
       "      <td>455.0</td>\n",
       "      <td>490.0</td>\n",
       "      <td>415.0</td>\n",
       "      <td>442.0</td>\n",
       "      <td>476.0</td>\n",
       "      <td>425</td>\n",
       "      <td>422</td>\n",
       "    </tr>\n",
       "    <tr>\n",
       "      <th>2</th>\n",
       "      <td>AFG</td>\n",
       "      <td>2</td>\n",
       "      <td>Afghanistan</td>\n",
       "      <td>2513</td>\n",
       "      <td>Barley and products</td>\n",
       "      <td>5521</td>\n",
       "      <td>Feed</td>\n",
       "      <td>1000 tonnes</td>\n",
       "      <td>33.94</td>\n",
       "      <td>67.71</td>\n",
       "      <td>...</td>\n",
       "      <td>58.0</td>\n",
       "      <td>236.0</td>\n",
       "      <td>262.0</td>\n",
       "      <td>263.0</td>\n",
       "      <td>230.0</td>\n",
       "      <td>379.0</td>\n",
       "      <td>315.0</td>\n",
       "      <td>203.0</td>\n",
       "      <td>367</td>\n",
       "      <td>360</td>\n",
       "    </tr>\n",
       "    <tr>\n",
       "      <th>3</th>\n",
       "      <td>AFG</td>\n",
       "      <td>2</td>\n",
       "      <td>Afghanistan</td>\n",
       "      <td>2513</td>\n",
       "      <td>Barley and products</td>\n",
       "      <td>5142</td>\n",
       "      <td>Food</td>\n",
       "      <td>1000 tonnes</td>\n",
       "      <td>33.94</td>\n",
       "      <td>67.71</td>\n",
       "      <td>...</td>\n",
       "      <td>185.0</td>\n",
       "      <td>43.0</td>\n",
       "      <td>44.0</td>\n",
       "      <td>48.0</td>\n",
       "      <td>62.0</td>\n",
       "      <td>55.0</td>\n",
       "      <td>60.0</td>\n",
       "      <td>72.0</td>\n",
       "      <td>78</td>\n",
       "      <td>89</td>\n",
       "    </tr>\n",
       "    <tr>\n",
       "      <th>4</th>\n",
       "      <td>AFG</td>\n",
       "      <td>2</td>\n",
       "      <td>Afghanistan</td>\n",
       "      <td>2514</td>\n",
       "      <td>Maize and products</td>\n",
       "      <td>5521</td>\n",
       "      <td>Feed</td>\n",
       "      <td>1000 tonnes</td>\n",
       "      <td>33.94</td>\n",
       "      <td>67.71</td>\n",
       "      <td>...</td>\n",
       "      <td>120.0</td>\n",
       "      <td>208.0</td>\n",
       "      <td>233.0</td>\n",
       "      <td>249.0</td>\n",
       "      <td>247.0</td>\n",
       "      <td>195.0</td>\n",
       "      <td>178.0</td>\n",
       "      <td>191.0</td>\n",
       "      <td>200</td>\n",
       "      <td>200</td>\n",
       "    </tr>\n",
       "  </tbody>\n",
       "</table>\n",
       "<p>5 rows × 63 columns</p>\n",
       "</div>"
      ],
      "text/plain": [
       "  Area Abbreviation  Area Code         Area  Item Code  \\\n",
       "0               AFG          2  Afghanistan       2511   \n",
       "1               AFG          2  Afghanistan       2805   \n",
       "2               AFG          2  Afghanistan       2513   \n",
       "3               AFG          2  Afghanistan       2513   \n",
       "4               AFG          2  Afghanistan       2514   \n",
       "\n",
       "                       Item  Element Code Element         Unit  latitude  \\\n",
       "0        Wheat and products          5142    Food  1000 tonnes     33.94   \n",
       "1  Rice (Milled Equivalent)          5142    Food  1000 tonnes     33.94   \n",
       "2       Barley and products          5521    Feed  1000 tonnes     33.94   \n",
       "3       Barley and products          5142    Food  1000 tonnes     33.94   \n",
       "4        Maize and products          5521    Feed  1000 tonnes     33.94   \n",
       "\n",
       "   longitude  ...   Y2004   Y2005   Y2006   Y2007   Y2008   Y2009   Y2010  \\\n",
       "0      67.71  ...  3249.0  3486.0  3704.0  4164.0  4252.0  4538.0  4605.0   \n",
       "1      67.71  ...   419.0   445.0   546.0   455.0   490.0   415.0   442.0   \n",
       "2      67.71  ...    58.0   236.0   262.0   263.0   230.0   379.0   315.0   \n",
       "3      67.71  ...   185.0    43.0    44.0    48.0    62.0    55.0    60.0   \n",
       "4      67.71  ...   120.0   208.0   233.0   249.0   247.0   195.0   178.0   \n",
       "\n",
       "    Y2011  Y2012  Y2013  \n",
       "0  4711.0   4810   4895  \n",
       "1   476.0    425    422  \n",
       "2   203.0    367    360  \n",
       "3    72.0     78     89  \n",
       "4   191.0    200    200  \n",
       "\n",
       "[5 rows x 63 columns]"
      ]
     },
     "execution_count": 2,
     "metadata": {},
     "output_type": "execute_result"
    }
   ],
   "source": [
    "df.head()"
   ]
  },
  {
   "cell_type": "code",
   "execution_count": 3,
   "metadata": {},
   "outputs": [
    {
     "data": {
      "text/plain": [
       "(21477, 63)"
      ]
     },
     "execution_count": 3,
     "metadata": {},
     "output_type": "execute_result"
    }
   ],
   "source": [
    "df.shape"
   ]
  },
  {
   "cell_type": "code",
   "execution_count": 4,
   "metadata": {},
   "outputs": [
    {
     "data": {
      "text/plain": [
       "<matplotlib.axes._subplots.AxesSubplot at 0x247c19e0c48>"
      ]
     },
     "execution_count": 4,
     "metadata": {},
     "output_type": "execute_result"
    },
    {
     "data": {
      "image/png": "[encoded data removed]",
      "text/plain": [
       "<Figure size 432x288 with 1 Axes>"
      ]
     },
     "metadata": {
      "needs_background": "light"
     },
     "output_type": "display_data"
    }
   ],
   "source": [
    "sns.countplot(df['Area Abbreviation'])"
   ]
  },
  {
   "cell_type": "code",
   "execution_count": 5,
   "metadata": {},
   "outputs": [],
   "source": [
    "import sweetviz\n"
   ]
  },
  {
   "cell_type": "code",
   "execution_count": 8,
   "metadata": {},
   "outputs": [
    {
     "name": "stderr",
     "output_type": "stream",
     "text": [
      ":FEATURES DONE:                    |█████████████████████| [100%]   00:26  -> (00:00 left)\n",
      ":PAIRWISE DONE:                    |█████████████████████| [100%]   00:02  -> (00:00 left)\n"
     ]
    },
    {
     "name": "stdout",
     "output_type": "stream",
     "text": [
      "Creating Associations graph... DONE!\n"
     ]
    }
   ],
   "source": [
    "report=sweetviz.analyze([df,\"df\"],target_feat=\"Y2013\")"
   ]
  },
  {
   "cell_type": "code",
   "execution_count": 9,
   "metadata": {},
   "outputs": [],
   "source": [
    "report.show_html(\"Report.html\")"
   ]
  },
  {
   "cell_type": "code",
   "execution_count": null,
   "metadata": {},
   "outputs": [],
   "source": []
  },
  {
   "cell_type": "code",
   "execution_count": 6,
   "metadata": {},
   "outputs": [
    {
     "data": {
      "text/plain": [
       "<matplotlib.axes._subplots.AxesSubplot at 0x247c5459288>"
      ]
     },
     "execution_count": 6,
     "metadata": {},
     "output_type": "execute_result"
    },
    {
     "data": {
      "image/png": "[encoded data removed]",
      "text/plain": [
       "<Figure size 432x288 with 2 Axes>"
      ]
     },
     "metadata": {
      "needs_background": "light"
     },
     "output_type": "display_data"
    }
   ],
   "source": [
    "sns.heatmap(df.isnull())"
   ]
  },
  {
   "cell_type": "code",
   "execution_count": 7,
   "metadata": {},
   "outputs": [
    {
     "name": "stdout",
     "output_type": "stream",
     "text": [
      "<class 'pandas.core.frame.DataFrame'>\n",
      "RangeIndex: 21477 entries, 0 to 21476\n",
      "Data columns (total 63 columns):\n",
      " #   Column             Non-Null Count  Dtype  \n",
      "---  ------             --------------  -----  \n",
      " 0   Area Abbreviation  21477 non-null  object \n",
      " 1   Area Code          21477 non-null  int64  \n",
      " 2   Area               21477 non-null  object \n",
      " 3   Item Code          21477 non-null  int64  \n",
      " 4   Item               21477 non-null  object \n",
      " 5   Element Code       21477 non-null  int64  \n",
      " 6   Element            21477 non-null  object \n",
      " 7   Unit               21477 non-null  object \n",
      " 8   latitude           21477 non-null  float64\n",
      " 9   longitude          21477 non-null  float64\n",
      " 10  Y1961              17938 non-null  float64\n",
      " 11  Y1962              17938 non-null  float64\n",
      " 12  Y1963              17938 non-null  float64\n",
      " 13  Y1964              17938 non-null  float64\n",
      " 14  Y1965              17938 non-null  float64\n",
      " 15  Y1966              17938 non-null  float64\n",
      " 16  Y1967              17938 non-null  float64\n",
      " 17  Y1968              17938 non-null  float64\n",
      " 18  Y1969              17938 non-null  float64\n",
      " 19  Y1970              17938 non-null  float64\n",
      " 20  Y1971              17938 non-null  float64\n",
      " 21  Y1972              17938 non-null  float64\n",
      " 22  Y1973              17938 non-null  float64\n",
      " 23  Y1974              17938 non-null  float64\n",
      " 24  Y1975              17938 non-null  float64\n",
      " 25  Y1976              17938 non-null  float64\n",
      " 26  Y1977              17938 non-null  float64\n",
      " 27  Y1978              17938 non-null  float64\n",
      " 28  Y1979              17938 non-null  float64\n",
      " 29  Y1980              17938 non-null  float64\n",
      " 30  Y1981              17938 non-null  float64\n",
      " 31  Y1982              17938 non-null  float64\n",
      " 32  Y1983              17938 non-null  float64\n",
      " 33  Y1984              17938 non-null  float64\n",
      " 34  Y1985              17938 non-null  float64\n",
      " 35  Y1986              17938 non-null  float64\n",
      " 36  Y1987              17938 non-null  float64\n",
      " 37  Y1988              17938 non-null  float64\n",
      " 38  Y1989              17938 non-null  float64\n",
      " 39  Y1990              18062 non-null  float64\n",
      " 40  Y1991              18062 non-null  float64\n",
      " 41  Y1992              20490 non-null  float64\n",
      " 42  Y1993              20865 non-null  float64\n",
      " 43  Y1994              20865 non-null  float64\n",
      " 44  Y1995              20865 non-null  float64\n",
      " 45  Y1996              20865 non-null  float64\n",
      " 46  Y1997              20865 non-null  float64\n",
      " 47  Y1998              20865 non-null  float64\n",
      " 48  Y1999              20865 non-null  float64\n",
      " 49  Y2000              21128 non-null  float64\n",
      " 50  Y2001              21128 non-null  float64\n",
      " 51  Y2002              21128 non-null  float64\n",
      " 52  Y2003              21128 non-null  float64\n",
      " 53  Y2004              21128 non-null  float64\n",
      " 54  Y2005              21128 non-null  float64\n",
      " 55  Y2006              21373 non-null  float64\n",
      " 56  Y2007              21373 non-null  float64\n",
      " 57  Y2008              21373 non-null  float64\n",
      " 58  Y2009              21373 non-null  float64\n",
      " 59  Y2010              21373 non-null  float64\n",
      " 60  Y2011              21373 non-null  float64\n",
      " 61  Y2012              21477 non-null  int64  \n",
      " 62  Y2013              21477 non-null  int64  \n",
      "dtypes: float64(53), int64(5), object(5)\n",
      "memory usage: 10.3+ MB\n"
     ]
    }
   ],
   "source": [
    "df.info()"
   ]
  },
  {
   "cell_type": "code",
   "execution_count": null,
   "metadata": {},
   "outputs": [],
   "source": []
  },
  {
   "cell_type": "code",
   "execution_count": null,
   "metadata": {},
   "outputs": [],
   "source": []
  },
  {
   "cell_type": "code",
   "execution_count": null,
   "metadata": {},
   "outputs": [],
   "source": []
  },
  {
   "cell_type": "code",
   "execution_count": null,
   "metadata": {},
   "outputs": [],
   "source": []
  },
  {
   "cell_type": "code",
   "execution_count": null,
   "metadata": {},
   "outputs": [],
   "source": []
  },
  {
   "cell_type": "code",
   "execution_count": null,
   "metadata": {},
   "outputs": [],
   "source": []
  },
  {
   "cell_type": "code",
   "execution_count": null,
   "metadata": {},
   "outputs": [],
   "source": []
  },
  {
   "cell_type": "code",
   "execution_count": null,
   "metadata": {},
   "outputs": [],
   "source": []
  },
  {
   "cell_type": "code",
   "execution_count": null,
   "metadata": {},
   "outputs": [],
   "source": []
  },
  {
   "cell_type": "code",
   "execution_count": null,
   "metadata": {},
   "outputs": [],
   "source": []
  },
  {
   "cell_type": "code",
   "execution_count": null,
   "metadata": {},
   "outputs": [],
   "source": []
  },
  {
   "cell_type": "code",
   "execution_count": null,
   "metadata": {},
   "outputs": [],
   "source": []
  },
  {
   "cell_type": "code",
   "execution_count": null,
   "metadata": {},
   "outputs": [],
   "source": []
  },
  {
   "cell_type": "code",
   "execution_count": null,
   "metadata": {},
   "outputs": [],
   "source": []
  },
  {
   "cell_type": "code",
   "execution_count": null,
   "metadata": {},
   "outputs": [],
   "source": []
  },
  {
   "cell_type": "code",
   "execution_count": null,
   "metadata": {},
   "outputs": [],
   "source": []
  },
  {
   "cell_type": "code",
   "execution_count": null,
   "metadata": {},
   "outputs": [],
   "source": []
  },
  {
   "cell_type": "code",
   "execution_count": null,
   "metadata": {},
   "outputs": [],
   "source": []
  },
  {
   "cell_type": "code",
   "execution_count": null,
   "metadata": {},
   "outputs": [],
   "source": []
  },
  {
   "cell_type": "code",
   "execution_count": null,
   "metadata": {},
   "outputs": [],
   "source": []
  },
  {
   "cell_type": "code",
   "execution_count": null,
   "metadata": {},
   "outputs": [],
   "source": []
  }
 ],
 "metadata": {
  "kernelspec": {
   "display_name": "Python 3",
   "language": "python",
   "name": "python3"
  },
  "language_info": {
   "codemirror_mode": {
    "name": "ipython",
    "version": 3
   },
   "file_extension": ".py",
   "mimetype": "text/x-python",
   "name": "python",
   "nbconvert_exporter": "python",
   "pygments_lexer": "ipython3",
   "version": "3.7.7"
  }
 },
 "nbformat": 4,
 "nbformat_minor": 4
}
