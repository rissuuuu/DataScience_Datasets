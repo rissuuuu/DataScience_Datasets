{
 "cells": [
  {
   "cell_type": "code",
   "execution_count": 6,
   "metadata": {},
   "outputs": [
    {
     "data": {
      "text/html": [
       "        <script type=\"text/javascript\">\n",
       "        window.PlotlyConfig = {MathJaxConfig: 'local'};\n",
       "        if (window.MathJax) {MathJax.Hub.Config({SVG: {font: \"STIX-Web\"}});}\n",
       "        if (typeof require !== 'undefined') {\n",
       "        require.undef(\"plotly\");\n",
       "        requirejs.config({\n",
       "            paths: {\n",
       "                'plotly': ['https://cdn.plot.ly/plotly-latest.min']\n",
       "            }\n",
       "        });\n",
       "        require(['plotly'], function(Plotly) {\n",
       "            window._Plotly = Plotly;\n",
       "        });\n",
       "        }\n",
       "        </script>\n",
       "        "
      ]
     },
     "metadata": {},
     "output_type": "display_data"
    }
   ],
   "source": [
    "import numpy as np\n",
    "import pandas as pd\n",
    "import seaborn as sns\n",
    "import matplotlib.pyplot as pl\n",
    "import chart_studio.plotly as py\n",
    "from plotly.offline import init_notebook_mode,iplot\n",
    "import plotly.graph_objs as go\n",
    "init_notebook_mode(connected=True)"
   ]
  },
  {
   "cell_type": "code",
   "execution_count": 11,
   "metadata": {},
   "outputs": [],
   "source": [
    "aerial=pd.read_csv('operations.csv')\n",
    "weather_station_location=pd.read_csv('datasets_3759_5944_Weather Station Locations.csv')\n",
    "weather=pd.read_csv('Summary of Weather.csv')"
   ]
  },
  {
   "cell_type": "code",
   "execution_count": 12,
   "metadata": {},
   "outputs": [
    {
     "data": {
      "text/plain": [
       "((178281, 46), (161, 8), (119040, 31))"
      ]
     },
     "execution_count": 12,
     "metadata": {},
     "output_type": "execute_result"
    }
   ],
   "source": [
    "aerial.shape,weather_station_location.shape,weather.shape"
   ]
  },
  {
   "cell_type": "code",
   "execution_count": 19,
   "metadata": {},
   "outputs": [
    {
     "data": {
      "text/html": [
       "<div>\n",
       "<style scoped>\n",
       "    .dataframe tbody tr th:only-of-type {\n",
       "        vertical-align: middle;\n",
       "    }\n",
       "\n",
       "    .dataframe tbody tr th {\n",
       "        vertical-align: top;\n",
       "    }\n",
       "\n",
       "    .dataframe thead th {\n",
       "        text-align: right;\n",
       "    }\n",
       "</style>\n",
       "<table border=\"1\" class=\"dataframe\">\n",
       "  <thead>\n",
       "    <tr style=\"text-align: right;\">\n",
       "      <th></th>\n",
       "      <th>Mission ID</th>\n",
       "      <th>Mission Date</th>\n",
       "      <th>Theater of Operations</th>\n",
       "      <th>Country</th>\n",
       "      <th>Air Force</th>\n",
       "      <th>Unit ID</th>\n",
       "      <th>Aircraft Series</th>\n",
       "      <th>Callsign</th>\n",
       "      <th>Mission Type</th>\n",
       "      <th>Takeoff Base</th>\n",
       "      <th>...</th>\n",
       "      <th>Incendiary Devices Weight (Tons)</th>\n",
       "      <th>Fragmentation Devices</th>\n",
       "      <th>Fragmentation Devices Type</th>\n",
       "      <th>Fragmentation Devices Weight (Pounds)</th>\n",
       "      <th>Fragmentation Devices Weight (Tons)</th>\n",
       "      <th>Total Weight (Pounds)</th>\n",
       "      <th>Total Weight (Tons)</th>\n",
       "      <th>Time Over Target</th>\n",
       "      <th>Bomb Damage Assessment</th>\n",
       "      <th>Source ID</th>\n",
       "    </tr>\n",
       "  </thead>\n",
       "  <tbody>\n",
       "    <tr>\n",
       "      <th>0</th>\n",
       "      <td>1</td>\n",
       "      <td>8/15/1943</td>\n",
       "      <td>MTO</td>\n",
       "      <td>USA</td>\n",
       "      <td>12 AF</td>\n",
       "      <td>27 FBG/86 FBG</td>\n",
       "      <td>A36</td>\n",
       "      <td>NaN</td>\n",
       "      <td>NaN</td>\n",
       "      <td>PONTE OLIVO AIRFIELD</td>\n",
       "      <td>...</td>\n",
       "      <td>NaN</td>\n",
       "      <td>NaN</td>\n",
       "      <td>NaN</td>\n",
       "      <td>NaN</td>\n",
       "      <td>NaN</td>\n",
       "      <td>NaN</td>\n",
       "      <td>10.0</td>\n",
       "      <td>NaN</td>\n",
       "      <td>NaN</td>\n",
       "      <td>NaN</td>\n",
       "    </tr>\n",
       "    <tr>\n",
       "      <th>1</th>\n",
       "      <td>2</td>\n",
       "      <td>8/15/1943</td>\n",
       "      <td>PTO</td>\n",
       "      <td>USA</td>\n",
       "      <td>5 AF</td>\n",
       "      <td>400 BS</td>\n",
       "      <td>B24</td>\n",
       "      <td>NaN</td>\n",
       "      <td>1</td>\n",
       "      <td>NaN</td>\n",
       "      <td>...</td>\n",
       "      <td>NaN</td>\n",
       "      <td>NaN</td>\n",
       "      <td>NaN</td>\n",
       "      <td>NaN</td>\n",
       "      <td>NaN</td>\n",
       "      <td>NaN</td>\n",
       "      <td>20.0</td>\n",
       "      <td>NaN</td>\n",
       "      <td>NaN</td>\n",
       "      <td>9366.0</td>\n",
       "    </tr>\n",
       "    <tr>\n",
       "      <th>2</th>\n",
       "      <td>3</td>\n",
       "      <td>8/15/1943</td>\n",
       "      <td>MTO</td>\n",
       "      <td>USA</td>\n",
       "      <td>12 AF</td>\n",
       "      <td>27 FBG/86 FBG</td>\n",
       "      <td>A36</td>\n",
       "      <td>NaN</td>\n",
       "      <td>NaN</td>\n",
       "      <td>PONTE OLIVO AIRFIELD</td>\n",
       "      <td>...</td>\n",
       "      <td>NaN</td>\n",
       "      <td>NaN</td>\n",
       "      <td>NaN</td>\n",
       "      <td>NaN</td>\n",
       "      <td>NaN</td>\n",
       "      <td>NaN</td>\n",
       "      <td>9.0</td>\n",
       "      <td>NaN</td>\n",
       "      <td>NaN</td>\n",
       "      <td>NaN</td>\n",
       "    </tr>\n",
       "    <tr>\n",
       "      <th>3</th>\n",
       "      <td>4</td>\n",
       "      <td>8/15/1943</td>\n",
       "      <td>MTO</td>\n",
       "      <td>USA</td>\n",
       "      <td>12 AF</td>\n",
       "      <td>27 FBG/86 FBG</td>\n",
       "      <td>A36</td>\n",
       "      <td>NaN</td>\n",
       "      <td>NaN</td>\n",
       "      <td>PONTE OLIVO AIRFIELD</td>\n",
       "      <td>...</td>\n",
       "      <td>NaN</td>\n",
       "      <td>NaN</td>\n",
       "      <td>NaN</td>\n",
       "      <td>NaN</td>\n",
       "      <td>NaN</td>\n",
       "      <td>NaN</td>\n",
       "      <td>7.5</td>\n",
       "      <td>NaN</td>\n",
       "      <td>NaN</td>\n",
       "      <td>NaN</td>\n",
       "    </tr>\n",
       "    <tr>\n",
       "      <th>4</th>\n",
       "      <td>5</td>\n",
       "      <td>8/15/1943</td>\n",
       "      <td>PTO</td>\n",
       "      <td>USA</td>\n",
       "      <td>5 AF</td>\n",
       "      <td>321 BS</td>\n",
       "      <td>B24</td>\n",
       "      <td>NaN</td>\n",
       "      <td>1</td>\n",
       "      <td>NaN</td>\n",
       "      <td>...</td>\n",
       "      <td>NaN</td>\n",
       "      <td>NaN</td>\n",
       "      <td>NaN</td>\n",
       "      <td>NaN</td>\n",
       "      <td>NaN</td>\n",
       "      <td>NaN</td>\n",
       "      <td>8.0</td>\n",
       "      <td>NaN</td>\n",
       "      <td>NaN</td>\n",
       "      <td>22585.0</td>\n",
       "    </tr>\n",
       "  </tbody>\n",
       "</table>\n",
       "<p>5 rows × 46 columns</p>\n",
       "</div>"
      ],
      "text/plain": [
       "   Mission ID Mission Date Theater of Operations Country Air Force  \\\n",
       "0           1    8/15/1943                   MTO     USA     12 AF   \n",
       "1           2    8/15/1943                   PTO     USA      5 AF   \n",
       "2           3    8/15/1943                   MTO     USA     12 AF   \n",
       "3           4    8/15/1943                   MTO     USA     12 AF   \n",
       "4           5    8/15/1943                   PTO     USA      5 AF   \n",
       "\n",
       "         Unit ID Aircraft Series Callsign Mission Type          Takeoff Base  \\\n",
       "0  27 FBG/86 FBG             A36      NaN          NaN  PONTE OLIVO AIRFIELD   \n",
       "1         400 BS             B24      NaN            1                   NaN   \n",
       "2  27 FBG/86 FBG             A36      NaN          NaN  PONTE OLIVO AIRFIELD   \n",
       "3  27 FBG/86 FBG             A36      NaN          NaN  PONTE OLIVO AIRFIELD   \n",
       "4         321 BS             B24      NaN            1                   NaN   \n",
       "\n",
       "   ... Incendiary Devices Weight (Tons) Fragmentation Devices  \\\n",
       "0  ...                              NaN                   NaN   \n",
       "1  ...                              NaN                   NaN   \n",
       "2  ...                              NaN                   NaN   \n",
       "3  ...                              NaN                   NaN   \n",
       "4  ...                              NaN                   NaN   \n",
       "\n",
       "   Fragmentation Devices Type Fragmentation Devices Weight (Pounds)  \\\n",
       "0                         NaN                                   NaN   \n",
       "1                         NaN                                   NaN   \n",
       "2                         NaN                                   NaN   \n",
       "3                         NaN                                   NaN   \n",
       "4                         NaN                                   NaN   \n",
       "\n",
       "  Fragmentation Devices Weight (Tons) Total Weight (Pounds)  \\\n",
       "0                                 NaN                   NaN   \n",
       "1                                 NaN                   NaN   \n",
       "2                                 NaN                   NaN   \n",
       "3                                 NaN                   NaN   \n",
       "4                                 NaN                   NaN   \n",
       "\n",
       "  Total Weight (Tons) Time Over Target Bomb Damage Assessment  Source ID  \n",
       "0                10.0              NaN                    NaN        NaN  \n",
       "1                20.0              NaN                    NaN     9366.0  \n",
       "2                 9.0              NaN                    NaN        NaN  \n",
       "3                 7.5              NaN                    NaN        NaN  \n",
       "4                 8.0              NaN                    NaN    22585.0  \n",
       "\n",
       "[5 rows x 46 columns]"
      ]
     },
     "execution_count": 19,
     "metadata": {},
     "output_type": "execute_result"
    }
   ],
   "source": [
    "aerial.head()"
   ]
  },
  {
   "cell_type": "code",
   "execution_count": 20,
   "metadata": {},
   "outputs": [
    {
     "data": {
      "text/plain": [
       "<matplotlib.axes._subplots.AxesSubplot at 0x21cd6b94208>"
      ]
     },
     "execution_count": 20,
     "metadata": {},
     "output_type": "execute_result"
    },
    {
     "data": {
      "image/png": "[encoded data removed]",
      "text/plain": [
       "<Figure size 432x288 with 2 Axes>"
      ]
     },
     "metadata": {
      "needs_background": "light"
     },
     "output_type": "display_data"
    }
   ],
   "source": [
    "sns.heatmap(aerial.isnull(),cmap='Blues')"
   ]
  },
  {
   "cell_type": "code",
   "execution_count": 18,
   "metadata": {},
   "outputs": [
    {
     "data": {
      "image/png": "[encoded data removed]",
      "text/plain": [
       "<Figure size 432x288 with 1 Axes>"
      ]
     },
     "metadata": {
      "needs_background": "light"
     },
     "output_type": "display_data"
    }
   ],
   "source": []
  },
  {
   "cell_type": "code",
   "execution_count": 21,
   "metadata": {},
   "outputs": [],
   "source": [
    "aerial=aerial[pd.isna(aerial.Country)==False]"
   ]
  },
  {
   "cell_type": "code",
   "execution_count": 35,
   "metadata": {},
   "outputs": [
    {
     "data": {
      "text/plain": [
       "<matplotlib.axes._subplots.AxesSubplot at 0x21cd7a3b408>"
      ]
     },
     "execution_count": 35,
     "metadata": {},
     "output_type": "execute_result"
    },
    {
     "data": {
      "image/png": "[encoded data removed]",
      "text/plain": [
       "<Figure size 432x288 with 1 Axes>"
      ]
     },
     "metadata": {},
     "output_type": "display_data"
    }
   ],
   "source": [
    "sns.heatmap(aerial.isnull(),xticklabels=0,yticklabels=0,cbar=False)"
   ]
  },
  {
   "cell_type": "code",
   "execution_count": 34,
   "metadata": {},
   "outputs": [],
   "source": [
    "aerial=aerial[pd.isna(aerial['Target Longitude'])==False]\n",
    "aerial=aerial[pd.isna(aerial['Takeoff Longitude'])==False]"
   ]
  },
  {
   "cell_type": "code",
   "execution_count": 36,
   "metadata": {},
   "outputs": [],
   "source": [
    "drop_list = ['Mission ID','Unit ID','Target ID','Altitude (Hundreds of Feet)','Airborne Aircraft',\n",
    "             'Attacking Aircraft', 'Bombing Aircraft', 'Aircraft Returned',\n",
    "             'Aircraft Failed', 'Aircraft Damaged', 'Aircraft Lost',\n",
    "             'High Explosives', 'High Explosives Type','Mission Type',\n",
    "             'High Explosives Weight (Pounds)', 'High Explosives Weight (Tons)',\n",
    "             'Incendiary Devices', 'Incendiary Devices Type',\n",
    "             'Incendiary Devices Weight (Pounds)',\n",
    "             'Incendiary Devices Weight (Tons)', 'Fragmentation Devices',\n",
    "             'Fragmentation Devices Type', 'Fragmentation Devices Weight (Pounds)',\n",
    "             'Fragmentation Devices Weight (Tons)', 'Total Weight (Pounds)',\n",
    "             'Total Weight (Tons)', 'Time Over Target', 'Bomb Damage Assessment','Source ID']"
   ]
  },
  {
   "cell_type": "code",
   "execution_count": 37,
   "metadata": {},
   "outputs": [
    {
     "data": {
      "text/html": [
       "<div>\n",
       "<style scoped>\n",
       "    .dataframe tbody tr th:only-of-type {\n",
       "        vertical-align: middle;\n",
       "    }\n",
       "\n",
       "    .dataframe tbody tr th {\n",
       "        vertical-align: top;\n",
       "    }\n",
       "\n",
       "    .dataframe thead th {\n",
       "        text-align: right;\n",
       "    }\n",
       "</style>\n",
       "<table border=\"1\" class=\"dataframe\">\n",
       "  <thead>\n",
       "    <tr style=\"text-align: right;\">\n",
       "      <th></th>\n",
       "      <th>Mission ID</th>\n",
       "      <th>Unit ID</th>\n",
       "      <th>Target ID</th>\n",
       "      <th>Altitude (Hundreds of Feet)</th>\n",
       "      <th>Airborne Aircraft</th>\n",
       "      <th>Attacking Aircraft</th>\n",
       "      <th>Bombing Aircraft</th>\n",
       "      <th>Aircraft Returned</th>\n",
       "      <th>Aircraft Failed</th>\n",
       "      <th>Aircraft Damaged</th>\n",
       "      <th>...</th>\n",
       "      <th>Incendiary Devices Weight (Tons)</th>\n",
       "      <th>Fragmentation Devices</th>\n",
       "      <th>Fragmentation Devices Type</th>\n",
       "      <th>Fragmentation Devices Weight (Pounds)</th>\n",
       "      <th>Fragmentation Devices Weight (Tons)</th>\n",
       "      <th>Total Weight (Pounds)</th>\n",
       "      <th>Total Weight (Tons)</th>\n",
       "      <th>Time Over Target</th>\n",
       "      <th>Bomb Damage Assessment</th>\n",
       "      <th>Source ID</th>\n",
       "    </tr>\n",
       "  </thead>\n",
       "  <tbody>\n",
       "    <tr>\n",
       "      <th>0</th>\n",
       "      <td>1</td>\n",
       "      <td>27 FBG/86 FBG</td>\n",
       "      <td>40675</td>\n",
       "      <td>NaN</td>\n",
       "      <td>20.0</td>\n",
       "      <td>NaN</td>\n",
       "      <td>20.0</td>\n",
       "      <td>NaN</td>\n",
       "      <td>NaN</td>\n",
       "      <td>NaN</td>\n",
       "      <td>...</td>\n",
       "      <td>NaN</td>\n",
       "      <td>NaN</td>\n",
       "      <td>NaN</td>\n",
       "      <td>NaN</td>\n",
       "      <td>NaN</td>\n",
       "      <td>NaN</td>\n",
       "      <td>10.00</td>\n",
       "      <td>NaN</td>\n",
       "      <td>NaN</td>\n",
       "      <td>NaN</td>\n",
       "    </tr>\n",
       "    <tr>\n",
       "      <th>2</th>\n",
       "      <td>3</td>\n",
       "      <td>27 FBG/86 FBG</td>\n",
       "      <td>9630</td>\n",
       "      <td>NaN</td>\n",
       "      <td>18.0</td>\n",
       "      <td>NaN</td>\n",
       "      <td>36.0</td>\n",
       "      <td>NaN</td>\n",
       "      <td>NaN</td>\n",
       "      <td>NaN</td>\n",
       "      <td>...</td>\n",
       "      <td>NaN</td>\n",
       "      <td>NaN</td>\n",
       "      <td>NaN</td>\n",
       "      <td>NaN</td>\n",
       "      <td>NaN</td>\n",
       "      <td>NaN</td>\n",
       "      <td>9.00</td>\n",
       "      <td>NaN</td>\n",
       "      <td>NaN</td>\n",
       "      <td>NaN</td>\n",
       "    </tr>\n",
       "    <tr>\n",
       "      <th>3</th>\n",
       "      <td>4</td>\n",
       "      <td>27 FBG/86 FBG</td>\n",
       "      <td>16140</td>\n",
       "      <td>NaN</td>\n",
       "      <td>15.0</td>\n",
       "      <td>NaN</td>\n",
       "      <td>15.0</td>\n",
       "      <td>NaN</td>\n",
       "      <td>1.0</td>\n",
       "      <td>NaN</td>\n",
       "      <td>...</td>\n",
       "      <td>NaN</td>\n",
       "      <td>NaN</td>\n",
       "      <td>NaN</td>\n",
       "      <td>NaN</td>\n",
       "      <td>NaN</td>\n",
       "      <td>NaN</td>\n",
       "      <td>7.50</td>\n",
       "      <td>NaN</td>\n",
       "      <td>NaN</td>\n",
       "      <td>NaN</td>\n",
       "    </tr>\n",
       "    <tr>\n",
       "      <th>8</th>\n",
       "      <td>9</td>\n",
       "      <td>27 FBG/86 FBG</td>\n",
       "      <td>39469</td>\n",
       "      <td>NaN</td>\n",
       "      <td>0.0</td>\n",
       "      <td>NaN</td>\n",
       "      <td>NaN</td>\n",
       "      <td>NaN</td>\n",
       "      <td>NaN</td>\n",
       "      <td>NaN</td>\n",
       "      <td>...</td>\n",
       "      <td>NaN</td>\n",
       "      <td>NaN</td>\n",
       "      <td>NaN</td>\n",
       "      <td>NaN</td>\n",
       "      <td>NaN</td>\n",
       "      <td>NaN</td>\n",
       "      <td>0.00</td>\n",
       "      <td>NaN</td>\n",
       "      <td>NaN</td>\n",
       "      <td>NaN</td>\n",
       "    </tr>\n",
       "    <tr>\n",
       "      <th>9</th>\n",
       "      <td>10</td>\n",
       "      <td>27 FBG/86 FBG</td>\n",
       "      <td>16140</td>\n",
       "      <td>NaN</td>\n",
       "      <td>0.0</td>\n",
       "      <td>NaN</td>\n",
       "      <td>NaN</td>\n",
       "      <td>NaN</td>\n",
       "      <td>NaN</td>\n",
       "      <td>NaN</td>\n",
       "      <td>...</td>\n",
       "      <td>NaN</td>\n",
       "      <td>NaN</td>\n",
       "      <td>NaN</td>\n",
       "      <td>NaN</td>\n",
       "      <td>NaN</td>\n",
       "      <td>NaN</td>\n",
       "      <td>0.00</td>\n",
       "      <td>NaN</td>\n",
       "      <td>NaN</td>\n",
       "      <td>NaN</td>\n",
       "    </tr>\n",
       "    <tr>\n",
       "      <th>...</th>\n",
       "      <td>...</td>\n",
       "      <td>...</td>\n",
       "      <td>...</td>\n",
       "      <td>...</td>\n",
       "      <td>...</td>\n",
       "      <td>...</td>\n",
       "      <td>...</td>\n",
       "      <td>...</td>\n",
       "      <td>...</td>\n",
       "      <td>...</td>\n",
       "      <td>...</td>\n",
       "      <td>...</td>\n",
       "      <td>...</td>\n",
       "      <td>...</td>\n",
       "      <td>...</td>\n",
       "      <td>...</td>\n",
       "      <td>...</td>\n",
       "      <td>...</td>\n",
       "      <td>...</td>\n",
       "      <td>...</td>\n",
       "      <td>...</td>\n",
       "    </tr>\n",
       "    <tr>\n",
       "      <th>178034</th>\n",
       "      <td>178496</td>\n",
       "      <td>27 FBG/86 FBG</td>\n",
       "      <td>32283</td>\n",
       "      <td>NaN</td>\n",
       "      <td>0.0</td>\n",
       "      <td>NaN</td>\n",
       "      <td>NaN</td>\n",
       "      <td>NaN</td>\n",
       "      <td>NaN</td>\n",
       "      <td>NaN</td>\n",
       "      <td>...</td>\n",
       "      <td>NaN</td>\n",
       "      <td>NaN</td>\n",
       "      <td>NaN</td>\n",
       "      <td>NaN</td>\n",
       "      <td>NaN</td>\n",
       "      <td>NaN</td>\n",
       "      <td>0.00</td>\n",
       "      <td>NaN</td>\n",
       "      <td>NaN</td>\n",
       "      <td>NaN</td>\n",
       "    </tr>\n",
       "    <tr>\n",
       "      <th>178035</th>\n",
       "      <td>178497</td>\n",
       "      <td>240 WG</td>\n",
       "      <td>NaN</td>\n",
       "      <td>NaN</td>\n",
       "      <td>16.0</td>\n",
       "      <td>14.0</td>\n",
       "      <td>14.0</td>\n",
       "      <td>NaN</td>\n",
       "      <td>NaN</td>\n",
       "      <td>NaN</td>\n",
       "      <td>...</td>\n",
       "      <td>17.01</td>\n",
       "      <td>NaN</td>\n",
       "      <td>NaN</td>\n",
       "      <td>NaN</td>\n",
       "      <td>0.0</td>\n",
       "      <td>NaN</td>\n",
       "      <td>50.76</td>\n",
       "      <td>NaN</td>\n",
       "      <td>NaN</td>\n",
       "      <td>699212.0</td>\n",
       "    </tr>\n",
       "    <tr>\n",
       "      <th>178080</th>\n",
       "      <td>178542</td>\n",
       "      <td>27 FBG/86 FBG</td>\n",
       "      <td>39469</td>\n",
       "      <td>NaN</td>\n",
       "      <td>85.0</td>\n",
       "      <td>NaN</td>\n",
       "      <td>85.0</td>\n",
       "      <td>NaN</td>\n",
       "      <td>3.0</td>\n",
       "      <td>NaN</td>\n",
       "      <td>...</td>\n",
       "      <td>NaN</td>\n",
       "      <td>NaN</td>\n",
       "      <td>NaN</td>\n",
       "      <td>NaN</td>\n",
       "      <td>NaN</td>\n",
       "      <td>NaN</td>\n",
       "      <td>42.50</td>\n",
       "      <td>NaN</td>\n",
       "      <td>NaN</td>\n",
       "      <td>NaN</td>\n",
       "    </tr>\n",
       "    <tr>\n",
       "      <th>178201</th>\n",
       "      <td>178663</td>\n",
       "      <td>205 GP</td>\n",
       "      <td>NaN</td>\n",
       "      <td>NaN</td>\n",
       "      <td>1.0</td>\n",
       "      <td>1.0</td>\n",
       "      <td>1.0</td>\n",
       "      <td>NaN</td>\n",
       "      <td>NaN</td>\n",
       "      <td>NaN</td>\n",
       "      <td>...</td>\n",
       "      <td>0.00</td>\n",
       "      <td>NaN</td>\n",
       "      <td>NaN</td>\n",
       "      <td>NaN</td>\n",
       "      <td>0.0</td>\n",
       "      <td>NaN</td>\n",
       "      <td>3.00</td>\n",
       "      <td>NaN</td>\n",
       "      <td>NaN</td>\n",
       "      <td>697989.0</td>\n",
       "    </tr>\n",
       "    <tr>\n",
       "      <th>178202</th>\n",
       "      <td>178664</td>\n",
       "      <td>205 GP</td>\n",
       "      <td>NaN</td>\n",
       "      <td>NaN</td>\n",
       "      <td>68.0</td>\n",
       "      <td>68.0</td>\n",
       "      <td>68.0</td>\n",
       "      <td>NaN</td>\n",
       "      <td>NaN</td>\n",
       "      <td>NaN</td>\n",
       "      <td>...</td>\n",
       "      <td>0.00</td>\n",
       "      <td>NaN</td>\n",
       "      <td>NaN</td>\n",
       "      <td>NaN</td>\n",
       "      <td>0.0</td>\n",
       "      <td>NaN</td>\n",
       "      <td>221.50</td>\n",
       "      <td>NaN</td>\n",
       "      <td>NaN</td>\n",
       "      <td>698562.0</td>\n",
       "    </tr>\n",
       "  </tbody>\n",
       "</table>\n",
       "<p>2942 rows × 29 columns</p>\n",
       "</div>"
      ],
      "text/plain": [
       "        Mission ID        Unit ID Target ID  Altitude (Hundreds of Feet)  \\\n",
       "0                1  27 FBG/86 FBG     40675                          NaN   \n",
       "2                3  27 FBG/86 FBG      9630                          NaN   \n",
       "3                4  27 FBG/86 FBG     16140                          NaN   \n",
       "8                9  27 FBG/86 FBG     39469                          NaN   \n",
       "9               10  27 FBG/86 FBG     16140                          NaN   \n",
       "...            ...            ...       ...                          ...   \n",
       "178034      178496  27 FBG/86 FBG     32283                          NaN   \n",
       "178035      178497         240 WG       NaN                          NaN   \n",
       "178080      178542  27 FBG/86 FBG     39469                          NaN   \n",
       "178201      178663         205 GP       NaN                          NaN   \n",
       "178202      178664         205 GP       NaN                          NaN   \n",
       "\n",
       "        Airborne Aircraft  Attacking Aircraft  Bombing Aircraft  \\\n",
       "0                    20.0                 NaN              20.0   \n",
       "2                    18.0                 NaN              36.0   \n",
       "3                    15.0                 NaN              15.0   \n",
       "8                     0.0                 NaN               NaN   \n",
       "9                     0.0                 NaN               NaN   \n",
       "...                   ...                 ...               ...   \n",
       "178034                0.0                 NaN               NaN   \n",
       "178035               16.0                14.0              14.0   \n",
       "178080               85.0                 NaN              85.0   \n",
       "178201                1.0                 1.0               1.0   \n",
       "178202               68.0                68.0              68.0   \n",
       "\n",
       "        Aircraft Returned  Aircraft Failed  Aircraft Damaged  ...  \\\n",
       "0                     NaN              NaN               NaN  ...   \n",
       "2                     NaN              NaN               NaN  ...   \n",
       "3                     NaN              1.0               NaN  ...   \n",
       "8                     NaN              NaN               NaN  ...   \n",
       "9                     NaN              NaN               NaN  ...   \n",
       "...                   ...              ...               ...  ...   \n",
       "178034                NaN              NaN               NaN  ...   \n",
       "178035                NaN              NaN               NaN  ...   \n",
       "178080                NaN              3.0               NaN  ...   \n",
       "178201                NaN              NaN               NaN  ...   \n",
       "178202                NaN              NaN               NaN  ...   \n",
       "\n",
       "        Incendiary Devices Weight (Tons)  Fragmentation Devices  \\\n",
       "0                                    NaN                    NaN   \n",
       "2                                    NaN                    NaN   \n",
       "3                                    NaN                    NaN   \n",
       "8                                    NaN                    NaN   \n",
       "9                                    NaN                    NaN   \n",
       "...                                  ...                    ...   \n",
       "178034                               NaN                    NaN   \n",
       "178035                             17.01                    NaN   \n",
       "178080                               NaN                    NaN   \n",
       "178201                              0.00                    NaN   \n",
       "178202                              0.00                    NaN   \n",
       "\n",
       "       Fragmentation Devices Type Fragmentation Devices Weight (Pounds)  \\\n",
       "0                             NaN                                   NaN   \n",
       "2                             NaN                                   NaN   \n",
       "3                             NaN                                   NaN   \n",
       "8                             NaN                                   NaN   \n",
       "9                             NaN                                   NaN   \n",
       "...                           ...                                   ...   \n",
       "178034                        NaN                                   NaN   \n",
       "178035                        NaN                                   NaN   \n",
       "178080                        NaN                                   NaN   \n",
       "178201                        NaN                                   NaN   \n",
       "178202                        NaN                                   NaN   \n",
       "\n",
       "       Fragmentation Devices Weight (Tons)  Total Weight (Pounds)  \\\n",
       "0                                      NaN                    NaN   \n",
       "2                                      NaN                    NaN   \n",
       "3                                      NaN                    NaN   \n",
       "8                                      NaN                    NaN   \n",
       "9                                      NaN                    NaN   \n",
       "...                                    ...                    ...   \n",
       "178034                                 NaN                    NaN   \n",
       "178035                                 0.0                    NaN   \n",
       "178080                                 NaN                    NaN   \n",
       "178201                                 0.0                    NaN   \n",
       "178202                                 0.0                    NaN   \n",
       "\n",
       "        Total Weight (Tons) Time Over Target  Bomb Damage Assessment  \\\n",
       "0                     10.00              NaN                     NaN   \n",
       "2                      9.00              NaN                     NaN   \n",
       "3                      7.50              NaN                     NaN   \n",
       "8                      0.00              NaN                     NaN   \n",
       "9                      0.00              NaN                     NaN   \n",
       "...                     ...              ...                     ...   \n",
       "178034                 0.00              NaN                     NaN   \n",
       "178035                50.76              NaN                     NaN   \n",
       "178080                42.50              NaN                     NaN   \n",
       "178201                 3.00              NaN                     NaN   \n",
       "178202               221.50              NaN                     NaN   \n",
       "\n",
       "        Source ID  \n",
       "0             NaN  \n",
       "2             NaN  \n",
       "3             NaN  \n",
       "8             NaN  \n",
       "9             NaN  \n",
       "...           ...  \n",
       "178034        NaN  \n",
       "178035   699212.0  \n",
       "178080        NaN  \n",
       "178201   697989.0  \n",
       "178202   698562.0  \n",
       "\n",
       "[2942 rows x 29 columns]"
      ]
     },
     "execution_count": 37,
     "metadata": {},
     "output_type": "execute_result"
    }
   ],
   "source": [
    "aerial[drop_list]"
   ]
  },
  {
   "cell_type": "code",
   "execution_count": 40,
   "metadata": {},
   "outputs": [],
   "source": [
    "aerial.drop(drop_list,axis=1,inplace=True)"
   ]
  },
  {
   "cell_type": "code",
   "execution_count": 42,
   "metadata": {},
   "outputs": [
    {
     "data": {
      "text/plain": [
       "<matplotlib.axes._subplots.AxesSubplot at 0x21cd791bc48>"
      ]
     },
     "execution_count": 42,
     "metadata": {},
     "output_type": "execute_result"
    },
    {
     "data": {
      "image/png": "[encoded data removed]",
      "text/plain": [
       "<Figure size 432x288 with 2 Axes>"
      ]
     },
     "metadata": {
      "needs_background": "light"
     },
     "output_type": "display_data"
    }
   ],
   "source": [
    "sns.heatmap(aerial.isnull(),cmap='Blues')"
   ]
  },
  {
   "cell_type": "code",
   "execution_count": 43,
   "metadata": {},
   "outputs": [
    {
     "data": {
      "text/html": [
       "<div>\n",
       "<style scoped>\n",
       "    .dataframe tbody tr th:only-of-type {\n",
       "        vertical-align: middle;\n",
       "    }\n",
       "\n",
       "    .dataframe tbody tr th {\n",
       "        vertical-align: top;\n",
       "    }\n",
       "\n",
       "    .dataframe thead th {\n",
       "        text-align: right;\n",
       "    }\n",
       "</style>\n",
       "<table border=\"1\" class=\"dataframe\">\n",
       "  <thead>\n",
       "    <tr style=\"text-align: right;\">\n",
       "      <th></th>\n",
       "      <th>Mission Date</th>\n",
       "      <th>Theater of Operations</th>\n",
       "      <th>Country</th>\n",
       "      <th>Air Force</th>\n",
       "      <th>Aircraft Series</th>\n",
       "      <th>Callsign</th>\n",
       "      <th>Takeoff Base</th>\n",
       "      <th>Takeoff Location</th>\n",
       "      <th>Takeoff Latitude</th>\n",
       "      <th>Takeoff Longitude</th>\n",
       "      <th>Target Country</th>\n",
       "      <th>Target City</th>\n",
       "      <th>Target Type</th>\n",
       "      <th>Target Industry</th>\n",
       "      <th>Target Priority</th>\n",
       "      <th>Target Latitude</th>\n",
       "      <th>Target Longitude</th>\n",
       "    </tr>\n",
       "  </thead>\n",
       "  <tbody>\n",
       "    <tr>\n",
       "      <th>0</th>\n",
       "      <td>8/15/1943</td>\n",
       "      <td>MTO</td>\n",
       "      <td>USA</td>\n",
       "      <td>12 AF</td>\n",
       "      <td>A36</td>\n",
       "      <td>NaN</td>\n",
       "      <td>PONTE OLIVO AIRFIELD</td>\n",
       "      <td>SICILY</td>\n",
       "      <td>37.131022</td>\n",
       "      <td>14.321464</td>\n",
       "      <td>ITALY</td>\n",
       "      <td>SPADAFORA</td>\n",
       "      <td>NaN</td>\n",
       "      <td>NaN</td>\n",
       "      <td>NaN</td>\n",
       "      <td>38.22</td>\n",
       "      <td>15.37</td>\n",
       "    </tr>\n",
       "    <tr>\n",
       "      <th>2</th>\n",
       "      <td>8/15/1943</td>\n",
       "      <td>MTO</td>\n",
       "      <td>USA</td>\n",
       "      <td>12 AF</td>\n",
       "      <td>A36</td>\n",
       "      <td>NaN</td>\n",
       "      <td>PONTE OLIVO AIRFIELD</td>\n",
       "      <td>SICILY</td>\n",
       "      <td>37.131022</td>\n",
       "      <td>14.321464</td>\n",
       "      <td>ITALY</td>\n",
       "      <td>COSENZA</td>\n",
       "      <td>NaN</td>\n",
       "      <td>NaN</td>\n",
       "      <td>NaN</td>\n",
       "      <td>39.27</td>\n",
       "      <td>16.25</td>\n",
       "    </tr>\n",
       "    <tr>\n",
       "      <th>3</th>\n",
       "      <td>8/15/1943</td>\n",
       "      <td>MTO</td>\n",
       "      <td>USA</td>\n",
       "      <td>12 AF</td>\n",
       "      <td>A36</td>\n",
       "      <td>NaN</td>\n",
       "      <td>PONTE OLIVO AIRFIELD</td>\n",
       "      <td>SICILY</td>\n",
       "      <td>37.131022</td>\n",
       "      <td>14.321464</td>\n",
       "      <td>ITALY</td>\n",
       "      <td>GIOJA TAURO</td>\n",
       "      <td>NaN</td>\n",
       "      <td>NaN</td>\n",
       "      <td>NaN</td>\n",
       "      <td>38.43</td>\n",
       "      <td>15.90</td>\n",
       "    </tr>\n",
       "    <tr>\n",
       "      <th>8</th>\n",
       "      <td>8/15/1943</td>\n",
       "      <td>MTO</td>\n",
       "      <td>USA</td>\n",
       "      <td>12 AF</td>\n",
       "      <td>A36</td>\n",
       "      <td>NaN</td>\n",
       "      <td>PONTE OLIVO AIRFIELD</td>\n",
       "      <td>SICILY</td>\n",
       "      <td>37.131022</td>\n",
       "      <td>14.321464</td>\n",
       "      <td>ITALY</td>\n",
       "      <td>SCILLA</td>\n",
       "      <td>NaN</td>\n",
       "      <td>NaN</td>\n",
       "      <td>NaN</td>\n",
       "      <td>38.23</td>\n",
       "      <td>15.72</td>\n",
       "    </tr>\n",
       "    <tr>\n",
       "      <th>9</th>\n",
       "      <td>8/15/1943</td>\n",
       "      <td>MTO</td>\n",
       "      <td>USA</td>\n",
       "      <td>12 AF</td>\n",
       "      <td>A36</td>\n",
       "      <td>NaN</td>\n",
       "      <td>PONTE OLIVO AIRFIELD</td>\n",
       "      <td>SICILY</td>\n",
       "      <td>37.131022</td>\n",
       "      <td>14.321464</td>\n",
       "      <td>ITALY</td>\n",
       "      <td>GIOJA TAURO</td>\n",
       "      <td>NaN</td>\n",
       "      <td>ARMAMENT AND ORDNANCE PLANTS</td>\n",
       "      <td>NaN</td>\n",
       "      <td>38.43</td>\n",
       "      <td>15.90</td>\n",
       "    </tr>\n",
       "  </tbody>\n",
       "</table>\n",
       "</div>"
      ],
      "text/plain": [
       "  Mission Date Theater of Operations Country Air Force Aircraft Series  \\\n",
       "0    8/15/1943                   MTO     USA     12 AF             A36   \n",
       "2    8/15/1943                   MTO     USA     12 AF             A36   \n",
       "3    8/15/1943                   MTO     USA     12 AF             A36   \n",
       "8    8/15/1943                   MTO     USA     12 AF             A36   \n",
       "9    8/15/1943                   MTO     USA     12 AF             A36   \n",
       "\n",
       "  Callsign          Takeoff Base Takeoff Location Takeoff Latitude  \\\n",
       "0      NaN  PONTE OLIVO AIRFIELD           SICILY        37.131022   \n",
       "2      NaN  PONTE OLIVO AIRFIELD           SICILY        37.131022   \n",
       "3      NaN  PONTE OLIVO AIRFIELD           SICILY        37.131022   \n",
       "8      NaN  PONTE OLIVO AIRFIELD           SICILY        37.131022   \n",
       "9      NaN  PONTE OLIVO AIRFIELD           SICILY        37.131022   \n",
       "\n",
       "   Takeoff Longitude Target Country  Target City Target Type  \\\n",
       "0          14.321464          ITALY    SPADAFORA         NaN   \n",
       "2          14.321464          ITALY      COSENZA         NaN   \n",
       "3          14.321464          ITALY  GIOJA TAURO         NaN   \n",
       "8          14.321464          ITALY       SCILLA         NaN   \n",
       "9          14.321464          ITALY  GIOJA TAURO         NaN   \n",
       "\n",
       "                Target Industry Target Priority  Target Latitude  \\\n",
       "0                           NaN             NaN            38.22   \n",
       "2                           NaN             NaN            39.27   \n",
       "3                           NaN             NaN            38.43   \n",
       "8                           NaN             NaN            38.23   \n",
       "9  ARMAMENT AND ORDNANCE PLANTS             NaN            38.43   \n",
       "\n",
       "   Target Longitude  \n",
       "0             15.37  \n",
       "2             16.25  \n",
       "3             15.90  \n",
       "8             15.72  \n",
       "9             15.90  "
      ]
     },
     "execution_count": 43,
     "metadata": {},
     "output_type": "execute_result"
    }
   ],
   "source": [
    "aerial.head()"
   ]
  },
  {
   "cell_type": "code",
   "execution_count": 56,
   "metadata": {},
   "outputs": [],
   "source": [
    "aerial=aerial[aerial.iloc[:,8]!='4248']\n",
    "aerial=aerial[aerial.iloc[:,9]!=1355]"
   ]
  },
  {
   "cell_type": "code",
   "execution_count": 57,
   "metadata": {},
   "outputs": [
    {
     "name": "stdout",
     "output_type": "stream",
     "text": [
      "<class 'pandas.core.frame.DataFrame'>\n",
      "Int64Index: 2555 entries, 0 to 178080\n",
      "Data columns (total 17 columns):\n",
      " #   Column                 Non-Null Count  Dtype  \n",
      "---  ------                 --------------  -----  \n",
      " 0   Mission Date           2555 non-null   object \n",
      " 1   Theater of Operations  2555 non-null   object \n",
      " 2   Country                2555 non-null   object \n",
      " 3   Air Force              2505 non-null   object \n",
      " 4   Aircraft Series        2528 non-null   object \n",
      " 5   Callsign               10 non-null     object \n",
      " 6   Takeoff Base           2555 non-null   object \n",
      " 7   Takeoff Location       2555 non-null   object \n",
      " 8   Takeoff Latitude       2555 non-null   object \n",
      " 9   Takeoff Longitude      2555 non-null   float64\n",
      " 10  Target Country         2499 non-null   object \n",
      " 11  Target City            2552 non-null   object \n",
      " 12  Target Type            602 non-null    object \n",
      " 13  Target Industry        81 non-null     object \n",
      " 14  Target Priority        230 non-null    object \n",
      " 15  Target Latitude        2555 non-null   float64\n",
      " 16  Target Longitude       2555 non-null   float64\n",
      "dtypes: float64(3), object(14)\n",
      "memory usage: 359.3+ KB\n"
     ]
    }
   ],
   "source": [
    "aerial.info()"
   ]
  },
  {
   "cell_type": "code",
   "execution_count": 58,
   "metadata": {},
   "outputs": [
    {
     "data": {
      "text/html": [
       "<div>\n",
       "<style scoped>\n",
       "    .dataframe tbody tr th:only-of-type {\n",
       "        vertical-align: middle;\n",
       "    }\n",
       "\n",
       "    .dataframe tbody tr th {\n",
       "        vertical-align: top;\n",
       "    }\n",
       "\n",
       "    .dataframe thead th {\n",
       "        text-align: right;\n",
       "    }\n",
       "</style>\n",
       "<table border=\"1\" class=\"dataframe\">\n",
       "  <thead>\n",
       "    <tr style=\"text-align: right;\">\n",
       "      <th></th>\n",
       "      <th>WBAN</th>\n",
       "      <th>NAME</th>\n",
       "      <th>STATE/COUNTRY ID</th>\n",
       "      <th>LAT</th>\n",
       "      <th>LON</th>\n",
       "      <th>ELEV</th>\n",
       "      <th>Latitude</th>\n",
       "      <th>Longitude</th>\n",
       "    </tr>\n",
       "  </thead>\n",
       "  <tbody>\n",
       "    <tr>\n",
       "      <th>0</th>\n",
       "      <td>33013</td>\n",
       "      <td>AIN EL</td>\n",
       "      <td>AL</td>\n",
       "      <td>3623N</td>\n",
       "      <td>00637E</td>\n",
       "      <td>611</td>\n",
       "      <td>36.383333</td>\n",
       "      <td>6.650000</td>\n",
       "    </tr>\n",
       "    <tr>\n",
       "      <th>1</th>\n",
       "      <td>33031</td>\n",
       "      <td>LA SENIA</td>\n",
       "      <td>AL</td>\n",
       "      <td>3537N</td>\n",
       "      <td>00037E</td>\n",
       "      <td>88</td>\n",
       "      <td>35.616667</td>\n",
       "      <td>0.583333</td>\n",
       "    </tr>\n",
       "    <tr>\n",
       "      <th>2</th>\n",
       "      <td>33023</td>\n",
       "      <td>MAISON BLANCHE</td>\n",
       "      <td>AL</td>\n",
       "      <td>3643N</td>\n",
       "      <td>00314E</td>\n",
       "      <td>23</td>\n",
       "      <td>36.716667</td>\n",
       "      <td>3.216667</td>\n",
       "    </tr>\n",
       "    <tr>\n",
       "      <th>3</th>\n",
       "      <td>33044</td>\n",
       "      <td>TELERGMA</td>\n",
       "      <td>AL</td>\n",
       "      <td>3607N</td>\n",
       "      <td>00621E</td>\n",
       "      <td>754</td>\n",
       "      <td>36.116667</td>\n",
       "      <td>6.416667</td>\n",
       "    </tr>\n",
       "    <tr>\n",
       "      <th>4</th>\n",
       "      <td>12001</td>\n",
       "      <td>TINDOUF</td>\n",
       "      <td>AL</td>\n",
       "      <td>2741N</td>\n",
       "      <td>00809W</td>\n",
       "      <td>443</td>\n",
       "      <td>27.683333</td>\n",
       "      <td>-8.083333</td>\n",
       "    </tr>\n",
       "  </tbody>\n",
       "</table>\n",
       "</div>"
      ],
      "text/plain": [
       "    WBAN            NAME STATE/COUNTRY ID    LAT     LON  ELEV   Latitude  \\\n",
       "0  33013          AIN EL               AL  3623N  00637E   611  36.383333   \n",
       "1  33031        LA SENIA               AL  3537N  00037E    88  35.616667   \n",
       "2  33023  MAISON BLANCHE               AL  3643N  00314E    23  36.716667   \n",
       "3  33044        TELERGMA               AL  3607N  00621E   754  36.116667   \n",
       "4  12001         TINDOUF               AL  2741N  00809W   443  27.683333   \n",
       "\n",
       "   Longitude  \n",
       "0   6.650000  \n",
       "1   0.583333  \n",
       "2   3.216667  \n",
       "3   6.416667  \n",
       "4  -8.083333  "
      ]
     },
     "execution_count": 58,
     "metadata": {},
     "output_type": "execute_result"
    }
   ],
   "source": [
    "weather_station_location.head()"
   ]
  },
  {
   "cell_type": "code",
   "execution_count": 59,
   "metadata": {},
   "outputs": [
    {
     "name": "stdout",
     "output_type": "stream",
     "text": [
      "<class 'pandas.core.frame.DataFrame'>\n",
      "RangeIndex: 161 entries, 0 to 160\n",
      "Data columns (total 5 columns):\n",
      " #   Column            Non-Null Count  Dtype  \n",
      "---  ------            --------------  -----  \n",
      " 0   WBAN              161 non-null    int64  \n",
      " 1   NAME              161 non-null    object \n",
      " 2   STATE/COUNTRY ID  161 non-null    object \n",
      " 3   Latitude          161 non-null    float64\n",
      " 4   Longitude         161 non-null    float64\n",
      "dtypes: float64(2), int64(1), object(2)\n",
      "memory usage: 6.4+ KB\n"
     ]
    }
   ],
   "source": [
    "weather_station_location=weather_station_location.loc[:,[\"WBAN\",\"NAME\",\"STATE/COUNTRY ID\",\"Latitude\",\"Longitude\"]]\n",
    "weather_station_location.info()"
   ]
  },
  {
   "cell_type": "code",
   "execution_count": 60,
   "metadata": {},
   "outputs": [
    {
     "data": {
      "text/html": [
       "<div>\n",
       "<style scoped>\n",
       "    .dataframe tbody tr th:only-of-type {\n",
       "        vertical-align: middle;\n",
       "    }\n",
       "\n",
       "    .dataframe tbody tr th {\n",
       "        vertical-align: top;\n",
       "    }\n",
       "\n",
       "    .dataframe thead th {\n",
       "        text-align: right;\n",
       "    }\n",
       "</style>\n",
       "<table border=\"1\" class=\"dataframe\">\n",
       "  <thead>\n",
       "    <tr style=\"text-align: right;\">\n",
       "      <th></th>\n",
       "      <th>STA</th>\n",
       "      <th>Date</th>\n",
       "      <th>Precip</th>\n",
       "      <th>WindGustSpd</th>\n",
       "      <th>MaxTemp</th>\n",
       "      <th>MinTemp</th>\n",
       "      <th>MeanTemp</th>\n",
       "      <th>Snowfall</th>\n",
       "      <th>PoorWeather</th>\n",
       "      <th>YR</th>\n",
       "      <th>...</th>\n",
       "      <th>FB</th>\n",
       "      <th>FTI</th>\n",
       "      <th>ITH</th>\n",
       "      <th>PGT</th>\n",
       "      <th>TSHDSBRSGF</th>\n",
       "      <th>SD3</th>\n",
       "      <th>RHX</th>\n",
       "      <th>RHN</th>\n",
       "      <th>RVG</th>\n",
       "      <th>WTE</th>\n",
       "    </tr>\n",
       "  </thead>\n",
       "  <tbody>\n",
       "    <tr>\n",
       "      <th>0</th>\n",
       "      <td>10001</td>\n",
       "      <td>1942-7-1</td>\n",
       "      <td>1.016</td>\n",
       "      <td>NaN</td>\n",
       "      <td>25.555556</td>\n",
       "      <td>22.222222</td>\n",
       "      <td>23.888889</td>\n",
       "      <td>0</td>\n",
       "      <td>NaN</td>\n",
       "      <td>42</td>\n",
       "      <td>...</td>\n",
       "      <td>NaN</td>\n",
       "      <td>NaN</td>\n",
       "      <td>NaN</td>\n",
       "      <td>NaN</td>\n",
       "      <td>NaN</td>\n",
       "      <td>NaN</td>\n",
       "      <td>NaN</td>\n",
       "      <td>NaN</td>\n",
       "      <td>NaN</td>\n",
       "      <td>NaN</td>\n",
       "    </tr>\n",
       "    <tr>\n",
       "      <th>1</th>\n",
       "      <td>10001</td>\n",
       "      <td>1942-7-2</td>\n",
       "      <td>0</td>\n",
       "      <td>NaN</td>\n",
       "      <td>28.888889</td>\n",
       "      <td>21.666667</td>\n",
       "      <td>25.555556</td>\n",
       "      <td>0</td>\n",
       "      <td>NaN</td>\n",
       "      <td>42</td>\n",
       "      <td>...</td>\n",
       "      <td>NaN</td>\n",
       "      <td>NaN</td>\n",
       "      <td>NaN</td>\n",
       "      <td>NaN</td>\n",
       "      <td>NaN</td>\n",
       "      <td>NaN</td>\n",
       "      <td>NaN</td>\n",
       "      <td>NaN</td>\n",
       "      <td>NaN</td>\n",
       "      <td>NaN</td>\n",
       "    </tr>\n",
       "    <tr>\n",
       "      <th>2</th>\n",
       "      <td>10001</td>\n",
       "      <td>1942-7-3</td>\n",
       "      <td>2.54</td>\n",
       "      <td>NaN</td>\n",
       "      <td>26.111111</td>\n",
       "      <td>22.222222</td>\n",
       "      <td>24.444444</td>\n",
       "      <td>0</td>\n",
       "      <td>NaN</td>\n",
       "      <td>42</td>\n",
       "      <td>...</td>\n",
       "      <td>NaN</td>\n",
       "      <td>NaN</td>\n",
       "      <td>NaN</td>\n",
       "      <td>NaN</td>\n",
       "      <td>NaN</td>\n",
       "      <td>NaN</td>\n",
       "      <td>NaN</td>\n",
       "      <td>NaN</td>\n",
       "      <td>NaN</td>\n",
       "      <td>NaN</td>\n",
       "    </tr>\n",
       "    <tr>\n",
       "      <th>3</th>\n",
       "      <td>10001</td>\n",
       "      <td>1942-7-4</td>\n",
       "      <td>2.54</td>\n",
       "      <td>NaN</td>\n",
       "      <td>26.666667</td>\n",
       "      <td>22.222222</td>\n",
       "      <td>24.444444</td>\n",
       "      <td>0</td>\n",
       "      <td>NaN</td>\n",
       "      <td>42</td>\n",
       "      <td>...</td>\n",
       "      <td>NaN</td>\n",
       "      <td>NaN</td>\n",
       "      <td>NaN</td>\n",
       "      <td>NaN</td>\n",
       "      <td>NaN</td>\n",
       "      <td>NaN</td>\n",
       "      <td>NaN</td>\n",
       "      <td>NaN</td>\n",
       "      <td>NaN</td>\n",
       "      <td>NaN</td>\n",
       "    </tr>\n",
       "    <tr>\n",
       "      <th>4</th>\n",
       "      <td>10001</td>\n",
       "      <td>1942-7-5</td>\n",
       "      <td>0</td>\n",
       "      <td>NaN</td>\n",
       "      <td>26.666667</td>\n",
       "      <td>21.666667</td>\n",
       "      <td>24.444444</td>\n",
       "      <td>0</td>\n",
       "      <td>NaN</td>\n",
       "      <td>42</td>\n",
       "      <td>...</td>\n",
       "      <td>NaN</td>\n",
       "      <td>NaN</td>\n",
       "      <td>NaN</td>\n",
       "      <td>NaN</td>\n",
       "      <td>NaN</td>\n",
       "      <td>NaN</td>\n",
       "      <td>NaN</td>\n",
       "      <td>NaN</td>\n",
       "      <td>NaN</td>\n",
       "      <td>NaN</td>\n",
       "    </tr>\n",
       "  </tbody>\n",
       "</table>\n",
       "<p>5 rows × 31 columns</p>\n",
       "</div>"
      ],
      "text/plain": [
       "     STA      Date Precip  WindGustSpd    MaxTemp    MinTemp   MeanTemp  \\\n",
       "0  10001  1942-7-1  1.016          NaN  25.555556  22.222222  23.888889   \n",
       "1  10001  1942-7-2      0          NaN  28.888889  21.666667  25.555556   \n",
       "2  10001  1942-7-3   2.54          NaN  26.111111  22.222222  24.444444   \n",
       "3  10001  1942-7-4   2.54          NaN  26.666667  22.222222  24.444444   \n",
       "4  10001  1942-7-5      0          NaN  26.666667  21.666667  24.444444   \n",
       "\n",
       "  Snowfall PoorWeather  YR  ...  FB  FTI ITH  PGT  TSHDSBRSGF  SD3  RHX  RHN  \\\n",
       "0        0         NaN  42  ... NaN  NaN NaN  NaN         NaN  NaN  NaN  NaN   \n",
       "1        0         NaN  42  ... NaN  NaN NaN  NaN         NaN  NaN  NaN  NaN   \n",
       "2        0         NaN  42  ... NaN  NaN NaN  NaN         NaN  NaN  NaN  NaN   \n",
       "3        0         NaN  42  ... NaN  NaN NaN  NaN         NaN  NaN  NaN  NaN   \n",
       "4        0         NaN  42  ... NaN  NaN NaN  NaN         NaN  NaN  NaN  NaN   \n",
       "\n",
       "  RVG  WTE  \n",
       "0 NaN  NaN  \n",
       "1 NaN  NaN  \n",
       "2 NaN  NaN  \n",
       "3 NaN  NaN  \n",
       "4 NaN  NaN  \n",
       "\n",
       "[5 rows x 31 columns]"
      ]
     },
     "execution_count": 60,
     "metadata": {},
     "output_type": "execute_result"
    }
   ],
   "source": [
    "weather.head()"
   ]
  },
  {
   "cell_type": "code",
   "execution_count": 61,
   "metadata": {},
   "outputs": [
    {
     "name": "stdout",
     "output_type": "stream",
     "text": [
      "<class 'pandas.core.frame.DataFrame'>\n",
      "RangeIndex: 119040 entries, 0 to 119039\n",
      "Data columns (total 3 columns):\n",
      " #   Column    Non-Null Count   Dtype  \n",
      "---  ------    --------------   -----  \n",
      " 0   STA       119040 non-null  int64  \n",
      " 1   Date      119040 non-null  object \n",
      " 2   MeanTemp  119040 non-null  float64\n",
      "dtypes: float64(1), int64(1), object(1)\n",
      "memory usage: 2.7+ MB\n"
     ]
    }
   ],
   "source": [
    "weather=weather.loc[:,[\"STA\",\"Date\",\"MeanTemp\"]]\n",
    "weather.info()"
   ]
  },
  {
   "cell_type": "code",
   "execution_count": 67,
   "metadata": {},
   "outputs": [
    {
     "data": {
      "image/png": "[encoded data removed]",
      "text/plain": [
       "<Figure size 432x288 with 1 Axes>"
      ]
     },
     "metadata": {
      "needs_background": "light"
     },
     "output_type": "display_data"
    },
    {
     "data": {
      "text/html": [
       "<div>\n",
       "<style scoped>\n",
       "    .dataframe tbody tr th:only-of-type {\n",
       "        vertical-align: middle;\n",
       "    }\n",
       "\n",
       "    .dataframe tbody tr th {\n",
       "        vertical-align: top;\n",
       "    }\n",
       "\n",
       "    .dataframe thead th {\n",
       "        text-align: right;\n",
       "    }\n",
       "</style>\n",
       "<table border=\"1\" class=\"dataframe\">\n",
       "  <thead>\n",
       "    <tr style=\"text-align: right;\">\n",
       "      <th></th>\n",
       "      <th>index</th>\n",
       "      <th>Country</th>\n",
       "    </tr>\n",
       "  </thead>\n",
       "  <tbody>\n",
       "    <tr>\n",
       "      <th>0</th>\n",
       "      <td>USA</td>\n",
       "      <td>1895</td>\n",
       "    </tr>\n",
       "    <tr>\n",
       "      <th>1</th>\n",
       "      <td>GREAT BRITAIN</td>\n",
       "      <td>544</td>\n",
       "    </tr>\n",
       "    <tr>\n",
       "      <th>2</th>\n",
       "      <td>NEW ZEALAND</td>\n",
       "      <td>102</td>\n",
       "    </tr>\n",
       "    <tr>\n",
       "      <th>3</th>\n",
       "      <td>SOUTH AFRICA</td>\n",
       "      <td>14</td>\n",
       "    </tr>\n",
       "  </tbody>\n",
       "</table>\n",
       "</div>"
      ],
      "text/plain": [
       "           index  Country\n",
       "0            USA     1895\n",
       "1  GREAT BRITAIN      544\n",
       "2    NEW ZEALAND      102\n",
       "3   SOUTH AFRICA       14"
      ]
     },
     "execution_count": 67,
     "metadata": {},
     "output_type": "execute_result"
    }
   ],
   "source": [
    "sns.countplot(aerial['Country'])\n",
    "pl.xticks(rotation=45)\n",
    "pl.show()\n",
    "aerial['Country'].value_counts().reset_index()"
   ]
  },
  {
   "cell_type": "code",
   "execution_count": 79,
   "metadata": {},
   "outputs": [
    {
     "data": {
      "image/png": "[encoded data removed]",
      "text/plain": [
       "<Figure size 1440x720 with 1 Axes>"
      ]
     },
     "metadata": {
      "needs_background": "light"
     },
     "output_type": "display_data"
    },
    {
     "data": {
      "text/html": [
       "<div>\n",
       "<style scoped>\n",
       "    .dataframe tbody tr th:only-of-type {\n",
       "        vertical-align: middle;\n",
       "    }\n",
       "\n",
       "    .dataframe tbody tr th {\n",
       "        vertical-align: top;\n",
       "    }\n",
       "\n",
       "    .dataframe thead th {\n",
       "        text-align: right;\n",
       "    }\n",
       "</style>\n",
       "<table border=\"1\" class=\"dataframe\">\n",
       "  <thead>\n",
       "    <tr style=\"text-align: right;\">\n",
       "      <th></th>\n",
       "      <th>index</th>\n",
       "      <th>Target Country</th>\n",
       "    </tr>\n",
       "  </thead>\n",
       "  <tbody>\n",
       "    <tr>\n",
       "      <th>0</th>\n",
       "      <td>ITALY</td>\n",
       "      <td>1104</td>\n",
       "    </tr>\n",
       "    <tr>\n",
       "      <th>1</th>\n",
       "      <td>BURMA</td>\n",
       "      <td>335</td>\n",
       "    </tr>\n",
       "    <tr>\n",
       "      <th>2</th>\n",
       "      <td>LIBYA</td>\n",
       "      <td>272</td>\n",
       "    </tr>\n",
       "    <tr>\n",
       "      <th>3</th>\n",
       "      <td>TUNISIA</td>\n",
       "      <td>113</td>\n",
       "    </tr>\n",
       "    <tr>\n",
       "      <th>4</th>\n",
       "      <td>GREECE</td>\n",
       "      <td>87</td>\n",
       "    </tr>\n",
       "    <tr>\n",
       "      <th>5</th>\n",
       "      <td>EGYPT</td>\n",
       "      <td>80</td>\n",
       "    </tr>\n",
       "    <tr>\n",
       "      <th>6</th>\n",
       "      <td>JAPAN</td>\n",
       "      <td>71</td>\n",
       "    </tr>\n",
       "    <tr>\n",
       "      <th>7</th>\n",
       "      <td>CHINA</td>\n",
       "      <td>52</td>\n",
       "    </tr>\n",
       "    <tr>\n",
       "      <th>8</th>\n",
       "      <td>SICILY</td>\n",
       "      <td>46</td>\n",
       "    </tr>\n",
       "    <tr>\n",
       "      <th>9</th>\n",
       "      <td>GERMANY</td>\n",
       "      <td>41</td>\n",
       "    </tr>\n",
       "  </tbody>\n",
       "</table>\n",
       "</div>"
      ],
      "text/plain": [
       "     index  Target Country\n",
       "0    ITALY            1104\n",
       "1    BURMA             335\n",
       "2    LIBYA             272\n",
       "3  TUNISIA             113\n",
       "4   GREECE              87\n",
       "5    EGYPT              80\n",
       "6    JAPAN              71\n",
       "7    CHINA              52\n",
       "8   SICILY              46\n",
       "9  GERMANY              41"
      ]
     },
     "execution_count": 79,
     "metadata": {},
     "output_type": "execute_result"
    }
   ],
   "source": [
    "pl.figure(figsize=(20,10))\n",
    "sns.countplot(aerial['Target Country'])\n",
    "pl.xticks(rotation=90)\n",
    "pl.show()\n",
    "\n",
    "\n",
    "aerial['Target Country'].value_counts()[:10].reset_index()"
   ]
  },
  {
   "cell_type": "code",
   "execution_count": 87,
   "metadata": {},
   "outputs": [
    {
     "data": {
      "application/vnd.plotly.v1+json": {
       "config": {
        "linkText": "Export to plot.ly",
        "plotlyServerURL": "https://plot.ly",
        "showLink": false
       },
       "data": [
        {
         "hoverinfo": "text",
         "marker": {
          "color": "rgba(177,14,22,0.5)",
          "line": {
           "color": "rgb(0,0,0)",
           "width": 1.5
          }
         },
         "type": "bar",
         "x": [
          "A36",
          "B25",
          "B24",
          "BLEN",
          "LIB",
          "WELL",
          "B17",
          "PV-1 VENTURA",
          "WHIT",
          "HALI"
         ],
         "y": [
          990,
          416,
          337,
          180,
          145,
          129,
          119,
          70,
          32,
          18
         ]
        }
       ],
       "layout": {
        "template": {
         "data": {
          "bar": [
           {
            "error_x": {
             "color": "#2a3f5f"
            },
            "error_y": {
             "color": "#2a3f5f"
            },
            "marker": {
             "line": {
              "color": "#E5ECF6",
              "width": 0.5
             }
            },
            "type": "bar"
           }
          ],
          "barpolar": [
           {
            "marker": {
             "line": {
              "color": "#E5ECF6",
              "width": 0.5
             }
            },
            "type": "barpolar"
           }
          ],
          "carpet": [
           {
            "aaxis": {
             "endlinecolor": "#2a3f5f",
             "gridcolor": "white",
             "linecolor": "white",
             "minorgridcolor": "white",
             "startlinecolor": "#2a3f5f"
            },
            "baxis": {
             "endlinecolor": "#2a3f5f",
             "gridcolor": "white",
             "linecolor": "white",
             "minorgridcolor": "white",
             "startlinecolor": "#2a3f5f"
            },
            "type": "carpet"
           }
          ],
          "choropleth": [
           {
            "colorbar": {
             "outlinewidth": 0,
             "ticks": ""
            },
            "type": "choropleth"
           }
          ],
          "contour": [
           {
            "colorbar": {
             "outlinewidth": 0,
             "ticks": ""
            },
            "colorscale": [
             [
              0,
              "#0d0887"
             ],
             [
              0.1111111111111111,
              "#46039f"
             ],
             [
              0.2222222222222222,
              "#7201a8"
             ],
             [
              0.3333333333333333,
              "#9c179e"
             ],
             [
              0.4444444444444444,
              "#bd3786"
             ],
             [
              0.5555555555555556,
              "#d8576b"
             ],
             [
              0.6666666666666666,
              "#ed7953"
             ],
             [
              0.7777777777777778,
              "#fb9f3a"
             ],
             [
              0.8888888888888888,
              "#fdca26"
             ],
             [
              1,
              "#f0f921"
             ]
            ],
            "type": "contour"
           }
          ],
          "contourcarpet": [
           {
            "colorbar": {
             "outlinewidth": 0,
             "ticks": ""
            },
            "type": "contourcarpet"
           }
          ],
          "heatmap": [
           {
            "colorbar": {
             "outlinewidth": 0,
             "ticks": ""
            },
            "colorscale": [
             [
              0,
              "#0d0887"
             ],
             [
              0.1111111111111111,
              "#46039f"
             ],
             [
              0.2222222222222222,
              "#7201a8"
             ],
             [
              0.3333333333333333,
              "#9c179e"
             ],
             [
              0.4444444444444444,
              "#bd3786"
             ],
             [
              0.5555555555555556,
              "#d8576b"
             ],
             [
              0.6666666666666666,
              "#ed7953"
             ],
             [
              0.7777777777777778,
              "#fb9f3a"
             ],
             [
              0.8888888888888888,
              "#fdca26"
             ],
             [
              1,
              "#f0f921"
             ]
            ],
            "type": "heatmap"
           }
          ],
          "heatmapgl": [
           {
            "colorbar": {
             "outlinewidth": 0,
             "ticks": ""
            },
            "colorscale": [
             [
              0,
              "#0d0887"
             ],
             [
              0.1111111111111111,
              "#46039f"
             ],
             [
              0.2222222222222222,
              "#7201a8"
             ],
             [
              0.3333333333333333,
              "#9c179e"
             ],
             [
              0.4444444444444444,
              "#bd3786"
             ],
             [
              0.5555555555555556,
              "#d8576b"
             ],
             [
              0.6666666666666666,
              "#ed7953"
             ],
             [
              0.7777777777777778,
              "#fb9f3a"
             ],
             [
              0.8888888888888888,
              "#fdca26"
             ],
             [
              1,
              "#f0f921"
             ]
            ],
            "type": "heatmapgl"
           }
          ],
          "histogram": [
           {
            "marker": {
             "colorbar": {
              "outlinewidth": 0,
              "ticks": ""
             }
            },
            "type": "histogram"
           }
          ],
          "histogram2d": [
           {
            "colorbar": {
             "outlinewidth": 0,
             "ticks": ""
            },
            "colorscale": [
             [
              0,
              "#0d0887"
             ],
             [
              0.1111111111111111,
              "#46039f"
             ],
             [
              0.2222222222222222,
              "#7201a8"
             ],
             [
              0.3333333333333333,
              "#9c179e"
             ],
             [
              0.4444444444444444,
              "#bd3786"
             ],
             [
              0.5555555555555556,
              "#d8576b"
             ],
             [
              0.6666666666666666,
              "#ed7953"
             ],
             [
              0.7777777777777778,
              "#fb9f3a"
             ],
             [
              0.8888888888888888,
              "#fdca26"
             ],
             [
              1,
              "#f0f921"
             ]
            ],
            "type": "histogram2d"
           }
          ],
          "histogram2dcontour": [
           {
            "colorbar": {
             "outlinewidth": 0,
             "ticks": ""
            },
            "colorscale": [
             [
              0,
              "#0d0887"
             ],
             [
              0.1111111111111111,
              "#46039f"
             ],
             [
              0.2222222222222222,
              "#7201a8"
             ],
             [
              0.3333333333333333,
              "#9c179e"
             ],
             [
              0.4444444444444444,
              "#bd3786"
             ],
             [
              0.5555555555555556,
              "#d8576b"
             ],
             [
              0.6666666666666666,
              "#ed7953"
             ],
             [
              0.7777777777777778,
              "#fb9f3a"
             ],
             [
              0.8888888888888888,
              "#fdca26"
             ],
             [
              1,
              "#f0f921"
             ]
            ],
            "type": "histogram2dcontour"
           }
          ],
          "mesh3d": [
           {
            "colorbar": {
             "outlinewidth": 0,
             "ticks": ""
            },
            "type": "mesh3d"
           }
          ],
          "parcoords": [
           {
            "line": {
             "colorbar": {
              "outlinewidth": 0,
              "ticks": ""
             }
            },
            "type": "parcoords"
           }
          ],
          "pie": [
           {
            "automargin": true,
            "type": "pie"
           }
          ],
          "scatter": [
           {
            "marker": {
             "colorbar": {
              "outlinewidth": 0,
              "ticks": ""
             }
            },
            "type": "scatter"
           }
          ],
          "scatter3d": [
           {
            "line": {
             "colorbar": {
              "outlinewidth": 0,
              "ticks": ""
             }
            },
            "marker": {
             "colorbar": {
              "outlinewidth": 0,
              "ticks": ""
             }
            },
            "type": "scatter3d"
           }
          ],
          "scattercarpet": [
           {
            "marker": {
             "colorbar": {
              "outlinewidth": 0,
              "ticks": ""
             }
            },
            "type": "scattercarpet"
           }
          ],
          "scattergeo": [
           {
            "marker": {
             "colorbar": {
              "outlinewidth": 0,
              "ticks": ""
             }
            },
            "type": "scattergeo"
           }
          ],
          "scattergl": [
           {
            "marker": {
             "colorbar": {
              "outlinewidth": 0,
              "ticks": ""
             }
            },
            "type": "scattergl"
           }
          ],
          "scattermapbox": [
           {
            "marker": {
             "colorbar": {
              "outlinewidth": 0,
              "ticks": ""
             }
            },
            "type": "scattermapbox"
           }
          ],
          "scatterpolar": [
           {
            "marker": {
             "colorbar": {
              "outlinewidth": 0,
              "ticks": ""
             }
            },
            "type": "scatterpolar"
           }
          ],
          "scatterpolargl": [
           {
            "marker": {
             "colorbar": {
              "outlinewidth": 0,
              "ticks": ""
             }
            },
            "type": "scatterpolargl"
           }
          ],
          "scatterternary": [
           {
            "marker": {
             "colorbar": {
              "outlinewidth": 0,
              "ticks": ""
             }
            },
            "type": "scatterternary"
           }
          ],
          "surface": [
           {
            "colorbar": {
             "outlinewidth": 0,
             "ticks": ""
            },
            "colorscale": [
             [
              0,
              "#0d0887"
             ],
             [
              0.1111111111111111,
              "#46039f"
             ],
             [
              0.2222222222222222,
              "#7201a8"
             ],
             [
              0.3333333333333333,
              "#9c179e"
             ],
             [
              0.4444444444444444,
              "#bd3786"
             ],
             [
              0.5555555555555556,
              "#d8576b"
             ],
             [
              0.6666666666666666,
              "#ed7953"
             ],
             [
              0.7777777777777778,
              "#fb9f3a"
             ],
             [
              0.8888888888888888,
              "#fdca26"
             ],
             [
              1,
              "#f0f921"
             ]
            ],
            "type": "surface"
           }
          ],
          "table": [
           {
            "cells": {
             "fill": {
              "color": "#EBF0F8"
             },
             "line": {
              "color": "white"
             }
            },
            "header": {
             "fill": {
              "color": "#C8D4E3"
             },
             "line": {
              "color": "white"
             }
            },
            "type": "table"
           }
          ]
         },
         "layout": {
          "annotationdefaults": {
           "arrowcolor": "#2a3f5f",
           "arrowhead": 0,
           "arrowwidth": 1
          },
          "coloraxis": {
           "colorbar": {
            "outlinewidth": 0,
            "ticks": ""
           }
          },
          "colorscale": {
           "diverging": [
            [
             0,
             "#8e0152"
            ],
            [
             0.1,
             "#c51b7d"
            ],
            [
             0.2,
             "#de77ae"
            ],
            [
             0.3,
             "#f1b6da"
            ],
            [
             0.4,
             "#fde0ef"
            ],
            [
             0.5,
             "#f7f7f7"
            ],
            [
             0.6,
             "#e6f5d0"
            ],
            [
             0.7,
             "#b8e186"
            ],
            [
             0.8,
             "#7fbc41"
            ],
            [
             0.9,
             "#4d9221"
            ],
            [
             1,
             "#276419"
            ]
           ],
           "sequential": [
            [
             0,
             "#0d0887"
            ],
            [
             0.1111111111111111,
             "#46039f"
            ],
            [
             0.2222222222222222,
             "#7201a8"
            ],
            [
             0.3333333333333333,
             "#9c179e"
            ],
            [
             0.4444444444444444,
             "#bd3786"
            ],
            [
             0.5555555555555556,
             "#d8576b"
            ],
            [
             0.6666666666666666,
             "#ed7953"
            ],
            [
             0.7777777777777778,
             "#fb9f3a"
            ],
            [
             0.8888888888888888,
             "#fdca26"
            ],
            [
             1,
             "#f0f921"
            ]
           ],
           "sequentialminus": [
            [
             0,
             "#0d0887"
            ],
            [
             0.1111111111111111,
             "#46039f"
            ],
            [
             0.2222222222222222,
             "#7201a8"
            ],
            [
             0.3333333333333333,
             "#9c179e"
            ],
            [
             0.4444444444444444,
             "#bd3786"
            ],
            [
             0.5555555555555556,
             "#d8576b"
            ],
            [
             0.6666666666666666,
             "#ed7953"
            ],
            [
             0.7777777777777778,
             "#fb9f3a"
            ],
            [
             0.8888888888888888,
             "#fdca26"
            ],
            [
             1,
             "#f0f921"
            ]
           ]
          },
          "colorway": [
           "#636efa",
           "#EF553B",
           "#00cc96",
           "#ab63fa",
           "#FFA15A",
           "#19d3f3",
           "#FF6692",
           "#B6E880",
           "#FF97FF",
           "#FECB52"
          ],
          "font": {
           "color": "#2a3f5f"
          },
          "geo": {
           "bgcolor": "white",
           "lakecolor": "white",
           "landcolor": "#E5ECF6",
           "showlakes": true,
           "showland": true,
           "subunitcolor": "white"
          },
          "hoverlabel": {
           "align": "left"
          },
          "hovermode": "closest",
          "mapbox": {
           "style": "light"
          },
          "paper_bgcolor": "white",
          "plot_bgcolor": "#E5ECF6",
          "polar": {
           "angularaxis": {
            "gridcolor": "white",
            "linecolor": "white",
            "ticks": ""
           },
           "bgcolor": "#E5ECF6",
           "radialaxis": {
            "gridcolor": "white",
            "linecolor": "white",
            "ticks": ""
           }
          },
          "scene": {
           "xaxis": {
            "backgroundcolor": "#E5ECF6",
            "gridcolor": "white",
            "gridwidth": 2,
            "linecolor": "white",
            "showbackground": true,
            "ticks": "",
            "zerolinecolor": "white"
           },
           "yaxis": {
            "backgroundcolor": "#E5ECF6",
            "gridcolor": "white",
            "gridwidth": 2,
            "linecolor": "white",
            "showbackground": true,
            "ticks": "",
            "zerolinecolor": "white"
           },
           "zaxis": {
            "backgroundcolor": "#E5ECF6",
            "gridcolor": "white",
            "gridwidth": 2,
            "linecolor": "white",
            "showbackground": true,
            "ticks": "",
            "zerolinecolor": "white"
           }
          },
          "shapedefaults": {
           "line": {
            "color": "#2a3f5f"
           }
          },
          "ternary": {
           "aaxis": {
            "gridcolor": "white",
            "linecolor": "white",
            "ticks": ""
           },
           "baxis": {
            "gridcolor": "white",
            "linecolor": "white",
            "ticks": ""
           },
           "bgcolor": "#E5ECF6",
           "caxis": {
            "gridcolor": "white",
            "linecolor": "white",
            "ticks": ""
           }
          },
          "title": {
           "x": 0.05
          },
          "xaxis": {
           "automargin": true,
           "gridcolor": "white",
           "linecolor": "white",
           "ticks": "",
           "title": {
            "standoff": 15
           },
           "zerolinecolor": "white",
           "zerolinewidth": 2
          },
          "yaxis": {
           "automargin": true,
           "gridcolor": "white",
           "linecolor": "white",
           "ticks": "",
           "title": {
            "standoff": 15
           },
           "zerolinecolor": "white",
           "zerolinewidth": 2
          }
         }
        },
        "title": {
         "text": "Aircraft Series"
        }
       }
      },
      "text/html": [
       "<div>\n",
       "        \n",
       "        \n",
       "            <div id=\"ffde8bd7-af2e-4bbb-9da4-7cd9fdd0ae47\" class=\"plotly-graph-div\" style=\"height:525px; width:100%;\"></div>\n",
       "            <script type=\"text/javascript\">\n",
       "                require([\"plotly\"], function(Plotly) {\n",
       "                    window.PLOTLYENV=window.PLOTLYENV || {};\n",
       "                    \n",
       "                if (document.getElementById(\"ffde8bd7-af2e-4bbb-9da4-7cd9fdd0ae47\")) {\n",
       "                    Plotly.newPlot(\n",
       "                        'ffde8bd7-af2e-4bbb-9da4-7cd9fdd0ae47',\n",
       "                        [{\"hoverinfo\": \"text\", \"marker\": {\"color\": \"rgba(177,14,22,0.5)\", \"line\": {\"color\": \"rgb(0,0,0)\", \"width\": 1.5}}, \"type\": \"bar\", \"x\": [\"A36\", \"B25\", \"B24\", \"BLEN\", \"LIB\", \"WELL\", \"B17\", \"PV-1 VENTURA\", \"WHIT\", \"HALI\"], \"y\": [990, 416, 337, 180, 145, 129, 119, 70, 32, 18]}],\n",
       "                        {\"template\": {\"data\": {\"bar\": [{\"error_x\": {\"color\": \"#2a3f5f\"}, \"error_y\": {\"color\": \"#2a3f5f\"}, \"marker\": {\"line\": {\"color\": \"#E5ECF6\", \"width\": 0.5}}, \"type\": \"bar\"}], \"barpolar\": [{\"marker\": {\"line\": {\"color\": \"#E5ECF6\", \"width\": 0.5}}, \"type\": \"barpolar\"}], \"carpet\": [{\"aaxis\": {\"endlinecolor\": \"#2a3f5f\", \"gridcolor\": \"white\", \"linecolor\": \"white\", \"minorgridcolor\": \"white\", \"startlinecolor\": \"#2a3f5f\"}, \"baxis\": {\"endlinecolor\": \"#2a3f5f\", \"gridcolor\": \"white\", \"linecolor\": \"white\", \"minorgridcolor\": \"white\", \"startlinecolor\": \"#2a3f5f\"}, \"type\": \"carpet\"}], \"choropleth\": [{\"colorbar\": {\"outlinewidth\": 0, \"ticks\": \"\"}, \"type\": \"choropleth\"}], \"contour\": [{\"colorbar\": {\"outlinewidth\": 0, \"ticks\": \"\"}, \"colorscale\": [[0.0, \"#0d0887\"], [0.1111111111111111, \"#46039f\"], [0.2222222222222222, \"#7201a8\"], [0.3333333333333333, \"#9c179e\"], [0.4444444444444444, \"#bd3786\"], [0.5555555555555556, \"#d8576b\"], [0.6666666666666666, \"#ed7953\"], [0.7777777777777778, \"#fb9f3a\"], [0.8888888888888888, \"#fdca26\"], [1.0, \"#f0f921\"]], \"type\": \"contour\"}], \"contourcarpet\": [{\"colorbar\": {\"outlinewidth\": 0, \"ticks\": \"\"}, \"type\": \"contourcarpet\"}], \"heatmap\": [{\"colorbar\": {\"outlinewidth\": 0, \"ticks\": \"\"}, \"colorscale\": [[0.0, \"#0d0887\"], [0.1111111111111111, \"#46039f\"], [0.2222222222222222, \"#7201a8\"], [0.3333333333333333, \"#9c179e\"], [0.4444444444444444, \"#bd3786\"], [0.5555555555555556, \"#d8576b\"], [0.6666666666666666, \"#ed7953\"], [0.7777777777777778, \"#fb9f3a\"], [0.8888888888888888, \"#fdca26\"], [1.0, \"#f0f921\"]], \"type\": \"heatmap\"}], \"heatmapgl\": [{\"colorbar\": {\"outlinewidth\": 0, \"ticks\": \"\"}, \"colorscale\": [[0.0, \"#0d0887\"], [0.1111111111111111, \"#46039f\"], [0.2222222222222222, \"#7201a8\"], [0.3333333333333333, \"#9c179e\"], [0.4444444444444444, \"#bd3786\"], [0.5555555555555556, \"#d8576b\"], [0.6666666666666666, \"#ed7953\"], [0.7777777777777778, \"#fb9f3a\"], [0.8888888888888888, \"#fdca26\"], [1.0, \"#f0f921\"]], \"type\": \"heatmapgl\"}], \"histogram\": [{\"marker\": {\"colorbar\": {\"outlinewidth\": 0, \"ticks\": \"\"}}, \"type\": \"histogram\"}], \"histogram2d\": [{\"colorbar\": {\"outlinewidth\": 0, \"ticks\": \"\"}, \"colorscale\": [[0.0, \"#0d0887\"], [0.1111111111111111, \"#46039f\"], [0.2222222222222222, \"#7201a8\"], [0.3333333333333333, \"#9c179e\"], [0.4444444444444444, \"#bd3786\"], [0.5555555555555556, \"#d8576b\"], [0.6666666666666666, \"#ed7953\"], [0.7777777777777778, \"#fb9f3a\"], [0.8888888888888888, \"#fdca26\"], [1.0, \"#f0f921\"]], \"type\": \"histogram2d\"}], \"histogram2dcontour\": [{\"colorbar\": {\"outlinewidth\": 0, \"ticks\": \"\"}, \"colorscale\": [[0.0, \"#0d0887\"], [0.1111111111111111, \"#46039f\"], [0.2222222222222222, \"#7201a8\"], [0.3333333333333333, \"#9c179e\"], [0.4444444444444444, \"#bd3786\"], [0.5555555555555556, \"#d8576b\"], [0.6666666666666666, \"#ed7953\"], [0.7777777777777778, \"#fb9f3a\"], [0.8888888888888888, \"#fdca26\"], [1.0, \"#f0f921\"]], \"type\": \"histogram2dcontour\"}], \"mesh3d\": [{\"colorbar\": {\"outlinewidth\": 0, \"ticks\": \"\"}, \"type\": \"mesh3d\"}], \"parcoords\": [{\"line\": {\"colorbar\": {\"outlinewidth\": 0, \"ticks\": \"\"}}, \"type\": \"parcoords\"}], \"pie\": [{\"automargin\": true, \"type\": \"pie\"}], \"scatter\": [{\"marker\": {\"colorbar\": {\"outlinewidth\": 0, \"ticks\": \"\"}}, \"type\": \"scatter\"}], \"scatter3d\": [{\"line\": {\"colorbar\": {\"outlinewidth\": 0, \"ticks\": \"\"}}, \"marker\": {\"colorbar\": {\"outlinewidth\": 0, \"ticks\": \"\"}}, \"type\": \"scatter3d\"}], \"scattercarpet\": [{\"marker\": {\"colorbar\": {\"outlinewidth\": 0, \"ticks\": \"\"}}, \"type\": \"scattercarpet\"}], \"scattergeo\": [{\"marker\": {\"colorbar\": {\"outlinewidth\": 0, \"ticks\": \"\"}}, \"type\": \"scattergeo\"}], \"scattergl\": [{\"marker\": {\"colorbar\": {\"outlinewidth\": 0, \"ticks\": \"\"}}, \"type\": \"scattergl\"}], \"scattermapbox\": [{\"marker\": {\"colorbar\": {\"outlinewidth\": 0, \"ticks\": \"\"}}, \"type\": \"scattermapbox\"}], \"scatterpolar\": [{\"marker\": {\"colorbar\": {\"outlinewidth\": 0, \"ticks\": \"\"}}, \"type\": \"scatterpolar\"}], \"scatterpolargl\": [{\"marker\": {\"colorbar\": {\"outlinewidth\": 0, \"ticks\": \"\"}}, \"type\": \"scatterpolargl\"}], \"scatterternary\": [{\"marker\": {\"colorbar\": {\"outlinewidth\": 0, \"ticks\": \"\"}}, \"type\": \"scatterternary\"}], \"surface\": [{\"colorbar\": {\"outlinewidth\": 0, \"ticks\": \"\"}, \"colorscale\": [[0.0, \"#0d0887\"], [0.1111111111111111, \"#46039f\"], [0.2222222222222222, \"#7201a8\"], [0.3333333333333333, \"#9c179e\"], [0.4444444444444444, \"#bd3786\"], [0.5555555555555556, \"#d8576b\"], [0.6666666666666666, \"#ed7953\"], [0.7777777777777778, \"#fb9f3a\"], [0.8888888888888888, \"#fdca26\"], [1.0, \"#f0f921\"]], \"type\": \"surface\"}], \"table\": [{\"cells\": {\"fill\": {\"color\": \"#EBF0F8\"}, \"line\": {\"color\": \"white\"}}, \"header\": {\"fill\": {\"color\": \"#C8D4E3\"}, \"line\": {\"color\": \"white\"}}, \"type\": \"table\"}]}, \"layout\": {\"annotationdefaults\": {\"arrowcolor\": \"#2a3f5f\", \"arrowhead\": 0, \"arrowwidth\": 1}, \"coloraxis\": {\"colorbar\": {\"outlinewidth\": 0, \"ticks\": \"\"}}, \"colorscale\": {\"diverging\": [[0, \"#8e0152\"], [0.1, \"#c51b7d\"], [0.2, \"#de77ae\"], [0.3, \"#f1b6da\"], [0.4, \"#fde0ef\"], [0.5, \"#f7f7f7\"], [0.6, \"#e6f5d0\"], [0.7, \"#b8e186\"], [0.8, \"#7fbc41\"], [0.9, \"#4d9221\"], [1, \"#276419\"]], \"sequential\": [[0.0, \"#0d0887\"], [0.1111111111111111, \"#46039f\"], [0.2222222222222222, \"#7201a8\"], [0.3333333333333333, \"#9c179e\"], [0.4444444444444444, \"#bd3786\"], [0.5555555555555556, \"#d8576b\"], [0.6666666666666666, \"#ed7953\"], [0.7777777777777778, \"#fb9f3a\"], [0.8888888888888888, \"#fdca26\"], [1.0, \"#f0f921\"]], \"sequentialminus\": [[0.0, \"#0d0887\"], [0.1111111111111111, \"#46039f\"], [0.2222222222222222, \"#7201a8\"], [0.3333333333333333, \"#9c179e\"], [0.4444444444444444, \"#bd3786\"], [0.5555555555555556, \"#d8576b\"], [0.6666666666666666, \"#ed7953\"], [0.7777777777777778, \"#fb9f3a\"], [0.8888888888888888, \"#fdca26\"], [1.0, \"#f0f921\"]]}, \"colorway\": [\"#636efa\", \"#EF553B\", \"#00cc96\", \"#ab63fa\", \"#FFA15A\", \"#19d3f3\", \"#FF6692\", \"#B6E880\", \"#FF97FF\", \"#FECB52\"], \"font\": {\"color\": \"#2a3f5f\"}, \"geo\": {\"bgcolor\": \"white\", \"lakecolor\": \"white\", \"landcolor\": \"#E5ECF6\", \"showlakes\": true, \"showland\": true, \"subunitcolor\": \"white\"}, \"hoverlabel\": {\"align\": \"left\"}, \"hovermode\": \"closest\", \"mapbox\": {\"style\": \"light\"}, \"paper_bgcolor\": \"white\", \"plot_bgcolor\": \"#E5ECF6\", \"polar\": {\"angularaxis\": {\"gridcolor\": \"white\", \"linecolor\": \"white\", \"ticks\": \"\"}, \"bgcolor\": \"#E5ECF6\", \"radialaxis\": {\"gridcolor\": \"white\", \"linecolor\": \"white\", \"ticks\": \"\"}}, \"scene\": {\"xaxis\": {\"backgroundcolor\": \"#E5ECF6\", \"gridcolor\": \"white\", \"gridwidth\": 2, \"linecolor\": \"white\", \"showbackground\": true, \"ticks\": \"\", \"zerolinecolor\": \"white\"}, \"yaxis\": {\"backgroundcolor\": \"#E5ECF6\", \"gridcolor\": \"white\", \"gridwidth\": 2, \"linecolor\": \"white\", \"showbackground\": true, \"ticks\": \"\", \"zerolinecolor\": \"white\"}, \"zaxis\": {\"backgroundcolor\": \"#E5ECF6\", \"gridcolor\": \"white\", \"gridwidth\": 2, \"linecolor\": \"white\", \"showbackground\": true, \"ticks\": \"\", \"zerolinecolor\": \"white\"}}, \"shapedefaults\": {\"line\": {\"color\": \"#2a3f5f\"}}, \"ternary\": {\"aaxis\": {\"gridcolor\": \"white\", \"linecolor\": \"white\", \"ticks\": \"\"}, \"baxis\": {\"gridcolor\": \"white\", \"linecolor\": \"white\", \"ticks\": \"\"}, \"bgcolor\": \"#E5ECF6\", \"caxis\": {\"gridcolor\": \"white\", \"linecolor\": \"white\", \"ticks\": \"\"}}, \"title\": {\"x\": 0.05}, \"xaxis\": {\"automargin\": true, \"gridcolor\": \"white\", \"linecolor\": \"white\", \"ticks\": \"\", \"title\": {\"standoff\": 15}, \"zerolinecolor\": \"white\", \"zerolinewidth\": 2}, \"yaxis\": {\"automargin\": true, \"gridcolor\": \"white\", \"linecolor\": \"white\", \"ticks\": \"\", \"title\": {\"standoff\": 15}, \"zerolinecolor\": \"white\", \"zerolinewidth\": 2}}}, \"title\": {\"text\": \"Aircraft Series\"}},\n",
       "                        {\"responsive\": true}\n",
       "                    ).then(function(){\n",
       "                            \n",
       "var gd = document.getElementById('ffde8bd7-af2e-4bbb-9da4-7cd9fdd0ae47');\n",
       "var x = new MutationObserver(function (mutations, observer) {{\n",
       "        var display = window.getComputedStyle(gd).display;\n",
       "        if (!display || display === 'none') {{\n",
       "            console.log([gd, 'removed!']);\n",
       "            Plotly.purge(gd);\n",
       "            observer.disconnect();\n",
       "        }}\n",
       "}});\n",
       "\n",
       "// Listen for the removal of the full notebook cells\n",
       "var notebookContainer = gd.closest('#notebook-container');\n",
       "if (notebookContainer) {{\n",
       "    x.observe(notebookContainer, {childList: true});\n",
       "}}\n",
       "\n",
       "// Listen for the clearing of the current output cell\n",
       "var outputEl = gd.closest('.output');\n",
       "if (outputEl) {{\n",
       "    x.observe(outputEl, {childList: true});\n",
       "}}\n",
       "\n",
       "                        })\n",
       "                };\n",
       "                });\n",
       "            </script>\n",
       "        </div>"
      ]
     },
     "metadata": {},
     "output_type": "display_data"
    }
   ],
   "source": [
    "data=aerial['Aircraft Series'].value_counts()\n",
    "data=[go.Bar(x=data[:10].index,\n",
    "             y=data[:10].values,\n",
    "            hoverinfo='text',\n",
    "            marker=dict(color='rgba(177,14,22,0.5)',\n",
    "            line=dict(color='rgb(0,0,0)',width=1.5)))]\n",
    "layout=dict(title='Aircraft Series')\n",
    "fig=go.Figure(data=data,layout=layout)\n",
    "iplot(fig)"
   ]
  },
  {
   "cell_type": "code",
   "execution_count": 88,
   "metadata": {},
   "outputs": [
    {
     "data": {
      "text/html": [
       "<div>\n",
       "<style scoped>\n",
       "    .dataframe tbody tr th:only-of-type {\n",
       "        vertical-align: middle;\n",
       "    }\n",
       "\n",
       "    .dataframe tbody tr th {\n",
       "        vertical-align: top;\n",
       "    }\n",
       "\n",
       "    .dataframe thead th {\n",
       "        text-align: right;\n",
       "    }\n",
       "</style>\n",
       "<table border=\"1\" class=\"dataframe\">\n",
       "  <thead>\n",
       "    <tr style=\"text-align: right;\">\n",
       "      <th></th>\n",
       "      <th>Mission Date</th>\n",
       "      <th>Theater of Operations</th>\n",
       "      <th>Country</th>\n",
       "      <th>Air Force</th>\n",
       "      <th>Aircraft Series</th>\n",
       "      <th>Callsign</th>\n",
       "      <th>Takeoff Base</th>\n",
       "      <th>Takeoff Location</th>\n",
       "      <th>Takeoff Latitude</th>\n",
       "      <th>Takeoff Longitude</th>\n",
       "      <th>Target Country</th>\n",
       "      <th>Target City</th>\n",
       "      <th>Target Type</th>\n",
       "      <th>Target Industry</th>\n",
       "      <th>Target Priority</th>\n",
       "      <th>Target Latitude</th>\n",
       "      <th>Target Longitude</th>\n",
       "    </tr>\n",
       "  </thead>\n",
       "  <tbody>\n",
       "    <tr>\n",
       "      <th>0</th>\n",
       "      <td>8/15/1943</td>\n",
       "      <td>MTO</td>\n",
       "      <td>USA</td>\n",
       "      <td>12 AF</td>\n",
       "      <td>A36</td>\n",
       "      <td>NaN</td>\n",
       "      <td>PONTE OLIVO AIRFIELD</td>\n",
       "      <td>SICILY</td>\n",
       "      <td>37.131022</td>\n",
       "      <td>14.321464</td>\n",
       "      <td>ITALY</td>\n",
       "      <td>SPADAFORA</td>\n",
       "      <td>NaN</td>\n",
       "      <td>NaN</td>\n",
       "      <td>NaN</td>\n",
       "      <td>38.22</td>\n",
       "      <td>15.37</td>\n",
       "    </tr>\n",
       "    <tr>\n",
       "      <th>2</th>\n",
       "      <td>8/15/1943</td>\n",
       "      <td>MTO</td>\n",
       "      <td>USA</td>\n",
       "      <td>12 AF</td>\n",
       "      <td>A36</td>\n",
       "      <td>NaN</td>\n",
       "      <td>PONTE OLIVO AIRFIELD</td>\n",
       "      <td>SICILY</td>\n",
       "      <td>37.131022</td>\n",
       "      <td>14.321464</td>\n",
       "      <td>ITALY</td>\n",
       "      <td>COSENZA</td>\n",
       "      <td>NaN</td>\n",
       "      <td>NaN</td>\n",
       "      <td>NaN</td>\n",
       "      <td>39.27</td>\n",
       "      <td>16.25</td>\n",
       "    </tr>\n",
       "    <tr>\n",
       "      <th>3</th>\n",
       "      <td>8/15/1943</td>\n",
       "      <td>MTO</td>\n",
       "      <td>USA</td>\n",
       "      <td>12 AF</td>\n",
       "      <td>A36</td>\n",
       "      <td>NaN</td>\n",
       "      <td>PONTE OLIVO AIRFIELD</td>\n",
       "      <td>SICILY</td>\n",
       "      <td>37.131022</td>\n",
       "      <td>14.321464</td>\n",
       "      <td>ITALY</td>\n",
       "      <td>GIOJA TAURO</td>\n",
       "      <td>NaN</td>\n",
       "      <td>NaN</td>\n",
       "      <td>NaN</td>\n",
       "      <td>38.43</td>\n",
       "      <td>15.90</td>\n",
       "    </tr>\n",
       "    <tr>\n",
       "      <th>8</th>\n",
       "      <td>8/15/1943</td>\n",
       "      <td>MTO</td>\n",
       "      <td>USA</td>\n",
       "      <td>12 AF</td>\n",
       "      <td>A36</td>\n",
       "      <td>NaN</td>\n",
       "      <td>PONTE OLIVO AIRFIELD</td>\n",
       "      <td>SICILY</td>\n",
       "      <td>37.131022</td>\n",
       "      <td>14.321464</td>\n",
       "      <td>ITALY</td>\n",
       "      <td>SCILLA</td>\n",
       "      <td>NaN</td>\n",
       "      <td>NaN</td>\n",
       "      <td>NaN</td>\n",
       "      <td>38.23</td>\n",
       "      <td>15.72</td>\n",
       "    </tr>\n",
       "    <tr>\n",
       "      <th>9</th>\n",
       "      <td>8/15/1943</td>\n",
       "      <td>MTO</td>\n",
       "      <td>USA</td>\n",
       "      <td>12 AF</td>\n",
       "      <td>A36</td>\n",
       "      <td>NaN</td>\n",
       "      <td>PONTE OLIVO AIRFIELD</td>\n",
       "      <td>SICILY</td>\n",
       "      <td>37.131022</td>\n",
       "      <td>14.321464</td>\n",
       "      <td>ITALY</td>\n",
       "      <td>GIOJA TAURO</td>\n",
       "      <td>NaN</td>\n",
       "      <td>ARMAMENT AND ORDNANCE PLANTS</td>\n",
       "      <td>NaN</td>\n",
       "      <td>38.43</td>\n",
       "      <td>15.90</td>\n",
       "    </tr>\n",
       "  </tbody>\n",
       "</table>\n",
       "</div>"
      ],
      "text/plain": [
       "  Mission Date Theater of Operations Country Air Force Aircraft Series  \\\n",
       "0    8/15/1943                   MTO     USA     12 AF             A36   \n",
       "2    8/15/1943                   MTO     USA     12 AF             A36   \n",
       "3    8/15/1943                   MTO     USA     12 AF             A36   \n",
       "8    8/15/1943                   MTO     USA     12 AF             A36   \n",
       "9    8/15/1943                   MTO     USA     12 AF             A36   \n",
       "\n",
       "  Callsign          Takeoff Base Takeoff Location Takeoff Latitude  \\\n",
       "0      NaN  PONTE OLIVO AIRFIELD           SICILY        37.131022   \n",
       "2      NaN  PONTE OLIVO AIRFIELD           SICILY        37.131022   \n",
       "3      NaN  PONTE OLIVO AIRFIELD           SICILY        37.131022   \n",
       "8      NaN  PONTE OLIVO AIRFIELD           SICILY        37.131022   \n",
       "9      NaN  PONTE OLIVO AIRFIELD           SICILY        37.131022   \n",
       "\n",
       "   Takeoff Longitude Target Country  Target City Target Type  \\\n",
       "0          14.321464          ITALY    SPADAFORA         NaN   \n",
       "2          14.321464          ITALY      COSENZA         NaN   \n",
       "3          14.321464          ITALY  GIOJA TAURO         NaN   \n",
       "8          14.321464          ITALY       SCILLA         NaN   \n",
       "9          14.321464          ITALY  GIOJA TAURO         NaN   \n",
       "\n",
       "                Target Industry Target Priority  Target Latitude  \\\n",
       "0                           NaN             NaN            38.22   \n",
       "2                           NaN             NaN            39.27   \n",
       "3                           NaN             NaN            38.43   \n",
       "8                           NaN             NaN            38.23   \n",
       "9  ARMAMENT AND ORDNANCE PLANTS             NaN            38.43   \n",
       "\n",
       "   Target Longitude  \n",
       "0             15.37  \n",
       "2             16.25  \n",
       "3             15.90  \n",
       "8             15.72  \n",
       "9             15.90  "
      ]
     },
     "execution_count": 88,
     "metadata": {},
     "output_type": "execute_result"
    }
   ],
   "source": [
    "aerial.head()"
   ]
  },
  {
   "cell_type": "code",
   "execution_count": 99,
   "metadata": {},
   "outputs": [
    {
     "name": "stderr",
     "output_type": "stream",
     "text": [
      "C:\\Users\\rissu\\anaconda3\\lib\\site-packages\\ipykernel_launcher.py:2: SettingWithCopyWarning:\n",
      "\n",
      "\n",
      "A value is trying to be set on a copy of a slice from a DataFrame\n",
      "\n",
      "See the caveats in the documentation: https://pandas.pydata.org/pandas-docs/stable/user_guide/indexing.html#returning-a-view-versus-a-copy\n",
      "\n",
      "C:\\Users\\rissu\\anaconda3\\lib\\site-packages\\ipykernel_launcher.py:3: SettingWithCopyWarning:\n",
      "\n",
      "\n",
      "A value is trying to be set on a copy of a slice from a DataFrame\n",
      "\n",
      "See the caveats in the documentation: https://pandas.pydata.org/pandas-docs/stable/user_guide/indexing.html#returning-a-view-versus-a-copy\n",
      "\n",
      "C:\\Users\\rissu\\anaconda3\\lib\\site-packages\\ipykernel_launcher.py:4: SettingWithCopyWarning:\n",
      "\n",
      "\n",
      "A value is trying to be set on a copy of a slice from a DataFrame\n",
      "\n",
      "See the caveats in the documentation: https://pandas.pydata.org/pandas-docs/stable/user_guide/indexing.html#returning-a-view-versus-a-copy\n",
      "\n",
      "C:\\Users\\rissu\\anaconda3\\lib\\site-packages\\ipykernel_launcher.py:5: SettingWithCopyWarning:\n",
      "\n",
      "\n",
      "A value is trying to be set on a copy of a slice from a DataFrame\n",
      "\n",
      "See the caveats in the documentation: https://pandas.pydata.org/pandas-docs/stable/user_guide/indexing.html#returning-a-view-versus-a-copy\n",
      "\n"
     ]
    }
   ],
   "source": [
    "aerial[\"color\"]=''\n",
    "aerial.color[aerial.Country=='USA']=\"rgb(0,116,217)\"\n",
    "aerial.color[aerial.Country == \"GREAT BRITAIN\"] = \"rgb(255,65,54)\"\n",
    "aerial.color[aerial.Country == \"NEW ZEALAND\"] = \"rgb(133,20,75)\"\n",
    "aerial.color[aerial.Country == \"SOUTH AFRICA\"] = \"rgb(255,133,27)\"\n"
   ]
  },
  {
   "cell_type": "code",
   "execution_count": 100,
   "metadata": {},
   "outputs": [
    {
     "data": {
      "text/plain": [
       "<matplotlib.axes._subplots.AxesSubplot at 0x21c8152edc8>"
      ]
     },
     "execution_count": 100,
     "metadata": {},
     "output_type": "execute_result"
    },
    {
     "data": {
      "image/png": "[encoded data removed]",
      "text/plain": [
       "<Figure size 432x288 with 1 Axes>"
      ]
     },
     "metadata": {
      "needs_background": "light"
     },
     "output_type": "display_data"
    }
   ],
   "source": [
    "sns.countplot(aerial['color'])"
   ]
  },
  {
   "cell_type": "code",
   "execution_count": 98,
   "metadata": {},
   "outputs": [
    {
     "data": {
      "text/plain": [
       "<matplotlib.axes._subplots.AxesSubplot at 0x21c81479408>"
      ]
     },
     "execution_count": 98,
     "metadata": {},
     "output_type": "execute_result"
    },
    {
     "data": {
      "image/png": "[encoded data removed]",
      "text/plain": [
       "<Figure size 432x288 with 1 Axes>"
      ]
     },
     "metadata": {
      "needs_background": "light"
     },
     "output_type": "display_data"
    }
   ],
   "source": [
    "sns.countplot(data=aerial,x='color',hue='Country')"
   ]
  },
  {
   "cell_type": "raw",
   "metadata": {},
   "source": [
    "data = [dict(\n",
    "    type='scattergeo',\n",
    "    lon = aerial['Takeoff Longitude'],\n",
    "    lat = aerial['Takeoff Latitude'],\n",
    "    hoverinfo = 'text',\n",
    "    text = \"Country: \" + aerial.Country + \" Takeoff Location: \"+aerial[\"Takeoff Location\"]+\" Takeoff Base: \" + aerial['Takeoff Base'],\n",
    "    mode = 'markers',\n",
    "    marker=dict(\n",
    "        sizemode = 'area',\n",
    "        sizeref = 1,\n",
    "        size= 10 ,\n",
    "        line = dict(width=1,color = \"white\"),\n",
    "        color = aerial[\"color\"],\n",
    "        opacity = 0.7),\n",
    ")]\n",
    "layout = dict(\n",
    "    title = 'Countries Take Off Bases ',\n",
    "    hovermode='closest',\n",
    "    geo = dict(showframe=False, showland=True, showcoastlines=True, showcountries=True,\n",
    "               countrywidth=1, projection=dict(type='Mercator'),\n",
    "              landcolor = 'rgb(217, 217, 217)',\n",
    "              subunitwidth=1,\n",
    "              showlakes = True,\n",
    "              lakecolor = 'rgb(255, 255, 255)',\n",
    "              countrycolor=\"rgb(5, 5, 5)\")\n",
    ")\n",
    "fig = go.Figure(data=data, layout=layout)\n",
    "iplot(fig)"
   ]
  },
  {
   "cell_type": "code",
   "execution_count": 130,
   "metadata": {},
   "outputs": [
    {
     "name": "stderr",
     "output_type": "stream",
     "text": [
      "C:\\Users\\rissu\\anaconda3\\lib\\site-packages\\ipykernel_launcher.py:3: SettingWithCopyWarning:\n",
      "\n",
      "\n",
      "A value is trying to be set on a copy of a slice from a DataFrame.\n",
      "Try using .loc[row_indexer,col_indexer] = value instead\n",
      "\n",
      "See the caveats in the documentation: https://pandas.pydata.org/pandas-docs/stable/user_guide/indexing.html#returning-a-view-versus-a-copy\n",
      "\n"
     ]
    },
    {
     "data": {
      "image/png": "[encoded data removed]",
      "text/plain": [
       "<Figure size 1440x720 with 1 Axes>"
      ]
     },
     "metadata": {
      "needs_background": "light"
     },
     "output_type": "display_data"
    }
   ],
   "source": [
    "weather_station_id=weather_station_location[weather_station_location.NAME=='BINDUKURI'].WBAN\n",
    "weather_bin=weather[weather.STA==32907]\n",
    "weather_bin['Date']=pd.to_datetime(weather_bin['Date'])\n",
    "pl.figure(figsize=(20,10))\n",
    "pl.plot(weather_bin.Date,weather_bin.MeanTemp,color='black')\n",
    "# pl.scatter(weather_bin.Date,weather_bin.MeanTemp,color='red')\n",
    "\n",
    "pl.title(\"Mean temperature of Bindukuri Area\")\n",
    "pl.xlabel('Date')\n",
    "pl.ylabel('Mean Temperature')\n",
    "pl.show()\n",
    "\n"
   ]
  },
  {
   "cell_type": "code",
   "execution_count": 153,
   "metadata": {},
   "outputs": [
    {
     "data": {
      "text/html": [
       "<div>\n",
       "<style scoped>\n",
       "    .dataframe tbody tr th:only-of-type {\n",
       "        vertical-align: middle;\n",
       "    }\n",
       "\n",
       "    .dataframe tbody tr th {\n",
       "        vertical-align: top;\n",
       "    }\n",
       "\n",
       "    .dataframe thead th {\n",
       "        text-align: right;\n",
       "    }\n",
       "</style>\n",
       "<table border=\"1\" class=\"dataframe\">\n",
       "  <thead>\n",
       "    <tr style=\"text-align: right;\">\n",
       "      <th></th>\n",
       "      <th>STA</th>\n",
       "      <th>Date</th>\n",
       "      <th>MeanTemp</th>\n",
       "    </tr>\n",
       "  </thead>\n",
       "  <tbody>\n",
       "    <tr>\n",
       "      <th>78252</th>\n",
       "      <td>32907</td>\n",
       "      <td>1943-05-11</td>\n",
       "      <td>28.888889</td>\n",
       "    </tr>\n",
       "    <tr>\n",
       "      <th>78253</th>\n",
       "      <td>32907</td>\n",
       "      <td>1943-05-12</td>\n",
       "      <td>25.555556</td>\n",
       "    </tr>\n",
       "    <tr>\n",
       "      <th>78254</th>\n",
       "      <td>32907</td>\n",
       "      <td>1943-05-13</td>\n",
       "      <td>24.444444</td>\n",
       "    </tr>\n",
       "    <tr>\n",
       "      <th>78255</th>\n",
       "      <td>32907</td>\n",
       "      <td>1943-05-14</td>\n",
       "      <td>23.888889</td>\n",
       "    </tr>\n",
       "    <tr>\n",
       "      <th>78256</th>\n",
       "      <td>32907</td>\n",
       "      <td>1943-05-15</td>\n",
       "      <td>27.777778</td>\n",
       "    </tr>\n",
       "    <tr>\n",
       "      <th>...</th>\n",
       "      <td>...</td>\n",
       "      <td>...</td>\n",
       "      <td>...</td>\n",
       "    </tr>\n",
       "    <tr>\n",
       "      <th>78998</th>\n",
       "      <td>32907</td>\n",
       "      <td>1945-05-27</td>\n",
       "      <td>23.333333</td>\n",
       "    </tr>\n",
       "    <tr>\n",
       "      <th>78999</th>\n",
       "      <td>32907</td>\n",
       "      <td>1945-05-28</td>\n",
       "      <td>25.555556</td>\n",
       "    </tr>\n",
       "    <tr>\n",
       "      <th>79000</th>\n",
       "      <td>32907</td>\n",
       "      <td>1945-05-29</td>\n",
       "      <td>24.444444</td>\n",
       "    </tr>\n",
       "    <tr>\n",
       "      <th>79001</th>\n",
       "      <td>32907</td>\n",
       "      <td>1945-05-30</td>\n",
       "      <td>25.555556</td>\n",
       "    </tr>\n",
       "    <tr>\n",
       "      <th>79002</th>\n",
       "      <td>32907</td>\n",
       "      <td>1945-05-31</td>\n",
       "      <td>26.666667</td>\n",
       "    </tr>\n",
       "  </tbody>\n",
       "</table>\n",
       "<p>751 rows × 3 columns</p>\n",
       "</div>"
      ],
      "text/plain": [
       "         STA       Date   MeanTemp\n",
       "78252  32907 1943-05-11  28.888889\n",
       "78253  32907 1943-05-12  25.555556\n",
       "78254  32907 1943-05-13  24.444444\n",
       "78255  32907 1943-05-14  23.888889\n",
       "78256  32907 1943-05-15  27.777778\n",
       "...      ...        ...        ...\n",
       "78998  32907 1945-05-27  23.333333\n",
       "78999  32907 1945-05-28  25.555556\n",
       "79000  32907 1945-05-29  24.444444\n",
       "79001  32907 1945-05-30  25.555556\n",
       "79002  32907 1945-05-31  26.666667\n",
       "\n",
       "[751 rows x 3 columns]"
      ]
     },
     "execution_count": 153,
     "metadata": {},
     "output_type": "execute_result"
    }
   ],
   "source": [
    "weather_bin"
   ]
  },
  {
   "cell_type": "code",
   "execution_count": null,
   "metadata": {},
   "outputs": [],
   "source": []
  },
  {
   "cell_type": "code",
   "execution_count": 141,
   "metadata": {},
   "outputs": [
    {
     "name": "stderr",
     "output_type": "stream",
     "text": [
      "C:\\Users\\rissu\\anaconda3\\lib\\site-packages\\IPython\\core\\interactiveshell.py:3072: DtypeWarning:\n",
      "\n",
      "Columns (7,8,11,13,31,43,44) have mixed types.Specify dtype option on import or set low_memory=False.\n",
      "\n"
     ]
    },
    {
     "data": {
      "text/html": [
       "<div>\n",
       "<style scoped>\n",
       "    .dataframe tbody tr th:only-of-type {\n",
       "        vertical-align: middle;\n",
       "    }\n",
       "\n",
       "    .dataframe tbody tr th {\n",
       "        vertical-align: top;\n",
       "    }\n",
       "\n",
       "    .dataframe thead th {\n",
       "        text-align: right;\n",
       "    }\n",
       "</style>\n",
       "<table border=\"1\" class=\"dataframe\">\n",
       "  <thead>\n",
       "    <tr style=\"text-align: right;\">\n",
       "      <th></th>\n",
       "      <th>Mission ID</th>\n",
       "      <th>Mission Date</th>\n",
       "      <th>Theater of Operations</th>\n",
       "      <th>Country</th>\n",
       "      <th>Air Force</th>\n",
       "      <th>Unit ID</th>\n",
       "      <th>Aircraft Series</th>\n",
       "      <th>Callsign</th>\n",
       "      <th>Mission Type</th>\n",
       "      <th>Takeoff Base</th>\n",
       "      <th>...</th>\n",
       "      <th>Fragmentation Devices Type</th>\n",
       "      <th>Fragmentation Devices Weight (Pounds)</th>\n",
       "      <th>Fragmentation Devices Weight (Tons)</th>\n",
       "      <th>Total Weight (Pounds)</th>\n",
       "      <th>Total Weight (Tons)</th>\n",
       "      <th>Time Over Target</th>\n",
       "      <th>Bomb Damage Assessment</th>\n",
       "      <th>Source ID</th>\n",
       "      <th>year</th>\n",
       "      <th>month</th>\n",
       "    </tr>\n",
       "  </thead>\n",
       "  <tbody>\n",
       "    <tr>\n",
       "      <th>3740</th>\n",
       "      <td>3741</td>\n",
       "      <td>1944-08-02</td>\n",
       "      <td>CBI</td>\n",
       "      <td>USA</td>\n",
       "      <td>10 AF</td>\n",
       "      <td>528 FS</td>\n",
       "      <td>P51</td>\n",
       "      <td>NaN</td>\n",
       "      <td>10</td>\n",
       "      <td>NaN</td>\n",
       "      <td>...</td>\n",
       "      <td>NaN</td>\n",
       "      <td>NaN</td>\n",
       "      <td>NaN</td>\n",
       "      <td>NaN</td>\n",
       "      <td>1.0</td>\n",
       "      <td>NaN</td>\n",
       "      <td>NaN</td>\n",
       "      <td>30767.0</td>\n",
       "      <td>1944</td>\n",
       "      <td>8</td>\n",
       "    </tr>\n",
       "    <tr>\n",
       "      <th>10023</th>\n",
       "      <td>10024</td>\n",
       "      <td>1943-09-20</td>\n",
       "      <td>CBI</td>\n",
       "      <td>USA</td>\n",
       "      <td>10 AF</td>\n",
       "      <td>490 BS</td>\n",
       "      <td>B25</td>\n",
       "      <td>NaN</td>\n",
       "      <td>1</td>\n",
       "      <td>NaN</td>\n",
       "      <td>...</td>\n",
       "      <td>NaN</td>\n",
       "      <td>NaN</td>\n",
       "      <td>NaN</td>\n",
       "      <td>NaN</td>\n",
       "      <td>10.0</td>\n",
       "      <td>NaN</td>\n",
       "      <td>NaN</td>\n",
       "      <td>30792.0</td>\n",
       "      <td>1943</td>\n",
       "      <td>9</td>\n",
       "    </tr>\n",
       "    <tr>\n",
       "      <th>10938</th>\n",
       "      <td>10939</td>\n",
       "      <td>1943-09-24</td>\n",
       "      <td>CBI</td>\n",
       "      <td>USA</td>\n",
       "      <td>10 AF</td>\n",
       "      <td>22 BS</td>\n",
       "      <td>B25</td>\n",
       "      <td>NaN</td>\n",
       "      <td>1</td>\n",
       "      <td>NaN</td>\n",
       "      <td>...</td>\n",
       "      <td>NaN</td>\n",
       "      <td>NaN</td>\n",
       "      <td>NaN</td>\n",
       "      <td>NaN</td>\n",
       "      <td>5.0</td>\n",
       "      <td>NaN</td>\n",
       "      <td>NaN</td>\n",
       "      <td>30765.0</td>\n",
       "      <td>1943</td>\n",
       "      <td>9</td>\n",
       "    </tr>\n",
       "    <tr>\n",
       "      <th>10942</th>\n",
       "      <td>10943</td>\n",
       "      <td>1943-09-24</td>\n",
       "      <td>CBI</td>\n",
       "      <td>USA</td>\n",
       "      <td>10 AF</td>\n",
       "      <td>22 BS</td>\n",
       "      <td>B25</td>\n",
       "      <td>NaN</td>\n",
       "      <td>1</td>\n",
       "      <td>NaN</td>\n",
       "      <td>...</td>\n",
       "      <td>NaN</td>\n",
       "      <td>NaN</td>\n",
       "      <td>NaN</td>\n",
       "      <td>NaN</td>\n",
       "      <td>1.0</td>\n",
       "      <td>NaN</td>\n",
       "      <td>NaN</td>\n",
       "      <td>30766.0</td>\n",
       "      <td>1943</td>\n",
       "      <td>9</td>\n",
       "    </tr>\n",
       "    <tr>\n",
       "      <th>20891</th>\n",
       "      <td>20892</td>\n",
       "      <td>1944-08-17</td>\n",
       "      <td>CBI</td>\n",
       "      <td>USA</td>\n",
       "      <td>10 AF</td>\n",
       "      <td>490 BS</td>\n",
       "      <td>B25</td>\n",
       "      <td>NaN</td>\n",
       "      <td>1</td>\n",
       "      <td>NaN</td>\n",
       "      <td>...</td>\n",
       "      <td>NaN</td>\n",
       "      <td>NaN</td>\n",
       "      <td>NaN</td>\n",
       "      <td>NaN</td>\n",
       "      <td>10.0</td>\n",
       "      <td>NaN</td>\n",
       "      <td>NaN</td>\n",
       "      <td>30809.0</td>\n",
       "      <td>1944</td>\n",
       "      <td>8</td>\n",
       "    </tr>\n",
       "  </tbody>\n",
       "</table>\n",
       "<p>5 rows × 48 columns</p>\n",
       "</div>"
      ],
      "text/plain": [
       "       Mission ID Mission Date Theater of Operations Country Air Force  \\\n",
       "3740         3741   1944-08-02                   CBI     USA     10 AF   \n",
       "10023       10024   1943-09-20                   CBI     USA     10 AF   \n",
       "10938       10939   1943-09-24                   CBI     USA     10 AF   \n",
       "10942       10943   1943-09-24                   CBI     USA     10 AF   \n",
       "20891       20892   1944-08-17                   CBI     USA     10 AF   \n",
       "\n",
       "      Unit ID Aircraft Series Callsign Mission Type Takeoff Base  ...  \\\n",
       "3740   528 FS             P51      NaN           10          NaN  ...   \n",
       "10023  490 BS             B25      NaN            1          NaN  ...   \n",
       "10938   22 BS             B25      NaN            1          NaN  ...   \n",
       "10942   22 BS             B25      NaN            1          NaN  ...   \n",
       "20891  490 BS             B25      NaN            1          NaN  ...   \n",
       "\n",
       "      Fragmentation Devices Type Fragmentation Devices Weight (Pounds)  \\\n",
       "3740                         NaN                                   NaN   \n",
       "10023                        NaN                                   NaN   \n",
       "10938                        NaN                                   NaN   \n",
       "10942                        NaN                                   NaN   \n",
       "20891                        NaN                                   NaN   \n",
       "\n",
       "       Fragmentation Devices Weight (Tons) Total Weight (Pounds)  \\\n",
       "3740                                   NaN                   NaN   \n",
       "10023                                  NaN                   NaN   \n",
       "10938                                  NaN                   NaN   \n",
       "10942                                  NaN                   NaN   \n",
       "20891                                  NaN                   NaN   \n",
       "\n",
       "      Total Weight (Tons) Time Over Target Bomb Damage Assessment Source ID  \\\n",
       "3740                  1.0              NaN                    NaN   30767.0   \n",
       "10023                10.0              NaN                    NaN   30792.0   \n",
       "10938                 5.0              NaN                    NaN   30765.0   \n",
       "10942                 1.0              NaN                    NaN   30766.0   \n",
       "20891                10.0              NaN                    NaN   30809.0   \n",
       "\n",
       "       year  month  \n",
       "3740   1944      8  \n",
       "10023  1943      9  \n",
       "10938  1943      9  \n",
       "10942  1943      9  \n",
       "20891  1944      8  \n",
       "\n",
       "[5 rows x 48 columns]"
      ]
     },
     "execution_count": 141,
     "metadata": {},
     "output_type": "execute_result"
    }
   ],
   "source": [
    "aerial=pd.read_csv('operations.csv')\n",
    "aerial['year']=[each.split('/')[2] for each in aerial['Mission Date']]\n",
    "aerial[\"month\"] = [ each.split(\"/\")[0] for each in aerial[\"Mission Date\"]]\n",
    "aerial=aerial[aerial['year']>='1943']\n",
    "aerial=aerial[aerial['month']>='8']\n",
    "\n",
    "aerial['Mission Date']=pd.to_datetime(aerial['Mission Date'])\n",
    "\n",
    "attack='USA'\n",
    "target='BURMA'\n",
    "city='KATHA'\n",
    "\n",
    "aerial_war=aerial[aerial.Country==attack]\n",
    "aerial_war=aerial_war[aerial_war['Target Country']==target]\n",
    "aerial_war=aerial_war[aerial_war['Target City']==city]\n",
    "\n",
    "aerial_war.head()"
   ]
  },
  {
   "cell_type": "code",
   "execution_count": 150,
   "metadata": {},
   "outputs": [],
   "source": [
    "liste=[]\n",
    "aa=[]\n",
    "for each in aerial_war['Mission Date']:\n",
    "    dummy=weather_bin[weather_bin.Date==each]\n",
    "    liste.append(dummy['MeanTemp'].values)\n",
    "aerial_war['dene']=liste\n",
    "for each in aerial_war.dene.values:\n",
    "    aa.append(each[0])\n"
   ]
  },
  {
   "cell_type": "code",
   "execution_count": 151,
   "metadata": {},
   "outputs": [
    {
     "data": {
      "text/plain": [
       "[array([28.88888889]),\n",
       " array([31.66666667]),\n",
       " array([26.66666667]),\n",
       " array([26.66666667]),\n",
       " array([30.55555556]),\n",
       " array([31.11111111]),\n",
       " array([31.11111111]),\n",
       " array([31.11111111]),\n",
       " array([26.11111111]),\n",
       " array([27.77777778]),\n",
       " array([26.66666667]),\n",
       " array([27.77777778]),\n",
       " array([27.77777778]),\n",
       " array([26.66666667]),\n",
       " array([25.55555556]),\n",
       " array([27.22222222]),\n",
       " array([27.22222222]),\n",
       " array([27.22222222]),\n",
       " array([27.22222222])]"
      ]
     },
     "execution_count": 151,
     "metadata": {},
     "output_type": "execute_result"
    }
   ],
   "source": [
    "liste"
   ]
  },
  {
   "cell_type": "code",
   "execution_count": 152,
   "metadata": {},
   "outputs": [
    {
     "data": {
      "text/plain": [
       "[28.88888889,\n",
       " 31.66666667,\n",
       " 26.66666667,\n",
       " 26.66666667,\n",
       " 30.55555556,\n",
       " 31.11111111,\n",
       " 31.11111111,\n",
       " 31.11111111,\n",
       " 26.11111111,\n",
       " 27.77777778,\n",
       " 26.66666667,\n",
       " 27.77777778,\n",
       " 27.77777778,\n",
       " 26.66666667,\n",
       " 25.55555556,\n",
       " 27.22222222,\n",
       " 27.22222222,\n",
       " 27.22222222,\n",
       " 27.22222222]"
      ]
     },
     "execution_count": 152,
     "metadata": {},
     "output_type": "execute_result"
    }
   ],
   "source": [
    "aa"
   ]
  },
  {
   "cell_type": "code",
   "execution_count": 163,
   "metadata": {},
   "outputs": [
    {
     "data": {
      "application/vnd.plotly.v1+json": {
       "config": {
        "linkText": "Export to plot.ly",
        "plotlyServerURL": "https://plot.ly",
        "showLink": false
       },
       "data": [
        {
         "marker": {
          "color": "rgba(16, 112, 2, 0.8)"
         },
         "mode": "lines",
         "name": "Mean Temperature",
         "type": "scatter",
         "x": [
          "1943-05-11T00:00:00",
          "1943-05-12T00:00:00",
          "1943-05-13T00:00:00",
          "1943-05-14T00:00:00",
          "1943-05-15T00:00:00",
          "1943-05-16T00:00:00",
          "1943-05-17T00:00:00",
          "1943-05-18T00:00:00",
          "1943-05-19T00:00:00",
          "1943-05-20T00:00:00",
          "1943-05-21T00:00:00",
          "1943-05-22T00:00:00",
          "1943-05-23T00:00:00",
          "1943-05-24T00:00:00",
          "1943-05-25T00:00:00",
          "1943-05-26T00:00:00",
          "1943-05-27T00:00:00",
          "1943-05-28T00:00:00",
          "1943-05-29T00:00:00",
          "1943-05-30T00:00:00",
          "1943-05-31T00:00:00",
          "1943-06-01T00:00:00",
          "1943-06-02T00:00:00",
          "1943-06-03T00:00:00",
          "1943-06-04T00:00:00",
          "1943-06-05T00:00:00",
          "1943-06-06T00:00:00",
          "1943-06-07T00:00:00",
          "1943-06-08T00:00:00",
          "1943-06-09T00:00:00",
          "1943-06-10T00:00:00",
          "1943-06-11T00:00:00",
          "1943-06-12T00:00:00",
          "1943-06-13T00:00:00",
          "1943-06-14T00:00:00",
          "1943-06-15T00:00:00",
          "1943-06-16T00:00:00",
          "1943-06-17T00:00:00",
          "1943-06-18T00:00:00",
          "1943-06-19T00:00:00",
          "1943-06-20T00:00:00",
          "1943-06-21T00:00:00",
          "1943-06-22T00:00:00",
          "1943-06-23T00:00:00",
          "1943-06-24T00:00:00",
          "1943-06-25T00:00:00",
          "1943-06-26T00:00:00",
          "1943-06-27T00:00:00",
          "1943-06-28T00:00:00",
          "1943-06-29T00:00:00",
          "1943-06-30T00:00:00",
          "1943-07-01T00:00:00",
          "1943-07-02T00:00:00",
          "1943-07-03T00:00:00",
          "1943-07-04T00:00:00",
          "1943-07-05T00:00:00",
          "1943-07-06T00:00:00",
          "1943-07-07T00:00:00",
          "1943-07-08T00:00:00",
          "1943-07-09T00:00:00",
          "1943-07-10T00:00:00",
          "1943-07-11T00:00:00",
          "1943-07-12T00:00:00",
          "1943-07-13T00:00:00",
          "1943-07-14T00:00:00",
          "1943-07-15T00:00:00",
          "1943-07-16T00:00:00",
          "1943-07-17T00:00:00",
          "1943-07-18T00:00:00",
          "1943-07-19T00:00:00",
          "1943-07-20T00:00:00",
          "1943-07-21T00:00:00",
          "1943-07-22T00:00:00",
          "1943-07-23T00:00:00",
          "1943-07-24T00:00:00",
          "1943-07-25T00:00:00",
          "1943-07-26T00:00:00",
          "1943-07-27T00:00:00",
          "1943-07-28T00:00:00",
          "1943-07-29T00:00:00",
          "1943-07-30T00:00:00",
          "1943-07-31T00:00:00",
          "1943-08-01T00:00:00",
          "1943-08-02T00:00:00",
          "1943-08-03T00:00:00",
          "1943-08-04T00:00:00",
          "1943-08-05T00:00:00",
          "1943-08-06T00:00:00",
          "1943-08-07T00:00:00",
          "1943-08-08T00:00:00",
          "1943-08-09T00:00:00",
          "1943-08-10T00:00:00",
          "1943-08-11T00:00:00",
          "1943-08-12T00:00:00",
          "1943-08-13T00:00:00",
          "1943-08-14T00:00:00",
          "1943-08-15T00:00:00",
          "1943-08-16T00:00:00",
          "1943-08-17T00:00:00",
          "1943-08-18T00:00:00",
          "1943-08-19T00:00:00",
          "1943-08-20T00:00:00",
          "1943-08-21T00:00:00",
          "1943-08-22T00:00:00",
          "1943-08-23T00:00:00",
          "1943-08-24T00:00:00",
          "1943-08-25T00:00:00",
          "1943-08-26T00:00:00",
          "1943-08-27T00:00:00",
          "1943-08-28T00:00:00",
          "1943-08-29T00:00:00",
          "1943-08-30T00:00:00",
          "1943-08-31T00:00:00",
          "1943-09-01T00:00:00",
          "1943-09-02T00:00:00",
          "1943-09-03T00:00:00",
          "1943-09-04T00:00:00",
          "1943-09-05T00:00:00",
          "1943-09-06T00:00:00",
          "1943-09-07T00:00:00",
          "1943-09-08T00:00:00",
          "1943-09-09T00:00:00",
          "1943-09-10T00:00:00",
          "1943-09-11T00:00:00",
          "1943-09-12T00:00:00",
          "1943-09-13T00:00:00",
          "1943-09-14T00:00:00",
          "1943-09-15T00:00:00",
          "1943-09-16T00:00:00",
          "1943-09-17T00:00:00",
          "1943-09-18T00:00:00",
          "1943-09-19T00:00:00",
          "1943-09-20T00:00:00",
          "1943-09-21T00:00:00",
          "1943-09-22T00:00:00",
          "1943-09-23T00:00:00",
          "1943-09-24T00:00:00",
          "1943-09-25T00:00:00",
          "1943-09-26T00:00:00",
          "1943-09-27T00:00:00",
          "1943-09-28T00:00:00",
          "1943-09-29T00:00:00",
          "1943-09-30T00:00:00",
          "1943-10-01T00:00:00",
          "1943-10-02T00:00:00",
          "1943-10-03T00:00:00",
          "1943-10-04T00:00:00",
          "1943-10-05T00:00:00",
          "1943-10-06T00:00:00",
          "1943-10-07T00:00:00",
          "1943-10-08T00:00:00",
          "1943-10-09T00:00:00",
          "1943-10-10T00:00:00",
          "1943-10-11T00:00:00",
          "1943-10-12T00:00:00",
          "1943-10-13T00:00:00",
          "1943-10-14T00:00:00",
          "1943-10-15T00:00:00",
          "1943-10-16T00:00:00",
          "1943-10-17T00:00:00",
          "1943-10-18T00:00:00",
          "1943-10-19T00:00:00",
          "1943-10-20T00:00:00",
          "1943-10-21T00:00:00",
          "1943-10-22T00:00:00",
          "1943-10-23T00:00:00",
          "1943-10-24T00:00:00",
          "1943-10-25T00:00:00",
          "1943-10-26T00:00:00",
          "1943-10-27T00:00:00",
          "1943-10-28T00:00:00",
          "1943-10-29T00:00:00",
          "1943-10-30T00:00:00",
          "1943-10-31T00:00:00",
          "1943-11-01T00:00:00",
          "1943-11-02T00:00:00",
          "1943-11-03T00:00:00",
          "1943-11-04T00:00:00",
          "1943-11-05T00:00:00",
          "1943-11-06T00:00:00",
          "1943-11-07T00:00:00",
          "1943-11-08T00:00:00",
          "1943-11-09T00:00:00",
          "1943-11-10T00:00:00",
          "1943-11-11T00:00:00",
          "1943-11-12T00:00:00",
          "1943-11-13T00:00:00",
          "1943-11-14T00:00:00",
          "1943-11-15T00:00:00",
          "1943-11-16T00:00:00",
          "1943-11-17T00:00:00",
          "1943-11-18T00:00:00",
          "1943-11-19T00:00:00",
          "1943-11-20T00:00:00",
          "1943-11-21T00:00:00",
          "1943-11-22T00:00:00",
          "1943-11-23T00:00:00",
          "1943-11-24T00:00:00",
          "1943-11-25T00:00:00",
          "1943-11-26T00:00:00",
          "1943-11-27T00:00:00",
          "1943-11-28T00:00:00",
          "1943-11-29T00:00:00",
          "1943-11-30T00:00:00",
          "1943-12-01T00:00:00",
          "1943-12-02T00:00:00",
          "1943-12-03T00:00:00",
          "1943-12-04T00:00:00",
          "1943-12-05T00:00:00",
          "1943-12-06T00:00:00",
          "1943-12-07T00:00:00",
          "1943-12-08T00:00:00",
          "1943-12-09T00:00:00",
          "1943-12-10T00:00:00",
          "1943-12-11T00:00:00",
          "1943-12-12T00:00:00",
          "1943-12-13T00:00:00",
          "1943-12-14T00:00:00",
          "1943-12-15T00:00:00",
          "1943-12-16T00:00:00",
          "1943-12-17T00:00:00",
          "1943-12-18T00:00:00",
          "1943-12-19T00:00:00",
          "1943-12-20T00:00:00",
          "1943-12-21T00:00:00",
          "1943-12-22T00:00:00",
          "1943-12-23T00:00:00",
          "1943-12-24T00:00:00",
          "1943-12-25T00:00:00",
          "1943-12-26T00:00:00",
          "1943-12-27T00:00:00",
          "1943-12-28T00:00:00",
          "1943-12-29T00:00:00",
          "1943-12-30T00:00:00",
          "1943-12-31T00:00:00",
          "1944-01-01T00:00:00",
          "1944-01-02T00:00:00",
          "1944-01-03T00:00:00",
          "1944-01-04T00:00:00",
          "1944-01-05T00:00:00",
          "1944-01-06T00:00:00",
          "1944-01-07T00:00:00",
          "1944-01-08T00:00:00",
          "1944-01-09T00:00:00",
          "1944-01-10T00:00:00",
          "1944-01-11T00:00:00",
          "1944-01-12T00:00:00",
          "1944-01-13T00:00:00",
          "1944-01-14T00:00:00",
          "1944-01-15T00:00:00",
          "1944-01-16T00:00:00",
          "1944-01-17T00:00:00",
          "1944-01-18T00:00:00",
          "1944-01-19T00:00:00",
          "1944-01-20T00:00:00",
          "1944-01-21T00:00:00",
          "1944-01-22T00:00:00",
          "1944-01-23T00:00:00",
          "1944-01-24T00:00:00",
          "1944-01-25T00:00:00",
          "1944-01-26T00:00:00",
          "1944-01-27T00:00:00",
          "1944-01-28T00:00:00",
          "1944-01-29T00:00:00",
          "1944-01-30T00:00:00",
          "1944-01-31T00:00:00",
          "1944-02-01T00:00:00",
          "1944-02-02T00:00:00",
          "1944-02-03T00:00:00",
          "1944-02-04T00:00:00",
          "1944-02-05T00:00:00",
          "1944-02-06T00:00:00",
          "1944-02-07T00:00:00",
          "1944-02-08T00:00:00",
          "1944-02-09T00:00:00",
          "1944-02-10T00:00:00",
          "1944-02-11T00:00:00",
          "1944-02-12T00:00:00",
          "1944-02-13T00:00:00",
          "1944-02-14T00:00:00",
          "1944-02-15T00:00:00",
          "1944-02-16T00:00:00",
          "1944-02-17T00:00:00",
          "1944-02-18T00:00:00",
          "1944-02-19T00:00:00",
          "1944-02-20T00:00:00",
          "1944-02-21T00:00:00",
          "1944-02-22T00:00:00",
          "1944-02-23T00:00:00",
          "1944-02-24T00:00:00",
          "1944-02-25T00:00:00",
          "1944-02-26T00:00:00",
          "1944-02-27T00:00:00",
          "1944-02-28T00:00:00",
          "1944-02-29T00:00:00",
          "1944-03-01T00:00:00",
          "1944-03-02T00:00:00",
          "1944-03-03T00:00:00",
          "1944-03-04T00:00:00",
          "1944-03-05T00:00:00",
          "1944-03-06T00:00:00",
          "1944-03-07T00:00:00",
          "1944-03-08T00:00:00",
          "1944-03-09T00:00:00",
          "1944-03-10T00:00:00",
          "1944-03-11T00:00:00",
          "1944-03-12T00:00:00",
          "1944-03-13T00:00:00",
          "1944-03-14T00:00:00",
          "1944-03-15T00:00:00",
          "1944-03-16T00:00:00",
          "1944-03-17T00:00:00",
          "1944-03-18T00:00:00",
          "1944-03-19T00:00:00",
          "1944-03-20T00:00:00",
          "1944-03-21T00:00:00",
          "1944-03-22T00:00:00",
          "1944-03-23T00:00:00",
          "1944-03-24T00:00:00",
          "1944-03-25T00:00:00",
          "1944-03-26T00:00:00",
          "1944-03-27T00:00:00",
          "1944-03-28T00:00:00",
          "1944-03-29T00:00:00",
          "1944-03-30T00:00:00",
          "1944-03-31T00:00:00",
          "1944-04-01T00:00:00",
          "1944-04-02T00:00:00",
          "1944-04-03T00:00:00",
          "1944-04-04T00:00:00",
          "1944-04-05T00:00:00",
          "1944-04-06T00:00:00",
          "1944-04-07T00:00:00",
          "1944-04-08T00:00:00",
          "1944-04-09T00:00:00",
          "1944-04-10T00:00:00",
          "1944-04-11T00:00:00",
          "1944-04-12T00:00:00",
          "1944-04-13T00:00:00",
          "1944-04-14T00:00:00",
          "1944-04-15T00:00:00",
          "1944-04-16T00:00:00",
          "1944-04-17T00:00:00",
          "1944-04-18T00:00:00",
          "1944-04-19T00:00:00",
          "1944-04-20T00:00:00",
          "1944-04-21T00:00:00",
          "1944-04-22T00:00:00",
          "1944-04-23T00:00:00",
          "1944-04-24T00:00:00",
          "1944-04-25T00:00:00",
          "1944-04-26T00:00:00",
          "1944-04-27T00:00:00",
          "1944-04-28T00:00:00",
          "1944-04-29T00:00:00",
          "1944-04-30T00:00:00",
          "1944-05-01T00:00:00",
          "1944-05-02T00:00:00",
          "1944-05-03T00:00:00",
          "1944-05-04T00:00:00",
          "1944-05-05T00:00:00",
          "1944-05-06T00:00:00",
          "1944-05-07T00:00:00",
          "1944-05-08T00:00:00",
          "1944-05-09T00:00:00",
          "1944-05-10T00:00:00",
          "1944-05-11T00:00:00",
          "1944-05-12T00:00:00",
          "1944-05-13T00:00:00",
          "1944-05-14T00:00:00",
          "1944-05-15T00:00:00",
          "1944-05-16T00:00:00",
          "1944-05-17T00:00:00",
          "1944-05-18T00:00:00",
          "1944-05-19T00:00:00",
          "1944-05-20T00:00:00",
          "1944-05-21T00:00:00",
          "1944-05-22T00:00:00",
          "1944-05-23T00:00:00",
          "1944-05-24T00:00:00",
          "1944-05-25T00:00:00",
          "1944-05-26T00:00:00",
          "1944-05-27T00:00:00",
          "1944-05-28T00:00:00",
          "1944-05-29T00:00:00",
          "1944-05-30T00:00:00",
          "1944-05-31T00:00:00",
          "1944-06-01T00:00:00",
          "1944-06-02T00:00:00",
          "1944-06-03T00:00:00",
          "1944-06-04T00:00:00",
          "1944-06-05T00:00:00",
          "1944-06-06T00:00:00",
          "1944-06-07T00:00:00",
          "1944-06-08T00:00:00",
          "1944-06-09T00:00:00",
          "1944-06-10T00:00:00",
          "1944-06-11T00:00:00",
          "1944-06-12T00:00:00",
          "1944-06-13T00:00:00",
          "1944-06-14T00:00:00",
          "1944-06-15T00:00:00",
          "1944-06-16T00:00:00",
          "1944-06-17T00:00:00",
          "1944-06-18T00:00:00",
          "1944-06-19T00:00:00",
          "1944-06-20T00:00:00",
          "1944-06-21T00:00:00",
          "1944-06-22T00:00:00",
          "1944-06-23T00:00:00",
          "1944-06-24T00:00:00",
          "1944-06-25T00:00:00",
          "1944-06-26T00:00:00",
          "1944-06-27T00:00:00",
          "1944-06-28T00:00:00",
          "1944-06-29T00:00:00",
          "1944-06-30T00:00:00",
          "1944-07-01T00:00:00",
          "1944-07-02T00:00:00",
          "1944-07-03T00:00:00",
          "1944-07-04T00:00:00",
          "1944-07-05T00:00:00",
          "1944-07-06T00:00:00",
          "1944-07-07T00:00:00",
          "1944-07-08T00:00:00",
          "1944-07-09T00:00:00",
          "1944-07-10T00:00:00",
          "1944-07-11T00:00:00",
          "1944-07-12T00:00:00",
          "1944-07-13T00:00:00",
          "1944-07-14T00:00:00",
          "1944-07-15T00:00:00",
          "1944-07-16T00:00:00",
          "1944-07-17T00:00:00",
          "1944-07-18T00:00:00",
          "1944-07-19T00:00:00",
          "1944-07-20T00:00:00",
          "1944-07-21T00:00:00",
          "1944-07-22T00:00:00",
          "1944-07-23T00:00:00",
          "1944-07-24T00:00:00",
          "1944-07-25T00:00:00",
          "1944-07-26T00:00:00",
          "1944-07-27T00:00:00",
          "1944-07-28T00:00:00",
          "1944-07-29T00:00:00",
          "1944-07-30T00:00:00",
          "1944-07-31T00:00:00",
          "1944-08-01T00:00:00",
          "1944-08-02T00:00:00",
          "1944-08-03T00:00:00",
          "1944-08-04T00:00:00",
          "1944-08-05T00:00:00",
          "1944-08-06T00:00:00",
          "1944-08-07T00:00:00",
          "1944-08-08T00:00:00",
          "1944-08-09T00:00:00",
          "1944-08-10T00:00:00",
          "1944-08-11T00:00:00",
          "1944-08-12T00:00:00",
          "1944-08-13T00:00:00",
          "1944-08-14T00:00:00",
          "1944-08-15T00:00:00",
          "1944-08-16T00:00:00",
          "1944-08-17T00:00:00",
          "1944-08-18T00:00:00",
          "1944-08-19T00:00:00",
          "1944-08-20T00:00:00",
          "1944-08-21T00:00:00",
          "1944-08-22T00:00:00",
          "1944-08-23T00:00:00",
          "1944-08-24T00:00:00",
          "1944-08-25T00:00:00",
          "1944-08-26T00:00:00",
          "1944-08-27T00:00:00",
          "1944-08-28T00:00:00",
          "1944-08-29T00:00:00",
          "1944-08-30T00:00:00",
          "1944-08-31T00:00:00",
          "1944-09-01T00:00:00",
          "1944-09-02T00:00:00",
          "1944-09-03T00:00:00",
          "1944-09-04T00:00:00",
          "1944-09-05T00:00:00",
          "1944-09-06T00:00:00",
          "1944-09-07T00:00:00",
          "1944-09-08T00:00:00",
          "1944-09-09T00:00:00",
          "1944-09-10T00:00:00",
          "1944-09-11T00:00:00",
          "1944-09-12T00:00:00",
          "1944-09-13T00:00:00",
          "1944-09-14T00:00:00",
          "1944-09-15T00:00:00",
          "1944-09-16T00:00:00",
          "1944-09-17T00:00:00",
          "1944-09-18T00:00:00",
          "1944-09-19T00:00:00",
          "1944-09-20T00:00:00",
          "1944-09-21T00:00:00",
          "1944-09-22T00:00:00",
          "1944-09-23T00:00:00",
          "1944-09-24T00:00:00",
          "1944-09-25T00:00:00",
          "1944-09-26T00:00:00",
          "1944-09-27T00:00:00",
          "1944-09-28T00:00:00",
          "1944-09-29T00:00:00",
          "1944-09-30T00:00:00",
          "1944-10-01T00:00:00",
          "1944-10-02T00:00:00",
          "1944-10-03T00:00:00",
          "1944-10-04T00:00:00",
          "1944-10-05T00:00:00",
          "1944-10-06T00:00:00",
          "1944-10-07T00:00:00",
          "1944-10-08T00:00:00",
          "1944-10-09T00:00:00",
          "1944-10-10T00:00:00",
          "1944-10-11T00:00:00",
          "1944-10-12T00:00:00",
          "1944-10-13T00:00:00",
          "1944-10-14T00:00:00",
          "1944-10-15T00:00:00",
          "1944-10-16T00:00:00",
          "1944-10-17T00:00:00",
          "1944-10-18T00:00:00",
          "1944-10-19T00:00:00",
          "1944-10-20T00:00:00",
          "1944-10-21T00:00:00",
          "1944-10-22T00:00:00",
          "1944-10-23T00:00:00",
          "1944-10-24T00:00:00",
          "1944-10-25T00:00:00",
          "1944-10-26T00:00:00",
          "1944-10-27T00:00:00",
          "1944-10-28T00:00:00",
          "1944-10-29T00:00:00",
          "1944-10-30T00:00:00",
          "1944-10-31T00:00:00",
          "1944-11-01T00:00:00",
          "1944-11-02T00:00:00",
          "1944-11-03T00:00:00",
          "1944-11-04T00:00:00",
          "1944-11-05T00:00:00",
          "1944-11-06T00:00:00",
          "1944-11-07T00:00:00",
          "1944-11-08T00:00:00",
          "1944-11-09T00:00:00",
          "1944-11-10T00:00:00",
          "1944-11-11T00:00:00",
          "1944-11-12T00:00:00",
          "1944-11-13T00:00:00",
          "1944-11-14T00:00:00",
          "1944-11-15T00:00:00",
          "1944-11-16T00:00:00",
          "1944-11-17T00:00:00",
          "1944-11-18T00:00:00",
          "1944-11-19T00:00:00",
          "1944-11-20T00:00:00",
          "1944-11-21T00:00:00",
          "1944-11-22T00:00:00",
          "1944-11-23T00:00:00",
          "1944-11-24T00:00:00",
          "1944-11-25T00:00:00",
          "1944-11-26T00:00:00",
          "1944-11-27T00:00:00",
          "1944-11-28T00:00:00",
          "1944-11-29T00:00:00",
          "1944-11-30T00:00:00",
          "1944-12-02T00:00:00",
          "1944-12-03T00:00:00",
          "1944-12-04T00:00:00",
          "1944-12-05T00:00:00",
          "1944-12-06T00:00:00",
          "1944-12-07T00:00:00",
          "1944-12-08T00:00:00",
          "1944-12-09T00:00:00",
          "1944-12-10T00:00:00",
          "1944-12-11T00:00:00",
          "1944-12-12T00:00:00",
          "1944-12-13T00:00:00",
          "1944-12-14T00:00:00",
          "1944-12-15T00:00:00",
          "1944-12-16T00:00:00",
          "1944-12-17T00:00:00",
          "1944-12-18T00:00:00",
          "1944-12-19T00:00:00",
          "1944-12-20T00:00:00",
          "1944-12-21T00:00:00",
          "1944-12-22T00:00:00",
          "1944-12-23T00:00:00",
          "1944-12-24T00:00:00",
          "1944-12-25T00:00:00",
          "1944-12-26T00:00:00",
          "1944-12-27T00:00:00",
          "1944-12-28T00:00:00",
          "1944-12-29T00:00:00",
          "1944-12-30T00:00:00",
          "1944-12-31T00:00:00",
          "1945-01-01T00:00:00",
          "1945-01-02T00:00:00",
          "1945-01-03T00:00:00",
          "1945-01-04T00:00:00",
          "1945-01-05T00:00:00",
          "1945-01-06T00:00:00",
          "1945-01-07T00:00:00",
          "1945-01-08T00:00:00",
          "1945-01-09T00:00:00",
          "1945-01-10T00:00:00",
          "1945-01-11T00:00:00",
          "1945-01-12T00:00:00",
          "1945-01-13T00:00:00",
          "1945-01-14T00:00:00",
          "1945-01-15T00:00:00",
          "1945-01-16T00:00:00",
          "1945-01-17T00:00:00",
          "1945-01-18T00:00:00",
          "1945-01-19T00:00:00",
          "1945-01-20T00:00:00",
          "1945-01-21T00:00:00",
          "1945-01-22T00:00:00",
          "1945-01-23T00:00:00",
          "1945-01-24T00:00:00",
          "1945-01-25T00:00:00",
          "1945-01-26T00:00:00",
          "1945-01-27T00:00:00",
          "1945-01-28T00:00:00",
          "1945-01-29T00:00:00",
          "1945-01-30T00:00:00",
          "1945-01-31T00:00:00",
          "1945-02-01T00:00:00",
          "1945-02-02T00:00:00",
          "1945-02-03T00:00:00",
          "1945-02-04T00:00:00",
          "1945-02-05T00:00:00",
          "1945-02-06T00:00:00",
          "1945-02-07T00:00:00",
          "1945-02-08T00:00:00",
          "1945-02-09T00:00:00",
          "1945-02-10T00:00:00",
          "1945-02-11T00:00:00",
          "1945-02-12T00:00:00",
          "1945-02-13T00:00:00",
          "1945-02-14T00:00:00",
          "1945-02-15T00:00:00",
          "1945-02-16T00:00:00",
          "1945-02-17T00:00:00",
          "1945-02-18T00:00:00",
          "1945-02-19T00:00:00",
          "1945-02-20T00:00:00",
          "1945-02-21T00:00:00",
          "1945-02-22T00:00:00",
          "1945-02-23T00:00:00",
          "1945-02-24T00:00:00",
          "1945-02-25T00:00:00",
          "1945-02-26T00:00:00",
          "1945-02-27T00:00:00",
          "1945-02-28T00:00:00",
          "1945-03-01T00:00:00",
          "1945-03-02T00:00:00",
          "1945-03-03T00:00:00",
          "1945-03-04T00:00:00",
          "1945-03-05T00:00:00",
          "1945-03-06T00:00:00",
          "1945-03-07T00:00:00",
          "1945-03-08T00:00:00",
          "1945-03-09T00:00:00",
          "1945-03-10T00:00:00",
          "1945-03-11T00:00:00",
          "1945-03-12T00:00:00",
          "1945-03-13T00:00:00",
          "1945-03-14T00:00:00",
          "1945-03-15T00:00:00",
          "1945-03-16T00:00:00",
          "1945-03-17T00:00:00",
          "1945-03-18T00:00:00",
          "1945-03-19T00:00:00",
          "1945-03-20T00:00:00",
          "1945-03-21T00:00:00",
          "1945-03-22T00:00:00",
          "1945-03-23T00:00:00",
          "1945-03-24T00:00:00",
          "1945-03-25T00:00:00",
          "1945-03-26T00:00:00",
          "1945-03-27T00:00:00",
          "1945-03-28T00:00:00",
          "1945-03-29T00:00:00",
          "1945-03-30T00:00:00",
          "1945-03-31T00:00:00",
          "1945-04-01T00:00:00",
          "1945-04-02T00:00:00",
          "1945-04-03T00:00:00",
          "1945-04-04T00:00:00",
          "1945-04-05T00:00:00",
          "1945-04-06T00:00:00",
          "1945-04-07T00:00:00",
          "1945-04-08T00:00:00",
          "1945-04-09T00:00:00",
          "1945-04-10T00:00:00",
          "1945-04-11T00:00:00",
          "1945-04-12T00:00:00",
          "1945-04-13T00:00:00",
          "1945-04-14T00:00:00",
          "1945-04-15T00:00:00",
          "1945-04-16T00:00:00",
          "1945-04-17T00:00:00",
          "1945-04-18T00:00:00",
          "1945-04-19T00:00:00",
          "1945-04-20T00:00:00",
          "1945-04-21T00:00:00",
          "1945-04-22T00:00:00",
          "1945-04-23T00:00:00",
          "1945-04-24T00:00:00",
          "1945-04-25T00:00:00",
          "1945-04-26T00:00:00",
          "1945-04-27T00:00:00",
          "1945-04-28T00:00:00",
          "1945-04-29T00:00:00",
          "1945-04-30T00:00:00",
          "1945-05-01T00:00:00",
          "1945-05-02T00:00:00",
          "1945-05-03T00:00:00",
          "1945-05-04T00:00:00",
          "1945-05-05T00:00:00",
          "1945-05-06T00:00:00",
          "1945-05-07T00:00:00",
          "1945-05-08T00:00:00",
          "1945-05-09T00:00:00",
          "1945-05-10T00:00:00",
          "1945-05-11T00:00:00",
          "1945-05-12T00:00:00",
          "1945-05-13T00:00:00",
          "1945-05-14T00:00:00",
          "1945-05-15T00:00:00",
          "1945-05-16T00:00:00",
          "1945-05-17T00:00:00",
          "1945-05-18T00:00:00",
          "1945-05-19T00:00:00",
          "1945-05-20T00:00:00",
          "1945-05-21T00:00:00",
          "1945-05-22T00:00:00",
          "1945-05-23T00:00:00",
          "1945-05-24T00:00:00",
          "1945-05-25T00:00:00",
          "1945-05-26T00:00:00",
          "1945-05-27T00:00:00",
          "1945-05-28T00:00:00",
          "1945-05-29T00:00:00",
          "1945-05-30T00:00:00",
          "1945-05-31T00:00:00"
         ],
         "y": [
          28.88888889,
          25.55555556,
          24.44444444,
          23.88888889,
          27.77777778,
          26.66666667,
          24.44444444,
          24.44444444,
          24.44444444,
          24.44444444,
          24.44444444,
          24.44444444,
          25.55555556,
          27.22222222,
          26.66666667,
          25.55555556,
          23.33333333,
          25.55555556,
          27.77777778,
          30,
          28.33333333,
          28.33333333,
          27.77777778,
          27.22222222,
          28.88888889,
          26.66666667,
          26.66666667,
          27.77777778,
          27.77777778,
          26.66666667,
          27.77777778,
          30,
          27.77777778,
          26.66666667,
          28.33333333,
          29.44444444,
          26.66666667,
          27.77777778,
          28.88888889,
          27.77777778,
          28.33333333,
          28.33333333,
          28.88888889,
          28.88888889,
          27.77777778,
          28.33333333,
          28.33333333,
          29.44444444,
          28.88888889,
          28.88888889,
          27.77777778,
          27.77777778,
          28.33333333,
          27.77777778,
          27.22222222,
          27.77777778,
          27.77777778,
          27.77777778,
          28.88888889,
          28.88888889,
          29.44444444,
          31.11111111,
          31.11111111,
          28.88888889,
          28.88888889,
          27.77777778,
          29.44444444,
          29.44444444,
          28.88888889,
          25.55555556,
          28.88888889,
          28.88888889,
          28.88888889,
          30,
          31.11111111,
          30,
          30,
          28.88888889,
          28.88888889,
          28.88888889,
          30,
          28.88888889,
          27.22222222,
          28.88888889,
          28.88888889,
          27.77777778,
          29.44444444,
          28.33333333,
          27.22222222,
          27.77777778,
          26.66666667,
          27.77777778,
          26.66666667,
          28.88888889,
          30,
          26.11111111,
          27.77777778,
          27.77777778,
          28.88888889,
          28.88888889,
          28.33333333,
          29.44444444,
          27.77777778,
          27.77777778,
          28.88888889,
          28.88888889,
          28.88888889,
          26.11111111,
          25.55555556,
          27.77777778,
          28.88888889,
          28.88888889,
          27.77777778,
          30,
          28.88888889,
          28.88888889,
          30,
          28.88888889,
          28.33333333,
          26.66666667,
          28.88888889,
          30.55555556,
          27.77777778,
          23.88888889,
          25.55555556,
          27.22222222,
          28.88888889,
          30,
          30,
          31.11111111,
          30.55555556,
          31.11111111,
          31.66666667,
          30,
          27.77777778,
          30,
          26.66666667,
          26.66666667,
          26.66666667,
          23.88888889,
          24.44444444,
          26.11111111,
          27.77777778,
          28.88888889,
          28.88888889,
          28.88888889,
          27.77777778,
          26.66666667,
          23.33333333,
          26.66666667,
          29.44444444,
          28.33333333,
          27.77777778,
          26.11111111,
          26.11111111,
          26.66666667,
          25.55555556,
          25.55555556,
          25,
          24.44444444,
          25.55555556,
          27.77777778,
          25.55555556,
          26.66666667,
          25.55555556,
          26.11111111,
          24.44444444,
          25.55555556,
          23.88888889,
          23.33333333,
          23.33333333,
          23.33333333,
          23.33333333,
          23.33333333,
          22.77777778,
          24.44444444,
          24.44444444,
          24.44444444,
          25,
          24.44444444,
          23.88888889,
          23.88888889,
          24.44444444,
          23.33333333,
          23.33333333,
          22.22222222,
          22.22222222,
          22.22222222,
          22.22222222,
          21.66666667,
          22.22222222,
          22.77777778,
          22.22222222,
          23.88888889,
          21.11111111,
          23.33333333,
          22.77777778,
          21.66666667,
          22.22222222,
          20.55555556,
          20,
          22.22222222,
          21.11111111,
          20.55555556,
          20,
          20.55555556,
          20,
          18.88888889,
          18.88888889,
          17.77777778,
          16.66666667,
          16.66666667,
          16.66666667,
          16.66666667,
          16.66666667,
          18.33333333,
          17.77777778,
          18.88888889,
          17.77777778,
          17.77777778,
          17.77777778,
          18.33333333,
          17.22222222,
          17.77777778,
          17.77777778,
          17.77777778,
          17.77777778,
          18.88888889,
          18.88888889,
          18.88888889,
          17.77777778,
          19.44444444,
          17.22222222,
          16.66666667,
          17.77777778,
          16.66666667,
          16.11111111,
          16.11111111,
          15.55555556,
          15.55555556,
          12.22222222,
          16.66666667,
          16.66666667,
          16.66666667,
          16.66666667,
          16.66666667,
          17.77777778,
          16.66666667,
          17.22222222,
          16.66666667,
          15.55555556,
          16.66666667,
          16.11111111,
          16.11111111,
          16.66666667,
          15.55555556,
          15.55555556,
          16.66666667,
          17.77777778,
          15.55555556,
          17.77777778,
          15.55555556,
          18.88888889,
          17.22222222,
          16.11111111,
          16.66666667,
          16.66666667,
          16.11111111,
          16.66666667,
          15.55555556,
          14.44444444,
          16.66666667,
          16.66666667,
          16.66666667,
          17.22222222,
          17.77777778,
          17.77777778,
          17.77777778,
          16.66666667,
          18.33333333,
          19.44444444,
          18.88888889,
          18.33333333,
          20,
          18.88888889,
          18.88888889,
          17.77777778,
          20,
          20,
          18.88888889,
          20,
          22.22222222,
          20,
          21.11111111,
          22.22222222,
          22.77777778,
          23.33333333,
          23.33333333,
          22.22222222,
          22.22222222,
          22.77777778,
          23.33333333,
          23.33333333,
          23.88888889,
          23.33333333,
          23.33333333,
          23.33333333,
          23.33333333,
          24.44444444,
          24.44444444,
          23.33333333,
          24.44444444,
          22.22222222,
          23.33333333,
          24.44444444,
          24.44444444,
          26.11111111,
          24.44444444,
          22.22222222,
          21.11111111,
          22.77777778,
          23.33333333,
          22.22222222,
          25,
          21.11111111,
          21.11111111,
          22.22222222,
          20.55555556,
          22.22222222,
          22.77777778,
          23.33333333,
          25.55555556,
          23.33333333,
          23.33333333,
          23.33333333,
          22.77777778,
          22.77777778,
          24.44444444,
          22.22222222,
          23.33333333,
          23.33333333,
          21.11111111,
          23.33333333,
          26.66666667,
          24.44444444,
          24.44444444,
          25.55555556,
          26.66666667,
          25.55555556,
          28.33333333,
          28.88888889,
          27.77777778,
          28.33333333,
          26.66666667,
          24.44444444,
          23.33333333,
          25,
          24.44444444,
          25,
          25.55555556,
          26.66666667,
          24.44444444,
          23.88888889,
          23.88888889,
          27.22222222,
          29.44444444,
          26.11111111,
          26.11111111,
          23.88888889,
          24.44444444,
          23.88888889,
          26.11111111,
          27.77777778,
          28.88888889,
          26.66666667,
          26.11111111,
          27.77777778,
          28.88888889,
          27.22222222,
          26.11111111,
          24.44444444,
          23.88888889,
          25,
          27.22222222,
          28.33333333,
          27.77777778,
          28.88888889,
          28.88888889,
          28.33333333,
          28.88888889,
          27.22222222,
          27.77777778,
          28.88888889,
          28.33333333,
          27.77777778,
          27.77777778,
          28.33333333,
          28.88888889,
          28.33333333,
          27.77777778,
          30,
          28.33333333,
          27.77777778,
          26.11111111,
          25,
          26.66666667,
          28.88888889,
          28.88888889,
          28.33333333,
          28.88888889,
          28.88888889,
          28.88888889,
          28.88888889,
          27.77777778,
          26.66666667,
          27.77777778,
          27.77777778,
          27.77777778,
          27.77777778,
          27.77777778,
          28.88888889,
          27.22222222,
          28.88888889,
          28.88888889,
          28.88888889,
          28.33333333,
          28.88888889,
          30.55555556,
          30.55555556,
          30,
          28.33333333,
          31.11111111,
          29.44444444,
          28.88888889,
          28.88888889,
          27.77777778,
          27.77777778,
          28.33333333,
          27.77777778,
          30,
          31.11111111,
          31.11111111,
          30,
          28.88888889,
          28.33333333,
          30.55555556,
          30.55555556,
          29.44444444,
          28.88888889,
          28.88888889,
          28.88888889,
          30.55555556,
          30,
          30,
          30.55555556,
          30,
          27.77777778,
          27.77777778,
          27.77777778,
          27.22222222,
          28.88888889,
          29.44444444,
          30,
          29.44444444,
          30.55555556,
          31.11111111,
          30.55555556,
          30.55555556,
          26.66666667,
          27.22222222,
          30,
          31.11111111,
          28.88888889,
          26.66666667,
          28.88888889,
          27.77777778,
          26.11111111,
          27.77777778,
          27.77777778,
          25.55555556,
          27.22222222,
          26.66666667,
          27.22222222,
          27.77777778,
          27.77777778,
          27.77777778,
          26.66666667,
          26.66666667,
          27.77777778,
          27.77777778,
          27.77777778,
          26.66666667,
          27.77777778,
          27.77777778,
          27.77777778,
          26.66666667,
          26.66666667,
          26.66666667,
          27.77777778,
          26.66666667,
          25.55555556,
          26.66666667,
          27.77777778,
          27.77777778,
          26.66666667,
          25.55555556,
          27.22222222,
          27.77777778,
          27.77777778,
          28.88888889,
          29.44444444,
          30,
          26.11111111,
          26.66666667,
          27.77777778,
          26.66666667,
          27.77777778,
          27.77777778,
          26.66666667,
          26.66666667,
          26.66666667,
          25.55555556,
          25.55555556,
          24.44444444,
          24.44444444,
          25.55555556,
          24.44444444,
          25,
          25,
          25.55555556,
          25.55555556,
          25.55555556,
          25.55555556,
          24.44444444,
          24.44444444,
          24.44444444,
          25.55555556,
          23.88888889,
          23.88888889,
          23.33333333,
          21.11111111,
          22.77777778,
          23.33333333,
          23.33333333,
          22.22222222,
          22.22222222,
          22.22222222,
          21.66666667,
          22.22222222,
          21.11111111,
          22.22222222,
          22.22222222,
          22.77777778,
          21.11111111,
          23.33333333,
          21.66666667,
          21.11111111,
          21.11111111,
          21.11111111,
          21.11111111,
          20.55555556,
          20,
          20,
          20,
          20,
          20,
          18.88888889,
          18.88888889,
          21.11111111,
          19.44444444,
          20,
          20,
          20,
          19.44444444,
          20,
          20,
          18.88888889,
          20,
          20,
          18.88888889,
          20,
          20,
          18.88888889,
          18.88888889,
          18.33333333,
          17.77777778,
          17.77777778,
          17.77777778,
          17.77777778,
          16.66666667,
          17.77777778,
          16.66666667,
          18.88888889,
          18.88888889,
          18.33333333,
          16.66666667,
          16.66666667,
          17.77777778,
          18.33333333,
          18.88888889,
          18.88888889,
          18.88888889,
          16.66666667,
          16.66666667,
          17.22222222,
          15,
          14.44444444,
          12.22222222,
          13.88888889,
          15,
          15.55555556,
          17.77777778,
          16.66666667,
          16.66666667,
          16.66666667,
          16.66666667,
          16.66666667,
          17.22222222,
          18.88888889,
          18.88888889,
          18.88888889,
          18.88888889,
          17.22222222,
          17.77777778,
          18.33333333,
          17.22222222,
          16.11111111,
          18.33333333,
          17.22222222,
          17.22222222,
          17.22222222,
          17.22222222,
          16.66666667,
          15.55555556,
          16.11111111,
          16.66666667,
          17.22222222,
          16.66666667,
          17.77777778,
          20,
          15.55555556,
          17.22222222,
          15.55555556,
          16.66666667,
          17.22222222,
          15.55555556,
          15.55555556,
          15,
          17.22222222,
          17.77777778,
          18.88888889,
          18.88888889,
          18.88888889,
          17.77777778,
          18.88888889,
          16.66666667,
          18.88888889,
          19.44444444,
          16.66666667,
          20,
          20,
          22.77777778,
          23.33333333,
          23.88888889,
          21.66666667,
          22.22222222,
          22.22222222,
          22.77777778,
          22.22222222,
          22.22222222,
          21.11111111,
          22.22222222,
          22.22222222,
          22.22222222,
          23.33333333,
          26.11111111,
          20.55555556,
          12.22222222,
          21.66666667,
          24.44444444,
          24.44444444,
          23.33333333,
          23.33333333,
          22.22222222,
          23.33333333,
          24.44444444,
          25.55555556,
          25.55555556,
          27.77777778,
          26.66666667,
          28.33333333,
          28.88888889,
          30.55555556,
          28.88888889,
          28.88888889,
          27.22222222,
          25.55555556,
          25.55555556,
          26.66666667,
          26.66666667,
          25.55555556,
          26.66666667,
          24.44444444,
          25.55555556,
          25.55555556,
          25.55555556,
          24.44444444,
          26.66666667,
          27.22222222,
          27.77777778,
          21.11111111,
          23.33333333,
          26.11111111,
          26.66666667,
          26.11111111,
          27.22222222,
          25.55555556,
          25.55555556,
          26.66666667,
          23.88888889,
          26.66666667,
          27.77777778,
          25,
          24.44444444,
          24.44444444,
          26.66666667,
          25.55555556,
          24.44444444,
          25,
          27.22222222,
          25.55555556,
          24.44444444,
          26.66666667,
          25.55555556,
          22.22222222,
          25,
          26.66666667,
          27.22222222,
          27.77777778,
          27.77777778,
          26.11111111,
          27.77777778,
          26.66666667,
          26.66666667,
          23.88888889,
          24.44444444,
          23.33333333,
          25.55555556,
          24.44444444,
          25.55555556,
          26.66666667
         ]
        },
        {
         "marker": {
          "color": "rgba(16, 0, 200, 1)"
         },
         "mode": "markers",
         "name": "Bombing Temperature",
         "type": "scatter",
         "x": [
          "1944-08-02T00:00:00",
          "1943-09-20T00:00:00",
          "1943-09-24T00:00:00",
          "1943-09-24T00:00:00",
          "1944-08-17T00:00:00",
          "1944-08-18T00:00:00",
          "1944-08-18T00:00:00",
          "1944-08-18T00:00:00",
          "1944-08-29T00:00:00",
          "1944-09-06T00:00:00",
          "1944-09-08T00:00:00",
          "1944-09-12T00:00:00",
          "1944-09-12T00:00:00",
          "1944-09-17T00:00:00",
          "1944-09-27T00:00:00",
          "1943-08-01T00:00:00",
          "1943-08-01T00:00:00",
          "1943-08-01T00:00:00",
          "1943-08-01T00:00:00"
         ],
         "y": [
          28.88888889,
          31.66666667,
          26.66666667,
          26.66666667,
          30.55555556,
          31.11111111,
          31.11111111,
          31.11111111,
          26.11111111,
          27.77777778,
          26.66666667,
          27.77777778,
          27.77777778,
          26.66666667,
          25.55555556,
          27.22222222,
          27.22222222,
          27.22222222,
          27.22222222
         ]
        }
       ],
       "layout": {
        "template": {
         "data": {
          "bar": [
           {
            "error_x": {
             "color": "#2a3f5f"
            },
            "error_y": {
             "color": "#2a3f5f"
            },
            "marker": {
             "line": {
              "color": "#E5ECF6",
              "width": 0.5
             }
            },
            "type": "bar"
           }
          ],
          "barpolar": [
           {
            "marker": {
             "line": {
              "color": "#E5ECF6",
              "width": 0.5
             }
            },
            "type": "barpolar"
           }
          ],
          "carpet": [
           {
            "aaxis": {
             "endlinecolor": "#2a3f5f",
             "gridcolor": "white",
             "linecolor": "white",
             "minorgridcolor": "white",
             "startlinecolor": "#2a3f5f"
            },
            "baxis": {
             "endlinecolor": "#2a3f5f",
             "gridcolor": "white",
             "linecolor": "white",
             "minorgridcolor": "white",
             "startlinecolor": "#2a3f5f"
            },
            "type": "carpet"
           }
          ],
          "choropleth": [
           {
            "colorbar": {
             "outlinewidth": 0,
             "ticks": ""
            },
            "type": "choropleth"
           }
          ],
          "contour": [
           {
            "colorbar": {
             "outlinewidth": 0,
             "ticks": ""
            },
            "colorscale": [
             [
              0,
              "#0d0887"
             ],
             [
              0.1111111111111111,
              "#46039f"
             ],
             [
              0.2222222222222222,
              "#7201a8"
             ],
             [
              0.3333333333333333,
              "#9c179e"
             ],
             [
              0.4444444444444444,
              "#bd3786"
             ],
             [
              0.5555555555555556,
              "#d8576b"
             ],
             [
              0.6666666666666666,
              "#ed7953"
             ],
             [
              0.7777777777777778,
              "#fb9f3a"
             ],
             [
              0.8888888888888888,
              "#fdca26"
             ],
             [
              1,
              "#f0f921"
             ]
            ],
            "type": "contour"
           }
          ],
          "contourcarpet": [
           {
            "colorbar": {
             "outlinewidth": 0,
             "ticks": ""
            },
            "type": "contourcarpet"
           }
          ],
          "heatmap": [
           {
            "colorbar": {
             "outlinewidth": 0,
             "ticks": ""
            },
            "colorscale": [
             [
              0,
              "#0d0887"
             ],
             [
              0.1111111111111111,
              "#46039f"
             ],
             [
              0.2222222222222222,
              "#7201a8"
             ],
             [
              0.3333333333333333,
              "#9c179e"
             ],
             [
              0.4444444444444444,
              "#bd3786"
             ],
             [
              0.5555555555555556,
              "#d8576b"
             ],
             [
              0.6666666666666666,
              "#ed7953"
             ],
             [
              0.7777777777777778,
              "#fb9f3a"
             ],
             [
              0.8888888888888888,
              "#fdca26"
             ],
             [
              1,
              "#f0f921"
             ]
            ],
            "type": "heatmap"
           }
          ],
          "heatmapgl": [
           {
            "colorbar": {
             "outlinewidth": 0,
             "ticks": ""
            },
            "colorscale": [
             [
              0,
              "#0d0887"
             ],
             [
              0.1111111111111111,
              "#46039f"
             ],
             [
              0.2222222222222222,
              "#7201a8"
             ],
             [
              0.3333333333333333,
              "#9c179e"
             ],
             [
              0.4444444444444444,
              "#bd3786"
             ],
             [
              0.5555555555555556,
              "#d8576b"
             ],
             [
              0.6666666666666666,
              "#ed7953"
             ],
             [
              0.7777777777777778,
              "#fb9f3a"
             ],
             [
              0.8888888888888888,
              "#fdca26"
             ],
             [
              1,
              "#f0f921"
             ]
            ],
            "type": "heatmapgl"
           }
          ],
          "histogram": [
           {
            "marker": {
             "colorbar": {
              "outlinewidth": 0,
              "ticks": ""
             }
            },
            "type": "histogram"
           }
          ],
          "histogram2d": [
           {
            "colorbar": {
             "outlinewidth": 0,
             "ticks": ""
            },
            "colorscale": [
             [
              0,
              "#0d0887"
             ],
             [
              0.1111111111111111,
              "#46039f"
             ],
             [
              0.2222222222222222,
              "#7201a8"
             ],
             [
              0.3333333333333333,
              "#9c179e"
             ],
             [
              0.4444444444444444,
              "#bd3786"
             ],
             [
              0.5555555555555556,
              "#d8576b"
             ],
             [
              0.6666666666666666,
              "#ed7953"
             ],
             [
              0.7777777777777778,
              "#fb9f3a"
             ],
             [
              0.8888888888888888,
              "#fdca26"
             ],
             [
              1,
              "#f0f921"
             ]
            ],
            "type": "histogram2d"
           }
          ],
          "histogram2dcontour": [
           {
            "colorbar": {
             "outlinewidth": 0,
             "ticks": ""
            },
            "colorscale": [
             [
              0,
              "#0d0887"
             ],
             [
              0.1111111111111111,
              "#46039f"
             ],
             [
              0.2222222222222222,
              "#7201a8"
             ],
             [
              0.3333333333333333,
              "#9c179e"
             ],
             [
              0.4444444444444444,
              "#bd3786"
             ],
             [
              0.5555555555555556,
              "#d8576b"
             ],
             [
              0.6666666666666666,
              "#ed7953"
             ],
             [
              0.7777777777777778,
              "#fb9f3a"
             ],
             [
              0.8888888888888888,
              "#fdca26"
             ],
             [
              1,
              "#f0f921"
             ]
            ],
            "type": "histogram2dcontour"
           }
          ],
          "mesh3d": [
           {
            "colorbar": {
             "outlinewidth": 0,
             "ticks": ""
            },
            "type": "mesh3d"
           }
          ],
          "parcoords": [
           {
            "line": {
             "colorbar": {
              "outlinewidth": 0,
              "ticks": ""
             }
            },
            "type": "parcoords"
           }
          ],
          "pie": [
           {
            "automargin": true,
            "type": "pie"
           }
          ],
          "scatter": [
           {
            "marker": {
             "colorbar": {
              "outlinewidth": 0,
              "ticks": ""
             }
            },
            "type": "scatter"
           }
          ],
          "scatter3d": [
           {
            "line": {
             "colorbar": {
              "outlinewidth": 0,
              "ticks": ""
             }
            },
            "marker": {
             "colorbar": {
              "outlinewidth": 0,
              "ticks": ""
             }
            },
            "type": "scatter3d"
           }
          ],
          "scattercarpet": [
           {
            "marker": {
             "colorbar": {
              "outlinewidth": 0,
              "ticks": ""
             }
            },
            "type": "scattercarpet"
           }
          ],
          "scattergeo": [
           {
            "marker": {
             "colorbar": {
              "outlinewidth": 0,
              "ticks": ""
             }
            },
            "type": "scattergeo"
           }
          ],
          "scattergl": [
           {
            "marker": {
             "colorbar": {
              "outlinewidth": 0,
              "ticks": ""
             }
            },
            "type": "scattergl"
           }
          ],
          "scattermapbox": [
           {
            "marker": {
             "colorbar": {
              "outlinewidth": 0,
              "ticks": ""
             }
            },
            "type": "scattermapbox"
           }
          ],
          "scatterpolar": [
           {
            "marker": {
             "colorbar": {
              "outlinewidth": 0,
              "ticks": ""
             }
            },
            "type": "scatterpolar"
           }
          ],
          "scatterpolargl": [
           {
            "marker": {
             "colorbar": {
              "outlinewidth": 0,
              "ticks": ""
             }
            },
            "type": "scatterpolargl"
           }
          ],
          "scatterternary": [
           {
            "marker": {
             "colorbar": {
              "outlinewidth": 0,
              "ticks": ""
             }
            },
            "type": "scatterternary"
           }
          ],
          "surface": [
           {
            "colorbar": {
             "outlinewidth": 0,
             "ticks": ""
            },
            "colorscale": [
             [
              0,
              "#0d0887"
             ],
             [
              0.1111111111111111,
              "#46039f"
             ],
             [
              0.2222222222222222,
              "#7201a8"
             ],
             [
              0.3333333333333333,
              "#9c179e"
             ],
             [
              0.4444444444444444,
              "#bd3786"
             ],
             [
              0.5555555555555556,
              "#d8576b"
             ],
             [
              0.6666666666666666,
              "#ed7953"
             ],
             [
              0.7777777777777778,
              "#fb9f3a"
             ],
             [
              0.8888888888888888,
              "#fdca26"
             ],
             [
              1,
              "#f0f921"
             ]
            ],
            "type": "surface"
           }
          ],
          "table": [
           {
            "cells": {
             "fill": {
              "color": "#EBF0F8"
             },
             "line": {
              "color": "white"
             }
            },
            "header": {
             "fill": {
              "color": "#C8D4E3"
             },
             "line": {
              "color": "white"
             }
            },
            "type": "table"
           }
          ]
         },
         "layout": {
          "annotationdefaults": {
           "arrowcolor": "#2a3f5f",
           "arrowhead": 0,
           "arrowwidth": 1
          },
          "coloraxis": {
           "colorbar": {
            "outlinewidth": 0,
            "ticks": ""
           }
          },
          "colorscale": {
           "diverging": [
            [
             0,
             "#8e0152"
            ],
            [
             0.1,
             "#c51b7d"
            ],
            [
             0.2,
             "#de77ae"
            ],
            [
             0.3,
             "#f1b6da"
            ],
            [
             0.4,
             "#fde0ef"
            ],
            [
             0.5,
             "#f7f7f7"
            ],
            [
             0.6,
             "#e6f5d0"
            ],
            [
             0.7,
             "#b8e186"
            ],
            [
             0.8,
             "#7fbc41"
            ],
            [
             0.9,
             "#4d9221"
            ],
            [
             1,
             "#276419"
            ]
           ],
           "sequential": [
            [
             0,
             "#0d0887"
            ],
            [
             0.1111111111111111,
             "#46039f"
            ],
            [
             0.2222222222222222,
             "#7201a8"
            ],
            [
             0.3333333333333333,
             "#9c179e"
            ],
            [
             0.4444444444444444,
             "#bd3786"
            ],
            [
             0.5555555555555556,
             "#d8576b"
            ],
            [
             0.6666666666666666,
             "#ed7953"
            ],
            [
             0.7777777777777778,
             "#fb9f3a"
            ],
            [
             0.8888888888888888,
             "#fdca26"
            ],
            [
             1,
             "#f0f921"
            ]
           ],
           "sequentialminus": [
            [
             0,
             "#0d0887"
            ],
            [
             0.1111111111111111,
             "#46039f"
            ],
            [
             0.2222222222222222,
             "#7201a8"
            ],
            [
             0.3333333333333333,
             "#9c179e"
            ],
            [
             0.4444444444444444,
             "#bd3786"
            ],
            [
             0.5555555555555556,
             "#d8576b"
            ],
            [
             0.6666666666666666,
             "#ed7953"
            ],
            [
             0.7777777777777778,
             "#fb9f3a"
            ],
            [
             0.8888888888888888,
             "#fdca26"
            ],
            [
             1,
             "#f0f921"
            ]
           ]
          },
          "colorway": [
           "#636efa",
           "#EF553B",
           "#00cc96",
           "#ab63fa",
           "#FFA15A",
           "#19d3f3",
           "#FF6692",
           "#B6E880",
           "#FF97FF",
           "#FECB52"
          ],
          "font": {
           "color": "#2a3f5f"
          },
          "geo": {
           "bgcolor": "white",
           "lakecolor": "white",
           "landcolor": "#E5ECF6",
           "showlakes": true,
           "showland": true,
           "subunitcolor": "white"
          },
          "hoverlabel": {
           "align": "left"
          },
          "hovermode": "closest",
          "mapbox": {
           "style": "light"
          },
          "paper_bgcolor": "white",
          "plot_bgcolor": "#E5ECF6",
          "polar": {
           "angularaxis": {
            "gridcolor": "white",
            "linecolor": "white",
            "ticks": ""
           },
           "bgcolor": "#E5ECF6",
           "radialaxis": {
            "gridcolor": "white",
            "linecolor": "white",
            "ticks": ""
           }
          },
          "scene": {
           "xaxis": {
            "backgroundcolor": "#E5ECF6",
            "gridcolor": "white",
            "gridwidth": 2,
            "linecolor": "white",
            "showbackground": true,
            "ticks": "",
            "zerolinecolor": "white"
           },
           "yaxis": {
            "backgroundcolor": "#E5ECF6",
            "gridcolor": "white",
            "gridwidth": 2,
            "linecolor": "white",
            "showbackground": true,
            "ticks": "",
            "zerolinecolor": "white"
           },
           "zaxis": {
            "backgroundcolor": "#E5ECF6",
            "gridcolor": "white",
            "gridwidth": 2,
            "linecolor": "white",
            "showbackground": true,
            "ticks": "",
            "zerolinecolor": "white"
           }
          },
          "shapedefaults": {
           "line": {
            "color": "#2a3f5f"
           }
          },
          "ternary": {
           "aaxis": {
            "gridcolor": "white",
            "linecolor": "white",
            "ticks": ""
           },
           "baxis": {
            "gridcolor": "white",
            "linecolor": "white",
            "ticks": ""
           },
           "bgcolor": "#E5ECF6",
           "caxis": {
            "gridcolor": "white",
            "linecolor": "white",
            "ticks": ""
           }
          },
          "title": {
           "x": 0.05
          },
          "xaxis": {
           "automargin": true,
           "gridcolor": "white",
           "linecolor": "white",
           "ticks": "",
           "title": {
            "standoff": 15
           },
           "zerolinecolor": "white",
           "zerolinewidth": 2
          },
          "yaxis": {
           "automargin": true,
           "gridcolor": "white",
           "linecolor": "white",
           "ticks": "",
           "title": {
            "standoff": 15
           },
           "zerolinecolor": "white",
           "zerolinewidth": 2
          }
         }
        },
        "title": {
         "text": "Mean Temperature --- Bombing Dates and Mean Temperature at this Date"
        }
       }
      },
      "text/html": [
       "<div>\n",
       "        \n",
       "        \n",
       "            <div id=\"c7f3d1db-cb95-4c29-ae8e-944123d5929a\" class=\"plotly-graph-div\" style=\"height:525px; width:100%;\"></div>\n",
       "            <script type=\"text/javascript\">\n",
       "                require([\"plotly\"], function(Plotly) {\n",
       "                    window.PLOTLYENV=window.PLOTLYENV || {};\n",
       "                    \n",
       "                if (document.getElementById(\"c7f3d1db-cb95-4c29-ae8e-944123d5929a\")) {\n",
       "                    Plotly.newPlot(\n",
       "                        'c7f3d1db-cb95-4c29-ae8e-944123d5929a',\n",
       "                        [{\"marker\": {\"color\": \"rgba(16, 112, 2, 0.8)\"}, \"mode\": \"lines\", \"name\": \"Mean Temperature\", \"type\": \"scatter\", \"x\": [\"1943-05-11T00:00:00\", \"1943-05-12T00:00:00\", \"1943-05-13T00:00:00\", \"1943-05-14T00:00:00\", \"1943-05-15T00:00:00\", \"1943-05-16T00:00:00\", \"1943-05-17T00:00:00\", \"1943-05-18T00:00:00\", \"1943-05-19T00:00:00\", \"1943-05-20T00:00:00\", \"1943-05-21T00:00:00\", \"1943-05-22T00:00:00\", \"1943-05-23T00:00:00\", \"1943-05-24T00:00:00\", \"1943-05-25T00:00:00\", \"1943-05-26T00:00:00\", \"1943-05-27T00:00:00\", \"1943-05-28T00:00:00\", \"1943-05-29T00:00:00\", \"1943-05-30T00:00:00\", \"1943-05-31T00:00:00\", \"1943-06-01T00:00:00\", \"1943-06-02T00:00:00\", \"1943-06-03T00:00:00\", \"1943-06-04T00:00:00\", \"1943-06-05T00:00:00\", \"1943-06-06T00:00:00\", \"1943-06-07T00:00:00\", \"1943-06-08T00:00:00\", \"1943-06-09T00:00:00\", \"1943-06-10T00:00:00\", \"1943-06-11T00:00:00\", \"1943-06-12T00:00:00\", \"1943-06-13T00:00:00\", \"1943-06-14T00:00:00\", \"1943-06-15T00:00:00\", \"1943-06-16T00:00:00\", \"1943-06-17T00:00:00\", \"1943-06-18T00:00:00\", \"1943-06-19T00:00:00\", \"1943-06-20T00:00:00\", \"1943-06-21T00:00:00\", \"1943-06-22T00:00:00\", \"1943-06-23T00:00:00\", \"1943-06-24T00:00:00\", \"1943-06-25T00:00:00\", \"1943-06-26T00:00:00\", \"1943-06-27T00:00:00\", \"1943-06-28T00:00:00\", \"1943-06-29T00:00:00\", \"1943-06-30T00:00:00\", \"1943-07-01T00:00:00\", \"1943-07-02T00:00:00\", \"1943-07-03T00:00:00\", \"1943-07-04T00:00:00\", \"1943-07-05T00:00:00\", \"1943-07-06T00:00:00\", \"1943-07-07T00:00:00\", \"1943-07-08T00:00:00\", \"1943-07-09T00:00:00\", \"1943-07-10T00:00:00\", \"1943-07-11T00:00:00\", \"1943-07-12T00:00:00\", \"1943-07-13T00:00:00\", \"1943-07-14T00:00:00\", \"1943-07-15T00:00:00\", \"1943-07-16T00:00:00\", \"1943-07-17T00:00:00\", \"1943-07-18T00:00:00\", \"1943-07-19T00:00:00\", \"1943-07-20T00:00:00\", \"1943-07-21T00:00:00\", \"1943-07-22T00:00:00\", \"1943-07-23T00:00:00\", \"1943-07-24T00:00:00\", \"1943-07-25T00:00:00\", \"1943-07-26T00:00:00\", \"1943-07-27T00:00:00\", \"1943-07-28T00:00:00\", \"1943-07-29T00:00:00\", \"1943-07-30T00:00:00\", \"1943-07-31T00:00:00\", \"1943-08-01T00:00:00\", \"1943-08-02T00:00:00\", \"1943-08-03T00:00:00\", \"1943-08-04T00:00:00\", \"1943-08-05T00:00:00\", \"1943-08-06T00:00:00\", \"1943-08-07T00:00:00\", \"1943-08-08T00:00:00\", \"1943-08-09T00:00:00\", \"1943-08-10T00:00:00\", \"1943-08-11T00:00:00\", \"1943-08-12T00:00:00\", \"1943-08-13T00:00:00\", \"1943-08-14T00:00:00\", \"1943-08-15T00:00:00\", \"1943-08-16T00:00:00\", \"1943-08-17T00:00:00\", \"1943-08-18T00:00:00\", \"1943-08-19T00:00:00\", \"1943-08-20T00:00:00\", \"1943-08-21T00:00:00\", \"1943-08-22T00:00:00\", \"1943-08-23T00:00:00\", \"1943-08-24T00:00:00\", \"1943-08-25T00:00:00\", \"1943-08-26T00:00:00\", \"1943-08-27T00:00:00\", \"1943-08-28T00:00:00\", \"1943-08-29T00:00:00\", \"1943-08-30T00:00:00\", \"1943-08-31T00:00:00\", \"1943-09-01T00:00:00\", \"1943-09-02T00:00:00\", \"1943-09-03T00:00:00\", \"1943-09-04T00:00:00\", \"1943-09-05T00:00:00\", \"1943-09-06T00:00:00\", \"1943-09-07T00:00:00\", \"1943-09-08T00:00:00\", \"1943-09-09T00:00:00\", \"1943-09-10T00:00:00\", \"1943-09-11T00:00:00\", \"1943-09-12T00:00:00\", \"1943-09-13T00:00:00\", \"1943-09-14T00:00:00\", \"1943-09-15T00:00:00\", \"1943-09-16T00:00:00\", \"1943-09-17T00:00:00\", \"1943-09-18T00:00:00\", \"1943-09-19T00:00:00\", \"1943-09-20T00:00:00\", \"1943-09-21T00:00:00\", \"1943-09-22T00:00:00\", \"1943-09-23T00:00:00\", \"1943-09-24T00:00:00\", \"1943-09-25T00:00:00\", \"1943-09-26T00:00:00\", \"1943-09-27T00:00:00\", \"1943-09-28T00:00:00\", \"1943-09-29T00:00:00\", \"1943-09-30T00:00:00\", \"1943-10-01T00:00:00\", \"1943-10-02T00:00:00\", \"1943-10-03T00:00:00\", \"1943-10-04T00:00:00\", \"1943-10-05T00:00:00\", \"1943-10-06T00:00:00\", \"1943-10-07T00:00:00\", \"1943-10-08T00:00:00\", \"1943-10-09T00:00:00\", \"1943-10-10T00:00:00\", \"1943-10-11T00:00:00\", \"1943-10-12T00:00:00\", \"1943-10-13T00:00:00\", \"1943-10-14T00:00:00\", \"1943-10-15T00:00:00\", \"1943-10-16T00:00:00\", \"1943-10-17T00:00:00\", \"1943-10-18T00:00:00\", \"1943-10-19T00:00:00\", \"1943-10-20T00:00:00\", \"1943-10-21T00:00:00\", \"1943-10-22T00:00:00\", \"1943-10-23T00:00:00\", \"1943-10-24T00:00:00\", \"1943-10-25T00:00:00\", \"1943-10-26T00:00:00\", \"1943-10-27T00:00:00\", \"1943-10-28T00:00:00\", \"1943-10-29T00:00:00\", \"1943-10-30T00:00:00\", \"1943-10-31T00:00:00\", \"1943-11-01T00:00:00\", \"1943-11-02T00:00:00\", \"1943-11-03T00:00:00\", \"1943-11-04T00:00:00\", \"1943-11-05T00:00:00\", \"1943-11-06T00:00:00\", \"1943-11-07T00:00:00\", \"1943-11-08T00:00:00\", \"1943-11-09T00:00:00\", \"1943-11-10T00:00:00\", \"1943-11-11T00:00:00\", \"1943-11-12T00:00:00\", \"1943-11-13T00:00:00\", \"1943-11-14T00:00:00\", \"1943-11-15T00:00:00\", \"1943-11-16T00:00:00\", \"1943-11-17T00:00:00\", \"1943-11-18T00:00:00\", \"1943-11-19T00:00:00\", \"1943-11-20T00:00:00\", \"1943-11-21T00:00:00\", \"1943-11-22T00:00:00\", \"1943-11-23T00:00:00\", \"1943-11-24T00:00:00\", \"1943-11-25T00:00:00\", \"1943-11-26T00:00:00\", \"1943-11-27T00:00:00\", \"1943-11-28T00:00:00\", \"1943-11-29T00:00:00\", \"1943-11-30T00:00:00\", \"1943-12-01T00:00:00\", \"1943-12-02T00:00:00\", \"1943-12-03T00:00:00\", \"1943-12-04T00:00:00\", \"1943-12-05T00:00:00\", \"1943-12-06T00:00:00\", \"1943-12-07T00:00:00\", \"1943-12-08T00:00:00\", \"1943-12-09T00:00:00\", \"1943-12-10T00:00:00\", \"1943-12-11T00:00:00\", \"1943-12-12T00:00:00\", \"1943-12-13T00:00:00\", \"1943-12-14T00:00:00\", \"1943-12-15T00:00:00\", \"1943-12-16T00:00:00\", \"1943-12-17T00:00:00\", \"1943-12-18T00:00:00\", \"1943-12-19T00:00:00\", \"1943-12-20T00:00:00\", \"1943-12-21T00:00:00\", \"1943-12-22T00:00:00\", \"1943-12-23T00:00:00\", \"1943-12-24T00:00:00\", \"1943-12-25T00:00:00\", \"1943-12-26T00:00:00\", \"1943-12-27T00:00:00\", \"1943-12-28T00:00:00\", \"1943-12-29T00:00:00\", \"1943-12-30T00:00:00\", \"1943-12-31T00:00:00\", \"1944-01-01T00:00:00\", \"1944-01-02T00:00:00\", \"1944-01-03T00:00:00\", \"1944-01-04T00:00:00\", \"1944-01-05T00:00:00\", \"1944-01-06T00:00:00\", \"1944-01-07T00:00:00\", \"1944-01-08T00:00:00\", \"1944-01-09T00:00:00\", \"1944-01-10T00:00:00\", \"1944-01-11T00:00:00\", \"1944-01-12T00:00:00\", \"1944-01-13T00:00:00\", \"1944-01-14T00:00:00\", \"1944-01-15T00:00:00\", \"1944-01-16T00:00:00\", \"1944-01-17T00:00:00\", \"1944-01-18T00:00:00\", \"1944-01-19T00:00:00\", \"1944-01-20T00:00:00\", \"1944-01-21T00:00:00\", \"1944-01-22T00:00:00\", \"1944-01-23T00:00:00\", \"1944-01-24T00:00:00\", \"1944-01-25T00:00:00\", \"1944-01-26T00:00:00\", \"1944-01-27T00:00:00\", \"1944-01-28T00:00:00\", \"1944-01-29T00:00:00\", \"1944-01-30T00:00:00\", \"1944-01-31T00:00:00\", \"1944-02-01T00:00:00\", \"1944-02-02T00:00:00\", \"1944-02-03T00:00:00\", \"1944-02-04T00:00:00\", \"1944-02-05T00:00:00\", \"1944-02-06T00:00:00\", \"1944-02-07T00:00:00\", \"1944-02-08T00:00:00\", \"1944-02-09T00:00:00\", \"1944-02-10T00:00:00\", \"1944-02-11T00:00:00\", \"1944-02-12T00:00:00\", \"1944-02-13T00:00:00\", \"1944-02-14T00:00:00\", \"1944-02-15T00:00:00\", \"1944-02-16T00:00:00\", \"1944-02-17T00:00:00\", \"1944-02-18T00:00:00\", \"1944-02-19T00:00:00\", \"1944-02-20T00:00:00\", \"1944-02-21T00:00:00\", \"1944-02-22T00:00:00\", \"1944-02-23T00:00:00\", \"1944-02-24T00:00:00\", \"1944-02-25T00:00:00\", \"1944-02-26T00:00:00\", \"1944-02-27T00:00:00\", \"1944-02-28T00:00:00\", \"1944-02-29T00:00:00\", \"1944-03-01T00:00:00\", \"1944-03-02T00:00:00\", \"1944-03-03T00:00:00\", \"1944-03-04T00:00:00\", \"1944-03-05T00:00:00\", \"1944-03-06T00:00:00\", \"1944-03-07T00:00:00\", \"1944-03-08T00:00:00\", \"1944-03-09T00:00:00\", \"1944-03-10T00:00:00\", \"1944-03-11T00:00:00\", \"1944-03-12T00:00:00\", \"1944-03-13T00:00:00\", \"1944-03-14T00:00:00\", \"1944-03-15T00:00:00\", \"1944-03-16T00:00:00\", \"1944-03-17T00:00:00\", \"1944-03-18T00:00:00\", \"1944-03-19T00:00:00\", \"1944-03-20T00:00:00\", \"1944-03-21T00:00:00\", \"1944-03-22T00:00:00\", \"1944-03-23T00:00:00\", \"1944-03-24T00:00:00\", \"1944-03-25T00:00:00\", \"1944-03-26T00:00:00\", \"1944-03-27T00:00:00\", \"1944-03-28T00:00:00\", \"1944-03-29T00:00:00\", \"1944-03-30T00:00:00\", \"1944-03-31T00:00:00\", \"1944-04-01T00:00:00\", \"1944-04-02T00:00:00\", \"1944-04-03T00:00:00\", \"1944-04-04T00:00:00\", \"1944-04-05T00:00:00\", \"1944-04-06T00:00:00\", \"1944-04-07T00:00:00\", \"1944-04-08T00:00:00\", \"1944-04-09T00:00:00\", \"1944-04-10T00:00:00\", \"1944-04-11T00:00:00\", \"1944-04-12T00:00:00\", \"1944-04-13T00:00:00\", \"1944-04-14T00:00:00\", \"1944-04-15T00:00:00\", \"1944-04-16T00:00:00\", \"1944-04-17T00:00:00\", \"1944-04-18T00:00:00\", \"1944-04-19T00:00:00\", \"1944-04-20T00:00:00\", \"1944-04-21T00:00:00\", \"1944-04-22T00:00:00\", \"1944-04-23T00:00:00\", \"1944-04-24T00:00:00\", \"1944-04-25T00:00:00\", \"1944-04-26T00:00:00\", \"1944-04-27T00:00:00\", \"1944-04-28T00:00:00\", \"1944-04-29T00:00:00\", \"1944-04-30T00:00:00\", \"1944-05-01T00:00:00\", \"1944-05-02T00:00:00\", \"1944-05-03T00:00:00\", \"1944-05-04T00:00:00\", \"1944-05-05T00:00:00\", \"1944-05-06T00:00:00\", \"1944-05-07T00:00:00\", \"1944-05-08T00:00:00\", \"1944-05-09T00:00:00\", \"1944-05-10T00:00:00\", \"1944-05-11T00:00:00\", \"1944-05-12T00:00:00\", \"1944-05-13T00:00:00\", \"1944-05-14T00:00:00\", \"1944-05-15T00:00:00\", \"1944-05-16T00:00:00\", \"1944-05-17T00:00:00\", \"1944-05-18T00:00:00\", \"1944-05-19T00:00:00\", \"1944-05-20T00:00:00\", \"1944-05-21T00:00:00\", \"1944-05-22T00:00:00\", \"1944-05-23T00:00:00\", \"1944-05-24T00:00:00\", \"1944-05-25T00:00:00\", \"1944-05-26T00:00:00\", \"1944-05-27T00:00:00\", \"1944-05-28T00:00:00\", \"1944-05-29T00:00:00\", \"1944-05-30T00:00:00\", \"1944-05-31T00:00:00\", \"1944-06-01T00:00:00\", \"1944-06-02T00:00:00\", \"1944-06-03T00:00:00\", \"1944-06-04T00:00:00\", \"1944-06-05T00:00:00\", \"1944-06-06T00:00:00\", \"1944-06-07T00:00:00\", \"1944-06-08T00:00:00\", \"1944-06-09T00:00:00\", \"1944-06-10T00:00:00\", \"1944-06-11T00:00:00\", \"1944-06-12T00:00:00\", \"1944-06-13T00:00:00\", \"1944-06-14T00:00:00\", \"1944-06-15T00:00:00\", \"1944-06-16T00:00:00\", \"1944-06-17T00:00:00\", \"1944-06-18T00:00:00\", \"1944-06-19T00:00:00\", \"1944-06-20T00:00:00\", \"1944-06-21T00:00:00\", \"1944-06-22T00:00:00\", \"1944-06-23T00:00:00\", \"1944-06-24T00:00:00\", \"1944-06-25T00:00:00\", \"1944-06-26T00:00:00\", \"1944-06-27T00:00:00\", \"1944-06-28T00:00:00\", \"1944-06-29T00:00:00\", \"1944-06-30T00:00:00\", \"1944-07-01T00:00:00\", \"1944-07-02T00:00:00\", \"1944-07-03T00:00:00\", \"1944-07-04T00:00:00\", \"1944-07-05T00:00:00\", \"1944-07-06T00:00:00\", \"1944-07-07T00:00:00\", \"1944-07-08T00:00:00\", \"1944-07-09T00:00:00\", \"1944-07-10T00:00:00\", \"1944-07-11T00:00:00\", \"1944-07-12T00:00:00\", \"1944-07-13T00:00:00\", \"1944-07-14T00:00:00\", \"1944-07-15T00:00:00\", \"1944-07-16T00:00:00\", \"1944-07-17T00:00:00\", \"1944-07-18T00:00:00\", \"1944-07-19T00:00:00\", \"1944-07-20T00:00:00\", \"1944-07-21T00:00:00\", \"1944-07-22T00:00:00\", \"1944-07-23T00:00:00\", \"1944-07-24T00:00:00\", \"1944-07-25T00:00:00\", \"1944-07-26T00:00:00\", \"1944-07-27T00:00:00\", \"1944-07-28T00:00:00\", \"1944-07-29T00:00:00\", \"1944-07-30T00:00:00\", \"1944-07-31T00:00:00\", \"1944-08-01T00:00:00\", \"1944-08-02T00:00:00\", \"1944-08-03T00:00:00\", \"1944-08-04T00:00:00\", \"1944-08-05T00:00:00\", \"1944-08-06T00:00:00\", \"1944-08-07T00:00:00\", \"1944-08-08T00:00:00\", \"1944-08-09T00:00:00\", \"1944-08-10T00:00:00\", \"1944-08-11T00:00:00\", \"1944-08-12T00:00:00\", \"1944-08-13T00:00:00\", \"1944-08-14T00:00:00\", \"1944-08-15T00:00:00\", \"1944-08-16T00:00:00\", \"1944-08-17T00:00:00\", \"1944-08-18T00:00:00\", \"1944-08-19T00:00:00\", \"1944-08-20T00:00:00\", \"1944-08-21T00:00:00\", \"1944-08-22T00:00:00\", \"1944-08-23T00:00:00\", \"1944-08-24T00:00:00\", \"1944-08-25T00:00:00\", \"1944-08-26T00:00:00\", \"1944-08-27T00:00:00\", \"1944-08-28T00:00:00\", \"1944-08-29T00:00:00\", \"1944-08-30T00:00:00\", \"1944-08-31T00:00:00\", \"1944-09-01T00:00:00\", \"1944-09-02T00:00:00\", \"1944-09-03T00:00:00\", \"1944-09-04T00:00:00\", \"1944-09-05T00:00:00\", \"1944-09-06T00:00:00\", \"1944-09-07T00:00:00\", \"1944-09-08T00:00:00\", \"1944-09-09T00:00:00\", \"1944-09-10T00:00:00\", \"1944-09-11T00:00:00\", \"1944-09-12T00:00:00\", \"1944-09-13T00:00:00\", \"1944-09-14T00:00:00\", \"1944-09-15T00:00:00\", \"1944-09-16T00:00:00\", \"1944-09-17T00:00:00\", \"1944-09-18T00:00:00\", \"1944-09-19T00:00:00\", \"1944-09-20T00:00:00\", \"1944-09-21T00:00:00\", \"1944-09-22T00:00:00\", \"1944-09-23T00:00:00\", \"1944-09-24T00:00:00\", \"1944-09-25T00:00:00\", \"1944-09-26T00:00:00\", \"1944-09-27T00:00:00\", \"1944-09-28T00:00:00\", \"1944-09-29T00:00:00\", \"1944-09-30T00:00:00\", \"1944-10-01T00:00:00\", \"1944-10-02T00:00:00\", \"1944-10-03T00:00:00\", \"1944-10-04T00:00:00\", \"1944-10-05T00:00:00\", \"1944-10-06T00:00:00\", \"1944-10-07T00:00:00\", \"1944-10-08T00:00:00\", \"1944-10-09T00:00:00\", \"1944-10-10T00:00:00\", \"1944-10-11T00:00:00\", \"1944-10-12T00:00:00\", \"1944-10-13T00:00:00\", \"1944-10-14T00:00:00\", \"1944-10-15T00:00:00\", \"1944-10-16T00:00:00\", \"1944-10-17T00:00:00\", \"1944-10-18T00:00:00\", \"1944-10-19T00:00:00\", \"1944-10-20T00:00:00\", \"1944-10-21T00:00:00\", \"1944-10-22T00:00:00\", \"1944-10-23T00:00:00\", \"1944-10-24T00:00:00\", \"1944-10-25T00:00:00\", \"1944-10-26T00:00:00\", \"1944-10-27T00:00:00\", \"1944-10-28T00:00:00\", \"1944-10-29T00:00:00\", \"1944-10-30T00:00:00\", \"1944-10-31T00:00:00\", \"1944-11-01T00:00:00\", \"1944-11-02T00:00:00\", \"1944-11-03T00:00:00\", \"1944-11-04T00:00:00\", \"1944-11-05T00:00:00\", \"1944-11-06T00:00:00\", \"1944-11-07T00:00:00\", \"1944-11-08T00:00:00\", \"1944-11-09T00:00:00\", \"1944-11-10T00:00:00\", \"1944-11-11T00:00:00\", \"1944-11-12T00:00:00\", \"1944-11-13T00:00:00\", \"1944-11-14T00:00:00\", \"1944-11-15T00:00:00\", \"1944-11-16T00:00:00\", \"1944-11-17T00:00:00\", \"1944-11-18T00:00:00\", \"1944-11-19T00:00:00\", \"1944-11-20T00:00:00\", \"1944-11-21T00:00:00\", \"1944-11-22T00:00:00\", \"1944-11-23T00:00:00\", \"1944-11-24T00:00:00\", \"1944-11-25T00:00:00\", \"1944-11-26T00:00:00\", \"1944-11-27T00:00:00\", \"1944-11-28T00:00:00\", \"1944-11-29T00:00:00\", \"1944-11-30T00:00:00\", \"1944-12-02T00:00:00\", \"1944-12-03T00:00:00\", \"1944-12-04T00:00:00\", \"1944-12-05T00:00:00\", \"1944-12-06T00:00:00\", \"1944-12-07T00:00:00\", \"1944-12-08T00:00:00\", \"1944-12-09T00:00:00\", \"1944-12-10T00:00:00\", \"1944-12-11T00:00:00\", \"1944-12-12T00:00:00\", \"1944-12-13T00:00:00\", \"1944-12-14T00:00:00\", \"1944-12-15T00:00:00\", \"1944-12-16T00:00:00\", \"1944-12-17T00:00:00\", \"1944-12-18T00:00:00\", \"1944-12-19T00:00:00\", \"1944-12-20T00:00:00\", \"1944-12-21T00:00:00\", \"1944-12-22T00:00:00\", \"1944-12-23T00:00:00\", \"1944-12-24T00:00:00\", \"1944-12-25T00:00:00\", \"1944-12-26T00:00:00\", \"1944-12-27T00:00:00\", \"1944-12-28T00:00:00\", \"1944-12-29T00:00:00\", \"1944-12-30T00:00:00\", \"1944-12-31T00:00:00\", \"1945-01-01T00:00:00\", \"1945-01-02T00:00:00\", \"1945-01-03T00:00:00\", \"1945-01-04T00:00:00\", \"1945-01-05T00:00:00\", \"1945-01-06T00:00:00\", \"1945-01-07T00:00:00\", \"1945-01-08T00:00:00\", \"1945-01-09T00:00:00\", \"1945-01-10T00:00:00\", \"1945-01-11T00:00:00\", \"1945-01-12T00:00:00\", \"1945-01-13T00:00:00\", \"1945-01-14T00:00:00\", \"1945-01-15T00:00:00\", \"1945-01-16T00:00:00\", \"1945-01-17T00:00:00\", \"1945-01-18T00:00:00\", \"1945-01-19T00:00:00\", \"1945-01-20T00:00:00\", \"1945-01-21T00:00:00\", \"1945-01-22T00:00:00\", \"1945-01-23T00:00:00\", \"1945-01-24T00:00:00\", \"1945-01-25T00:00:00\", \"1945-01-26T00:00:00\", \"1945-01-27T00:00:00\", \"1945-01-28T00:00:00\", \"1945-01-29T00:00:00\", \"1945-01-30T00:00:00\", \"1945-01-31T00:00:00\", \"1945-02-01T00:00:00\", \"1945-02-02T00:00:00\", \"1945-02-03T00:00:00\", \"1945-02-04T00:00:00\", \"1945-02-05T00:00:00\", \"1945-02-06T00:00:00\", \"1945-02-07T00:00:00\", \"1945-02-08T00:00:00\", \"1945-02-09T00:00:00\", \"1945-02-10T00:00:00\", \"1945-02-11T00:00:00\", \"1945-02-12T00:00:00\", \"1945-02-13T00:00:00\", \"1945-02-14T00:00:00\", \"1945-02-15T00:00:00\", \"1945-02-16T00:00:00\", \"1945-02-17T00:00:00\", \"1945-02-18T00:00:00\", \"1945-02-19T00:00:00\", \"1945-02-20T00:00:00\", \"1945-02-21T00:00:00\", \"1945-02-22T00:00:00\", \"1945-02-23T00:00:00\", \"1945-02-24T00:00:00\", \"1945-02-25T00:00:00\", \"1945-02-26T00:00:00\", \"1945-02-27T00:00:00\", \"1945-02-28T00:00:00\", \"1945-03-01T00:00:00\", \"1945-03-02T00:00:00\", \"1945-03-03T00:00:00\", \"1945-03-04T00:00:00\", \"1945-03-05T00:00:00\", \"1945-03-06T00:00:00\", \"1945-03-07T00:00:00\", \"1945-03-08T00:00:00\", \"1945-03-09T00:00:00\", \"1945-03-10T00:00:00\", \"1945-03-11T00:00:00\", \"1945-03-12T00:00:00\", \"1945-03-13T00:00:00\", \"1945-03-14T00:00:00\", \"1945-03-15T00:00:00\", \"1945-03-16T00:00:00\", \"1945-03-17T00:00:00\", \"1945-03-18T00:00:00\", \"1945-03-19T00:00:00\", \"1945-03-20T00:00:00\", \"1945-03-21T00:00:00\", \"1945-03-22T00:00:00\", \"1945-03-23T00:00:00\", \"1945-03-24T00:00:00\", \"1945-03-25T00:00:00\", \"1945-03-26T00:00:00\", \"1945-03-27T00:00:00\", \"1945-03-28T00:00:00\", \"1945-03-29T00:00:00\", \"1945-03-30T00:00:00\", \"1945-03-31T00:00:00\", \"1945-04-01T00:00:00\", \"1945-04-02T00:00:00\", \"1945-04-03T00:00:00\", \"1945-04-04T00:00:00\", \"1945-04-05T00:00:00\", \"1945-04-06T00:00:00\", \"1945-04-07T00:00:00\", \"1945-04-08T00:00:00\", \"1945-04-09T00:00:00\", \"1945-04-10T00:00:00\", \"1945-04-11T00:00:00\", \"1945-04-12T00:00:00\", \"1945-04-13T00:00:00\", \"1945-04-14T00:00:00\", \"1945-04-15T00:00:00\", \"1945-04-16T00:00:00\", \"1945-04-17T00:00:00\", \"1945-04-18T00:00:00\", \"1945-04-19T00:00:00\", \"1945-04-20T00:00:00\", \"1945-04-21T00:00:00\", \"1945-04-22T00:00:00\", \"1945-04-23T00:00:00\", \"1945-04-24T00:00:00\", \"1945-04-25T00:00:00\", \"1945-04-26T00:00:00\", \"1945-04-27T00:00:00\", \"1945-04-28T00:00:00\", \"1945-04-29T00:00:00\", \"1945-04-30T00:00:00\", \"1945-05-01T00:00:00\", \"1945-05-02T00:00:00\", \"1945-05-03T00:00:00\", \"1945-05-04T00:00:00\", \"1945-05-05T00:00:00\", \"1945-05-06T00:00:00\", \"1945-05-07T00:00:00\", \"1945-05-08T00:00:00\", \"1945-05-09T00:00:00\", \"1945-05-10T00:00:00\", \"1945-05-11T00:00:00\", \"1945-05-12T00:00:00\", \"1945-05-13T00:00:00\", \"1945-05-14T00:00:00\", \"1945-05-15T00:00:00\", \"1945-05-16T00:00:00\", \"1945-05-17T00:00:00\", \"1945-05-18T00:00:00\", \"1945-05-19T00:00:00\", \"1945-05-20T00:00:00\", \"1945-05-21T00:00:00\", \"1945-05-22T00:00:00\", \"1945-05-23T00:00:00\", \"1945-05-24T00:00:00\", \"1945-05-25T00:00:00\", \"1945-05-26T00:00:00\", \"1945-05-27T00:00:00\", \"1945-05-28T00:00:00\", \"1945-05-29T00:00:00\", \"1945-05-30T00:00:00\", \"1945-05-31T00:00:00\"], \"y\": [28.88888889, 25.55555556, 24.44444444, 23.88888889, 27.77777778, 26.66666667, 24.44444444, 24.44444444, 24.44444444, 24.44444444, 24.44444444, 24.44444444, 25.55555556, 27.22222222, 26.66666667, 25.55555556, 23.33333333, 25.55555556, 27.77777778, 30.0, 28.33333333, 28.33333333, 27.77777778, 27.22222222, 28.88888889, 26.66666667, 26.66666667, 27.77777778, 27.77777778, 26.66666667, 27.77777778, 30.0, 27.77777778, 26.66666667, 28.33333333, 29.44444444, 26.66666667, 27.77777778, 28.88888889, 27.77777778, 28.33333333, 28.33333333, 28.88888889, 28.88888889, 27.77777778, 28.33333333, 28.33333333, 29.44444444, 28.88888889, 28.88888889, 27.77777778, 27.77777778, 28.33333333, 27.77777778, 27.22222222, 27.77777778, 27.77777778, 27.77777778, 28.88888889, 28.88888889, 29.44444444, 31.11111111, 31.11111111, 28.88888889, 28.88888889, 27.77777778, 29.44444444, 29.44444444, 28.88888889, 25.55555556, 28.88888889, 28.88888889, 28.88888889, 30.0, 31.11111111, 30.0, 30.0, 28.88888889, 28.88888889, 28.88888889, 30.0, 28.88888889, 27.22222222, 28.88888889, 28.88888889, 27.77777778, 29.44444444, 28.33333333, 27.22222222, 27.77777778, 26.66666667, 27.77777778, 26.66666667, 28.88888889, 30.0, 26.11111111, 27.77777778, 27.77777778, 28.88888889, 28.88888889, 28.33333333, 29.44444444, 27.77777778, 27.77777778, 28.88888889, 28.88888889, 28.88888889, 26.11111111, 25.55555556, 27.77777778, 28.88888889, 28.88888889, 27.77777778, 30.0, 28.88888889, 28.88888889, 30.0, 28.88888889, 28.33333333, 26.66666667, 28.88888889, 30.55555556, 27.77777778, 23.88888889, 25.55555556, 27.22222222, 28.88888889, 30.0, 30.0, 31.11111111, 30.55555556, 31.11111111, 31.66666667, 30.0, 27.77777778, 30.0, 26.66666667, 26.66666667, 26.66666667, 23.88888889, 24.44444444, 26.11111111, 27.77777778, 28.88888889, 28.88888889, 28.88888889, 27.77777778, 26.66666667, 23.33333333, 26.66666667, 29.44444444, 28.33333333, 27.77777778, 26.11111111, 26.11111111, 26.66666667, 25.55555556, 25.55555556, 25.0, 24.44444444, 25.55555556, 27.77777778, 25.55555556, 26.66666667, 25.55555556, 26.11111111, 24.44444444, 25.55555556, 23.88888889, 23.33333333, 23.33333333, 23.33333333, 23.33333333, 23.33333333, 22.77777778, 24.44444444, 24.44444444, 24.44444444, 25.0, 24.44444444, 23.88888889, 23.88888889, 24.44444444, 23.33333333, 23.33333333, 22.22222222, 22.22222222, 22.22222222, 22.22222222, 21.66666667, 22.22222222, 22.77777778, 22.22222222, 23.88888889, 21.11111111, 23.33333333, 22.77777778, 21.66666667, 22.22222222, 20.55555556, 20.0, 22.22222222, 21.11111111, 20.55555556, 20.0, 20.55555556, 20.0, 18.88888889, 18.88888889, 17.77777778, 16.66666667, 16.66666667, 16.66666667, 16.66666667, 16.66666667, 18.33333333, 17.77777778, 18.88888889, 17.77777778, 17.77777778, 17.77777778, 18.33333333, 17.22222222, 17.77777778, 17.77777778, 17.77777778, 17.77777778, 18.88888889, 18.88888889, 18.88888889, 17.77777778, 19.44444444, 17.22222222, 16.66666667, 17.77777778, 16.66666667, 16.11111111, 16.11111111, 15.55555556, 15.55555556, 12.22222222, 16.66666667, 16.66666667, 16.66666667, 16.66666667, 16.66666667, 17.77777778, 16.66666667, 17.22222222, 16.66666667, 15.55555556, 16.66666667, 16.11111111, 16.11111111, 16.66666667, 15.55555556, 15.55555556, 16.66666667, 17.77777778, 15.55555556, 17.77777778, 15.55555556, 18.88888889, 17.22222222, 16.11111111, 16.66666667, 16.66666667, 16.11111111, 16.66666667, 15.55555556, 14.44444444, 16.66666667, 16.66666667, 16.66666667, 17.22222222, 17.77777778, 17.77777778, 17.77777778, 16.66666667, 18.33333333, 19.44444444, 18.88888889, 18.33333333, 20.0, 18.88888889, 18.88888889, 17.77777778, 20.0, 20.0, 18.88888889, 20.0, 22.22222222, 20.0, 21.11111111, 22.22222222, 22.77777778, 23.33333333, 23.33333333, 22.22222222, 22.22222222, 22.77777778, 23.33333333, 23.33333333, 23.88888889, 23.33333333, 23.33333333, 23.33333333, 23.33333333, 24.44444444, 24.44444444, 23.33333333, 24.44444444, 22.22222222, 23.33333333, 24.44444444, 24.44444444, 26.11111111, 24.44444444, 22.22222222, 21.11111111, 22.77777778, 23.33333333, 22.22222222, 25.0, 21.11111111, 21.11111111, 22.22222222, 20.55555556, 22.22222222, 22.77777778, 23.33333333, 25.55555556, 23.33333333, 23.33333333, 23.33333333, 22.77777778, 22.77777778, 24.44444444, 22.22222222, 23.33333333, 23.33333333, 21.11111111, 23.33333333, 26.66666667, 24.44444444, 24.44444444, 25.55555556, 26.66666667, 25.55555556, 28.33333333, 28.88888889, 27.77777778, 28.33333333, 26.66666667, 24.44444444, 23.33333333, 25.0, 24.44444444, 25.0, 25.55555556, 26.66666667, 24.44444444, 23.88888889, 23.88888889, 27.22222222, 29.44444444, 26.11111111, 26.11111111, 23.88888889, 24.44444444, 23.88888889, 26.11111111, 27.77777778, 28.88888889, 26.66666667, 26.11111111, 27.77777778, 28.88888889, 27.22222222, 26.11111111, 24.44444444, 23.88888889, 25.0, 27.22222222, 28.33333333, 27.77777778, 28.88888889, 28.88888889, 28.33333333, 28.88888889, 27.22222222, 27.77777778, 28.88888889, 28.33333333, 27.77777778, 27.77777778, 28.33333333, 28.88888889, 28.33333333, 27.77777778, 30.0, 28.33333333, 27.77777778, 26.11111111, 25.0, 26.66666667, 28.88888889, 28.88888889, 28.33333333, 28.88888889, 28.88888889, 28.88888889, 28.88888889, 27.77777778, 26.66666667, 27.77777778, 27.77777778, 27.77777778, 27.77777778, 27.77777778, 28.88888889, 27.22222222, 28.88888889, 28.88888889, 28.88888889, 28.33333333, 28.88888889, 30.55555556, 30.55555556, 30.0, 28.33333333, 31.11111111, 29.44444444, 28.88888889, 28.88888889, 27.77777778, 27.77777778, 28.33333333, 27.77777778, 30.0, 31.11111111, 31.11111111, 30.0, 28.88888889, 28.33333333, 30.55555556, 30.55555556, 29.44444444, 28.88888889, 28.88888889, 28.88888889, 30.55555556, 30.0, 30.0, 30.55555556, 30.0, 27.77777778, 27.77777778, 27.77777778, 27.22222222, 28.88888889, 29.44444444, 30.0, 29.44444444, 30.55555556, 31.11111111, 30.55555556, 30.55555556, 26.66666667, 27.22222222, 30.0, 31.11111111, 28.88888889, 26.66666667, 28.88888889, 27.77777778, 26.11111111, 27.77777778, 27.77777778, 25.55555556, 27.22222222, 26.66666667, 27.22222222, 27.77777778, 27.77777778, 27.77777778, 26.66666667, 26.66666667, 27.77777778, 27.77777778, 27.77777778, 26.66666667, 27.77777778, 27.77777778, 27.77777778, 26.66666667, 26.66666667, 26.66666667, 27.77777778, 26.66666667, 25.55555556, 26.66666667, 27.77777778, 27.77777778, 26.66666667, 25.55555556, 27.22222222, 27.77777778, 27.77777778, 28.88888889, 29.44444444, 30.0, 26.11111111, 26.66666667, 27.77777778, 26.66666667, 27.77777778, 27.77777778, 26.66666667, 26.66666667, 26.66666667, 25.55555556, 25.55555556, 24.44444444, 24.44444444, 25.55555556, 24.44444444, 25.0, 25.0, 25.55555556, 25.55555556, 25.55555556, 25.55555556, 24.44444444, 24.44444444, 24.44444444, 25.55555556, 23.88888889, 23.88888889, 23.33333333, 21.11111111, 22.77777778, 23.33333333, 23.33333333, 22.22222222, 22.22222222, 22.22222222, 21.66666667, 22.22222222, 21.11111111, 22.22222222, 22.22222222, 22.77777778, 21.11111111, 23.33333333, 21.66666667, 21.11111111, 21.11111111, 21.11111111, 21.11111111, 20.55555556, 20.0, 20.0, 20.0, 20.0, 20.0, 18.88888889, 18.88888889, 21.11111111, 19.44444444, 20.0, 20.0, 20.0, 19.44444444, 20.0, 20.0, 18.88888889, 20.0, 20.0, 18.88888889, 20.0, 20.0, 18.88888889, 18.88888889, 18.33333333, 17.77777778, 17.77777778, 17.77777778, 17.77777778, 16.66666667, 17.77777778, 16.66666667, 18.88888889, 18.88888889, 18.33333333, 16.66666667, 16.66666667, 17.77777778, 18.33333333, 18.88888889, 18.88888889, 18.88888889, 16.66666667, 16.66666667, 17.22222222, 15.0, 14.44444444, 12.22222222, 13.88888889, 15.0, 15.55555556, 17.77777778, 16.66666667, 16.66666667, 16.66666667, 16.66666667, 16.66666667, 17.22222222, 18.88888889, 18.88888889, 18.88888889, 18.88888889, 17.22222222, 17.77777778, 18.33333333, 17.22222222, 16.11111111, 18.33333333, 17.22222222, 17.22222222, 17.22222222, 17.22222222, 16.66666667, 15.55555556, 16.11111111, 16.66666667, 17.22222222, 16.66666667, 17.77777778, 20.0, 15.55555556, 17.22222222, 15.55555556, 16.66666667, 17.22222222, 15.55555556, 15.55555556, 15.0, 17.22222222, 17.77777778, 18.88888889, 18.88888889, 18.88888889, 17.77777778, 18.88888889, 16.66666667, 18.88888889, 19.44444444, 16.66666667, 20.0, 20.0, 22.77777778, 23.33333333, 23.88888889, 21.66666667, 22.22222222, 22.22222222, 22.77777778, 22.22222222, 22.22222222, 21.11111111, 22.22222222, 22.22222222, 22.22222222, 23.33333333, 26.11111111, 20.55555556, 12.22222222, 21.66666667, 24.44444444, 24.44444444, 23.33333333, 23.33333333, 22.22222222, 23.33333333, 24.44444444, 25.55555556, 25.55555556, 27.77777778, 26.66666667, 28.33333333, 28.88888889, 30.55555556, 28.88888889, 28.88888889, 27.22222222, 25.55555556, 25.55555556, 26.66666667, 26.66666667, 25.55555556, 26.66666667, 24.44444444, 25.55555556, 25.55555556, 25.55555556, 24.44444444, 26.66666667, 27.22222222, 27.77777778, 21.11111111, 23.33333333, 26.11111111, 26.66666667, 26.11111111, 27.22222222, 25.55555556, 25.55555556, 26.66666667, 23.88888889, 26.66666667, 27.77777778, 25.0, 24.44444444, 24.44444444, 26.66666667, 25.55555556, 24.44444444, 25.0, 27.22222222, 25.55555556, 24.44444444, 26.66666667, 25.55555556, 22.22222222, 25.0, 26.66666667, 27.22222222, 27.77777778, 27.77777778, 26.11111111, 27.77777778, 26.66666667, 26.66666667, 23.88888889, 24.44444444, 23.33333333, 25.55555556, 24.44444444, 25.55555556, 26.66666667]}, {\"marker\": {\"color\": \"rgba(16, 0, 200, 1)\"}, \"mode\": \"markers\", \"name\": \"Bombing Temperature\", \"type\": \"scatter\", \"x\": [\"1944-08-02T00:00:00\", \"1943-09-20T00:00:00\", \"1943-09-24T00:00:00\", \"1943-09-24T00:00:00\", \"1944-08-17T00:00:00\", \"1944-08-18T00:00:00\", \"1944-08-18T00:00:00\", \"1944-08-18T00:00:00\", \"1944-08-29T00:00:00\", \"1944-09-06T00:00:00\", \"1944-09-08T00:00:00\", \"1944-09-12T00:00:00\", \"1944-09-12T00:00:00\", \"1944-09-17T00:00:00\", \"1944-09-27T00:00:00\", \"1943-08-01T00:00:00\", \"1943-08-01T00:00:00\", \"1943-08-01T00:00:00\", \"1943-08-01T00:00:00\"], \"y\": [28.88888889, 31.66666667, 26.66666667, 26.66666667, 30.55555556, 31.11111111, 31.11111111, 31.11111111, 26.11111111, 27.77777778, 26.66666667, 27.77777778, 27.77777778, 26.66666667, 25.55555556, 27.22222222, 27.22222222, 27.22222222, 27.22222222]}],\n",
       "                        {\"template\": {\"data\": {\"bar\": [{\"error_x\": {\"color\": \"#2a3f5f\"}, \"error_y\": {\"color\": \"#2a3f5f\"}, \"marker\": {\"line\": {\"color\": \"#E5ECF6\", \"width\": 0.5}}, \"type\": \"bar\"}], \"barpolar\": [{\"marker\": {\"line\": {\"color\": \"#E5ECF6\", \"width\": 0.5}}, \"type\": \"barpolar\"}], \"carpet\": [{\"aaxis\": {\"endlinecolor\": \"#2a3f5f\", \"gridcolor\": \"white\", \"linecolor\": \"white\", \"minorgridcolor\": \"white\", \"startlinecolor\": \"#2a3f5f\"}, \"baxis\": {\"endlinecolor\": \"#2a3f5f\", \"gridcolor\": \"white\", \"linecolor\": \"white\", \"minorgridcolor\": \"white\", \"startlinecolor\": \"#2a3f5f\"}, \"type\": \"carpet\"}], \"choropleth\": [{\"colorbar\": {\"outlinewidth\": 0, \"ticks\": \"\"}, \"type\": \"choropleth\"}], \"contour\": [{\"colorbar\": {\"outlinewidth\": 0, \"ticks\": \"\"}, \"colorscale\": [[0.0, \"#0d0887\"], [0.1111111111111111, \"#46039f\"], [0.2222222222222222, \"#7201a8\"], [0.3333333333333333, \"#9c179e\"], [0.4444444444444444, \"#bd3786\"], [0.5555555555555556, \"#d8576b\"], [0.6666666666666666, \"#ed7953\"], [0.7777777777777778, \"#fb9f3a\"], [0.8888888888888888, \"#fdca26\"], [1.0, \"#f0f921\"]], \"type\": \"contour\"}], \"contourcarpet\": [{\"colorbar\": {\"outlinewidth\": 0, \"ticks\": \"\"}, \"type\": \"contourcarpet\"}], \"heatmap\": [{\"colorbar\": {\"outlinewidth\": 0, \"ticks\": \"\"}, \"colorscale\": [[0.0, \"#0d0887\"], [0.1111111111111111, \"#46039f\"], [0.2222222222222222, \"#7201a8\"], [0.3333333333333333, \"#9c179e\"], [0.4444444444444444, \"#bd3786\"], [0.5555555555555556, \"#d8576b\"], [0.6666666666666666, \"#ed7953\"], [0.7777777777777778, \"#fb9f3a\"], [0.8888888888888888, \"#fdca26\"], [1.0, \"#f0f921\"]], \"type\": \"heatmap\"}], \"heatmapgl\": [{\"colorbar\": {\"outlinewidth\": 0, \"ticks\": \"\"}, \"colorscale\": [[0.0, \"#0d0887\"], [0.1111111111111111, \"#46039f\"], [0.2222222222222222, \"#7201a8\"], [0.3333333333333333, \"#9c179e\"], [0.4444444444444444, \"#bd3786\"], [0.5555555555555556, \"#d8576b\"], [0.6666666666666666, \"#ed7953\"], [0.7777777777777778, \"#fb9f3a\"], [0.8888888888888888, \"#fdca26\"], [1.0, \"#f0f921\"]], \"type\": \"heatmapgl\"}], \"histogram\": [{\"marker\": {\"colorbar\": {\"outlinewidth\": 0, \"ticks\": \"\"}}, \"type\": \"histogram\"}], \"histogram2d\": [{\"colorbar\": {\"outlinewidth\": 0, \"ticks\": \"\"}, \"colorscale\": [[0.0, \"#0d0887\"], [0.1111111111111111, \"#46039f\"], [0.2222222222222222, \"#7201a8\"], [0.3333333333333333, \"#9c179e\"], [0.4444444444444444, \"#bd3786\"], [0.5555555555555556, \"#d8576b\"], [0.6666666666666666, \"#ed7953\"], [0.7777777777777778, \"#fb9f3a\"], [0.8888888888888888, \"#fdca26\"], [1.0, \"#f0f921\"]], \"type\": \"histogram2d\"}], \"histogram2dcontour\": [{\"colorbar\": {\"outlinewidth\": 0, \"ticks\": \"\"}, \"colorscale\": [[0.0, \"#0d0887\"], [0.1111111111111111, \"#46039f\"], [0.2222222222222222, \"#7201a8\"], [0.3333333333333333, \"#9c179e\"], [0.4444444444444444, \"#bd3786\"], [0.5555555555555556, \"#d8576b\"], [0.6666666666666666, \"#ed7953\"], [0.7777777777777778, \"#fb9f3a\"], [0.8888888888888888, \"#fdca26\"], [1.0, \"#f0f921\"]], \"type\": \"histogram2dcontour\"}], \"mesh3d\": [{\"colorbar\": {\"outlinewidth\": 0, \"ticks\": \"\"}, \"type\": \"mesh3d\"}], \"parcoords\": [{\"line\": {\"colorbar\": {\"outlinewidth\": 0, \"ticks\": \"\"}}, \"type\": \"parcoords\"}], \"pie\": [{\"automargin\": true, \"type\": \"pie\"}], \"scatter\": [{\"marker\": {\"colorbar\": {\"outlinewidth\": 0, \"ticks\": \"\"}}, \"type\": \"scatter\"}], \"scatter3d\": [{\"line\": {\"colorbar\": {\"outlinewidth\": 0, \"ticks\": \"\"}}, \"marker\": {\"colorbar\": {\"outlinewidth\": 0, \"ticks\": \"\"}}, \"type\": \"scatter3d\"}], \"scattercarpet\": [{\"marker\": {\"colorbar\": {\"outlinewidth\": 0, \"ticks\": \"\"}}, \"type\": \"scattercarpet\"}], \"scattergeo\": [{\"marker\": {\"colorbar\": {\"outlinewidth\": 0, \"ticks\": \"\"}}, \"type\": \"scattergeo\"}], \"scattergl\": [{\"marker\": {\"colorbar\": {\"outlinewidth\": 0, \"ticks\": \"\"}}, \"type\": \"scattergl\"}], \"scattermapbox\": [{\"marker\": {\"colorbar\": {\"outlinewidth\": 0, \"ticks\": \"\"}}, \"type\": \"scattermapbox\"}], \"scatterpolar\": [{\"marker\": {\"colorbar\": {\"outlinewidth\": 0, \"ticks\": \"\"}}, \"type\": \"scatterpolar\"}], \"scatterpolargl\": [{\"marker\": {\"colorbar\": {\"outlinewidth\": 0, \"ticks\": \"\"}}, \"type\": \"scatterpolargl\"}], \"scatterternary\": [{\"marker\": {\"colorbar\": {\"outlinewidth\": 0, \"ticks\": \"\"}}, \"type\": \"scatterternary\"}], \"surface\": [{\"colorbar\": {\"outlinewidth\": 0, \"ticks\": \"\"}, \"colorscale\": [[0.0, \"#0d0887\"], [0.1111111111111111, \"#46039f\"], [0.2222222222222222, \"#7201a8\"], [0.3333333333333333, \"#9c179e\"], [0.4444444444444444, \"#bd3786\"], [0.5555555555555556, \"#d8576b\"], [0.6666666666666666, \"#ed7953\"], [0.7777777777777778, \"#fb9f3a\"], [0.8888888888888888, \"#fdca26\"], [1.0, \"#f0f921\"]], \"type\": \"surface\"}], \"table\": [{\"cells\": {\"fill\": {\"color\": \"#EBF0F8\"}, \"line\": {\"color\": \"white\"}}, \"header\": {\"fill\": {\"color\": \"#C8D4E3\"}, \"line\": {\"color\": \"white\"}}, \"type\": \"table\"}]}, \"layout\": {\"annotationdefaults\": {\"arrowcolor\": \"#2a3f5f\", \"arrowhead\": 0, \"arrowwidth\": 1}, \"coloraxis\": {\"colorbar\": {\"outlinewidth\": 0, \"ticks\": \"\"}}, \"colorscale\": {\"diverging\": [[0, \"#8e0152\"], [0.1, \"#c51b7d\"], [0.2, \"#de77ae\"], [0.3, \"#f1b6da\"], [0.4, \"#fde0ef\"], [0.5, \"#f7f7f7\"], [0.6, \"#e6f5d0\"], [0.7, \"#b8e186\"], [0.8, \"#7fbc41\"], [0.9, \"#4d9221\"], [1, \"#276419\"]], \"sequential\": [[0.0, \"#0d0887\"], [0.1111111111111111, \"#46039f\"], [0.2222222222222222, \"#7201a8\"], [0.3333333333333333, \"#9c179e\"], [0.4444444444444444, \"#bd3786\"], [0.5555555555555556, \"#d8576b\"], [0.6666666666666666, \"#ed7953\"], [0.7777777777777778, \"#fb9f3a\"], [0.8888888888888888, \"#fdca26\"], [1.0, \"#f0f921\"]], \"sequentialminus\": [[0.0, \"#0d0887\"], [0.1111111111111111, \"#46039f\"], [0.2222222222222222, \"#7201a8\"], [0.3333333333333333, \"#9c179e\"], [0.4444444444444444, \"#bd3786\"], [0.5555555555555556, \"#d8576b\"], [0.6666666666666666, \"#ed7953\"], [0.7777777777777778, \"#fb9f3a\"], [0.8888888888888888, \"#fdca26\"], [1.0, \"#f0f921\"]]}, \"colorway\": [\"#636efa\", \"#EF553B\", \"#00cc96\", \"#ab63fa\", \"#FFA15A\", \"#19d3f3\", \"#FF6692\", \"#B6E880\", \"#FF97FF\", \"#FECB52\"], \"font\": {\"color\": \"#2a3f5f\"}, \"geo\": {\"bgcolor\": \"white\", \"lakecolor\": \"white\", \"landcolor\": \"#E5ECF6\", \"showlakes\": true, \"showland\": true, \"subunitcolor\": \"white\"}, \"hoverlabel\": {\"align\": \"left\"}, \"hovermode\": \"closest\", \"mapbox\": {\"style\": \"light\"}, \"paper_bgcolor\": \"white\", \"plot_bgcolor\": \"#E5ECF6\", \"polar\": {\"angularaxis\": {\"gridcolor\": \"white\", \"linecolor\": \"white\", \"ticks\": \"\"}, \"bgcolor\": \"#E5ECF6\", \"radialaxis\": {\"gridcolor\": \"white\", \"linecolor\": \"white\", \"ticks\": \"\"}}, \"scene\": {\"xaxis\": {\"backgroundcolor\": \"#E5ECF6\", \"gridcolor\": \"white\", \"gridwidth\": 2, \"linecolor\": \"white\", \"showbackground\": true, \"ticks\": \"\", \"zerolinecolor\": \"white\"}, \"yaxis\": {\"backgroundcolor\": \"#E5ECF6\", \"gridcolor\": \"white\", \"gridwidth\": 2, \"linecolor\": \"white\", \"showbackground\": true, \"ticks\": \"\", \"zerolinecolor\": \"white\"}, \"zaxis\": {\"backgroundcolor\": \"#E5ECF6\", \"gridcolor\": \"white\", \"gridwidth\": 2, \"linecolor\": \"white\", \"showbackground\": true, \"ticks\": \"\", \"zerolinecolor\": \"white\"}}, \"shapedefaults\": {\"line\": {\"color\": \"#2a3f5f\"}}, \"ternary\": {\"aaxis\": {\"gridcolor\": \"white\", \"linecolor\": \"white\", \"ticks\": \"\"}, \"baxis\": {\"gridcolor\": \"white\", \"linecolor\": \"white\", \"ticks\": \"\"}, \"bgcolor\": \"#E5ECF6\", \"caxis\": {\"gridcolor\": \"white\", \"linecolor\": \"white\", \"ticks\": \"\"}}, \"title\": {\"x\": 0.05}, \"xaxis\": {\"automargin\": true, \"gridcolor\": \"white\", \"linecolor\": \"white\", \"ticks\": \"\", \"title\": {\"standoff\": 15}, \"zerolinecolor\": \"white\", \"zerolinewidth\": 2}, \"yaxis\": {\"automargin\": true, \"gridcolor\": \"white\", \"linecolor\": \"white\", \"ticks\": \"\", \"title\": {\"standoff\": 15}, \"zerolinecolor\": \"white\", \"zerolinewidth\": 2}}}, \"title\": {\"text\": \"Mean Temperature --- Bombing Dates and Mean Temperature at this Date\"}},\n",
       "                        {\"responsive\": true}\n",
       "                    ).then(function(){\n",
       "                            \n",
       "var gd = document.getElementById('c7f3d1db-cb95-4c29-ae8e-944123d5929a');\n",
       "var x = new MutationObserver(function (mutations, observer) {{\n",
       "        var display = window.getComputedStyle(gd).display;\n",
       "        if (!display || display === 'none') {{\n",
       "            console.log([gd, 'removed!']);\n",
       "            Plotly.purge(gd);\n",
       "            observer.disconnect();\n",
       "        }}\n",
       "}});\n",
       "\n",
       "// Listen for the removal of the full notebook cells\n",
       "var notebookContainer = gd.closest('#notebook-container');\n",
       "if (notebookContainer) {{\n",
       "    x.observe(notebookContainer, {childList: true});\n",
       "}}\n",
       "\n",
       "// Listen for the clearing of the current output cell\n",
       "var outputEl = gd.closest('.output');\n",
       "if (outputEl) {{\n",
       "    x.observe(outputEl, {childList: true});\n",
       "}}\n",
       "\n",
       "                        })\n",
       "                };\n",
       "                });\n",
       "            </script>\n",
       "        </div>"
      ]
     },
     "metadata": {},
     "output_type": "display_data"
    }
   ],
   "source": [
    "trace=go.Scatter(x=weather_bin.Date,\n",
    "                y=weather_bin.MeanTemp,\n",
    "                mode='lines',marker=dict(color = 'rgba(16, 112, 2, 0.8)'),\n",
    "                name='Mean Temperature')\n",
    "trace1=go.Scatter(x=aerial_war['Mission Date'],y=aa,\n",
    "                 mode='markers',\n",
    "                 marker=dict(color='rgba(16, 0, 200, 1)'),\n",
    "                 name='Bombing Temperature')\n",
    "\n",
    "layout = dict(title = 'Mean Temperature --- Bombing Dates and Mean Temperature at this Date')\n",
    "data = [trace,trace1]\n",
    "\n",
    "fig = dict(data = data, layout = layout)\n",
    "iplot(fig)"
   ]
  },
  {
   "cell_type": "code",
   "execution_count": 164,
   "metadata": {},
   "outputs": [
    {
     "data": {
      "application/javascript": [
       "\n",
       "        if (window._pyforest_update_imports_cell) { window._pyforest_update_imports_cell('import tqdm\\nimport matplotlib.pyplot as plt\\nimport tensorflow as tf\\nfrom sklearn.model_selection import train_test_split'); }\n",
       "    "
      ],
      "text/plain": [
       "<IPython.core.display.Javascript object>"
      ]
     },
     "metadata": {},
     "output_type": "display_data"
    },
    {
     "data": {
      "application/javascript": [
       "\n",
       "        if (window._pyforest_update_imports_cell) { window._pyforest_update_imports_cell('import tqdm\\nimport matplotlib.pyplot as plt\\nimport tensorflow as tf\\nfrom sklearn.model_selection import train_test_split'); }\n",
       "    "
      ],
      "text/plain": [
       "<IPython.core.display.Javascript object>"
      ]
     },
     "metadata": {},
     "output_type": "display_data"
    },
    {
     "data": {
      "application/javascript": [
       "\n",
       "        if (window._pyforest_update_imports_cell) { window._pyforest_update_imports_cell('import tqdm\\nimport matplotlib.pyplot as plt\\nimport tensorflow as tf\\nfrom sklearn.model_selection import train_test_split'); }\n",
       "    "
      ],
      "text/plain": [
       "<IPython.core.display.Javascript object>"
      ]
     },
     "metadata": {},
     "output_type": "display_data"
    },
    {
     "data": {
      "application/javascript": [
       "\n",
       "        if (window._pyforest_update_imports_cell) { window._pyforest_update_imports_cell('import tqdm\\nimport matplotlib.pyplot as plt\\nimport tensorflow as tf\\nfrom sklearn.model_selection import train_test_split'); }\n",
       "    "
      ],
      "text/plain": [
       "<IPython.core.display.Javascript object>"
      ]
     },
     "metadata": {},
     "output_type": "display_data"
    },
    {
     "data": {
      "application/javascript": [
       "\n",
       "        if (window._pyforest_update_imports_cell) { window._pyforest_update_imports_cell('import tqdm\\nimport matplotlib.pyplot as plt\\nimport tensorflow as tf\\nfrom sklearn.model_selection import train_test_split'); }\n",
       "    "
      ],
      "text/plain": [
       "<IPython.core.display.Javascript object>"
      ]
     },
     "metadata": {},
     "output_type": "display_data"
    },
    {
     "data": {
      "application/javascript": [
       "\n",
       "        if (window._pyforest_update_imports_cell) { window._pyforest_update_imports_cell('import tqdm\\nimport matplotlib.pyplot as plt\\nimport tensorflow as tf\\nfrom sklearn.model_selection import train_test_split'); }\n",
       "    "
      ],
      "text/plain": [
       "<IPython.core.display.Javascript object>"
      ]
     },
     "metadata": {},
     "output_type": "display_data"
    },
    {
     "data": {
      "image/png": "[encoded data removed]",
      "text/plain": [
       "<Figure size 1584x720 with 1 Axes>"
      ]
     },
     "metadata": {
      "needs_background": "light"
     },
     "output_type": "display_data"
    }
   ],
   "source": [
    "plt.figure(figsize=(22,10))\n",
    "plt.plot(weather_bin.Date,weather_bin.MeanTemp)\n",
    "plt.title(\"Mean Temperature of Bindukuri Area\")\n",
    "plt.xlabel(\"Date\")\n",
    "plt.ylabel(\"Mean Temperature\")\n",
    "plt.show()"
   ]
  },
  {
   "cell_type": "code",
   "execution_count": 165,
   "metadata": {},
   "outputs": [
    {
     "data": {
      "text/plain": [
       "(751, 3)"
      ]
     },
     "execution_count": 165,
     "metadata": {},
     "output_type": "execute_result"
    }
   ],
   "source": [
    "weather_bin.shape"
   ]
  },
  {
   "cell_type": "code",
   "execution_count": null,
   "metadata": {},
   "outputs": [],
   "source": []
  },
  {
   "cell_type": "code",
   "execution_count": null,
   "metadata": {},
   "outputs": [],
   "source": []
  },
  {
   "cell_type": "code",
   "execution_count": null,
   "metadata": {},
   "outputs": [],
   "source": []
  },
  {
   "cell_type": "code",
   "execution_count": null,
   "metadata": {},
   "outputs": [],
   "source": []
  },
  {
   "cell_type": "code",
   "execution_count": null,
   "metadata": {},
   "outputs": [],
   "source": []
  },
  {
   "cell_type": "code",
   "execution_count": null,
   "metadata": {},
   "outputs": [],
   "source": []
  },
  {
   "cell_type": "code",
   "execution_count": null,
   "metadata": {},
   "outputs": [],
   "source": []
  },
  {
   "cell_type": "code",
   "execution_count": null,
   "metadata": {},
   "outputs": [],
   "source": []
  },
  {
   "cell_type": "code",
   "execution_count": null,
   "metadata": {},
   "outputs": [],
   "source": []
  },
  {
   "cell_type": "code",
   "execution_count": null,
   "metadata": {},
   "outputs": [],
   "source": []
  },
  {
   "cell_type": "code",
   "execution_count": null,
   "metadata": {},
   "outputs": [],
   "source": []
  },
  {
   "cell_type": "code",
   "execution_count": null,
   "metadata": {},
   "outputs": [],
   "source": []
  },
  {
   "cell_type": "code",
   "execution_count": null,
   "metadata": {},
   "outputs": [],
   "source": []
  },
  {
   "cell_type": "code",
   "execution_count": null,
   "metadata": {},
   "outputs": [],
   "source": []
  },
  {
   "cell_type": "code",
   "execution_count": null,
   "metadata": {},
   "outputs": [],
   "source": []
  },
  {
   "cell_type": "code",
   "execution_count": null,
   "metadata": {},
   "outputs": [],
   "source": []
  },
  {
   "cell_type": "code",
   "execution_count": null,
   "metadata": {},
   "outputs": [],
   "source": []
  },
  {
   "cell_type": "code",
   "execution_count": null,
   "metadata": {},
   "outputs": [],
   "source": []
  },
  {
   "cell_type": "code",
   "execution_count": null,
   "metadata": {},
   "outputs": [],
   "source": []
  },
  {
   "cell_type": "code",
   "execution_count": null,
   "metadata": {},
   "outputs": [],
   "source": []
  },
  {
   "cell_type": "code",
   "execution_count": null,
   "metadata": {},
   "outputs": [],
   "source": []
  },
  {
   "cell_type": "code",
   "execution_count": null,
   "metadata": {},
   "outputs": [],
   "source": []
  },
  {
   "cell_type": "code",
   "execution_count": null,
   "metadata": {},
   "outputs": [],
   "source": []
  },
  {
   "cell_type": "code",
   "execution_count": null,
   "metadata": {},
   "outputs": [],
   "source": []
  },
  {
   "cell_type": "code",
   "execution_count": null,
   "metadata": {},
   "outputs": [],
   "source": []
  },
  {
   "cell_type": "code",
   "execution_count": null,
   "metadata": {},
   "outputs": [],
   "source": []
  },
  {
   "cell_type": "code",
   "execution_count": null,
   "metadata": {},
   "outputs": [],
   "source": []
  },
  {
   "cell_type": "code",
   "execution_count": null,
   "metadata": {},
   "outputs": [],
   "source": []
  },
  {
   "cell_type": "code",
   "execution_count": null,
   "metadata": {},
   "outputs": [],
   "source": []
  },
  {
   "cell_type": "code",
   "execution_count": null,
   "metadata": {},
   "outputs": [],
   "source": []
  },
  {
   "cell_type": "code",
   "execution_count": null,
   "metadata": {},
   "outputs": [],
   "source": []
  },
  {
   "cell_type": "code",
   "execution_count": null,
   "metadata": {},
   "outputs": [],
   "source": []
  },
  {
   "cell_type": "code",
   "execution_count": null,
   "metadata": {},
   "outputs": [],
   "source": []
  },
  {
   "cell_type": "code",
   "execution_count": null,
   "metadata": {},
   "outputs": [],
   "source": []
  },
  {
   "cell_type": "code",
   "execution_count": null,
   "metadata": {},
   "outputs": [],
   "source": []
  },
  {
   "cell_type": "code",
   "execution_count": null,
   "metadata": {},
   "outputs": [],
   "source": []
  },
  {
   "cell_type": "code",
   "execution_count": null,
   "metadata": {},
   "outputs": [],
   "source": []
  },
  {
   "cell_type": "code",
   "execution_count": null,
   "metadata": {},
   "outputs": [],
   "source": []
  },
  {
   "cell_type": "code",
   "execution_count": null,
   "metadata": {},
   "outputs": [],
   "source": []
  },
  {
   "cell_type": "code",
   "execution_count": null,
   "metadata": {},
   "outputs": [],
   "source": []
  },
  {
   "cell_type": "code",
   "execution_count": null,
   "metadata": {},
   "outputs": [],
   "source": []
  },
  {
   "cell_type": "code",
   "execution_count": null,
   "metadata": {},
   "outputs": [],
   "source": []
  },
  {
   "cell_type": "code",
   "execution_count": null,
   "metadata": {},
   "outputs": [],
   "source": []
  },
  {
   "cell_type": "code",
   "execution_count": null,
   "metadata": {},
   "outputs": [],
   "source": []
  },
  {
   "cell_type": "code",
   "execution_count": null,
   "metadata": {},
   "outputs": [],
   "source": []
  },
  {
   "cell_type": "code",
   "execution_count": null,
   "metadata": {},
   "outputs": [],
   "source": []
  },
  {
   "cell_type": "code",
   "execution_count": null,
   "metadata": {},
   "outputs": [],
   "source": []
  },
  {
   "cell_type": "code",
   "execution_count": null,
   "metadata": {},
   "outputs": [],
   "source": []
  },
  {
   "cell_type": "code",
   "execution_count": null,
   "metadata": {},
   "outputs": [],
   "source": []
  },
  {
   "cell_type": "code",
   "execution_count": null,
   "metadata": {},
   "outputs": [],
   "source": []
  },
  {
   "cell_type": "code",
   "execution_count": null,
   "metadata": {},
   "outputs": [],
   "source": []
  },
  {
   "cell_type": "code",
   "execution_count": null,
   "metadata": {},
   "outputs": [],
   "source": []
  },
  {
   "cell_type": "code",
   "execution_count": null,
   "metadata": {},
   "outputs": [],
   "source": []
  },
  {
   "cell_type": "code",
   "execution_count": null,
   "metadata": {},
   "outputs": [],
   "source": []
  },
  {
   "cell_type": "code",
   "execution_count": null,
   "metadata": {},
   "outputs": [],
   "source": []
  },
  {
   "cell_type": "code",
   "execution_count": null,
   "metadata": {},
   "outputs": [],
   "source": []
  }
 ],
 "metadata": {
  "kernelspec": {
   "display_name": "Python 3",
   "language": "python",
   "name": "python3"
  },
  "language_info": {
   "codemirror_mode": {
    "name": "ipython",
    "version": 3
   },
   "file_extension": ".py",
   "mimetype": "text/x-python",
   "name": "python",
   "nbconvert_exporter": "python",
   "pygments_lexer": "ipython3",
   "version": "3.7.7"
  }
 },
 "nbformat": 4,
 "nbformat_minor": 4
}
